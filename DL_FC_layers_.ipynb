{
  "nbformat": 4,
  "nbformat_minor": 0,
  "metadata": {
    "colab": {
      "provenance": []
    },
    "kernelspec": {
      "name": "python3",
      "display_name": "Python 3"
    },
    "language_info": {
      "name": "python"
    }
  },
  "cells": [
    {
      "cell_type": "code",
      "source": [
        "import numpy as np\n",
        "import pandas as pd\n",
        "import torch\n",
        "import torch.nn as nn\n",
        "import torch.optim as optim\n",
        "from sklearn.model_selection import train_test_split\n",
        "from sklearn.preprocessing import StandardScaler, OneHotEncoder\n",
        "from sklearn.metrics import accuracy_score, f1_score\n",
        "import matplotlib.pyplot as plt"
      ],
      "metadata": {
        "id": "33DplMYN1036"
      },
      "execution_count": 1,
      "outputs": []
    },
    {
      "cell_type": "code",
      "execution_count": 2,
      "metadata": {
        "id": "FCCbvd-Lzlgw"
      },
      "outputs": [],
      "source": [
        "import pandas as pd\n",
        "import numpy as np\n",
        "import torch\n",
        "\n",
        "from sklearn.model_selection import train_test_split"
      ]
    },
    {
      "cell_type": "markdown",
      "source": [
        "## Сбор данных"
      ],
      "metadata": {
        "id": "xX9xirzr0qMA"
      }
    },
    {
      "cell_type": "code",
      "source": [
        "df = pd.read_csv('teams_matches_stats-2.csv')\n",
        "df.drop('Unnamed: 0', axis = 1, inplace = True)\n",
        "df.sort_values(by = 'date', ignore_index = 'True', inplace = True)\n",
        "y = list(map((lambda i: 1 if i == 'W' else 0), df['result']))\n",
        "data = df.drop([ 'Opp Formation', 'Formation', 'Captain', 'Referee','result','time','game', 'day', 'season','GT', 'Gdiff'], axis = 1)"
      ],
      "metadata": {
        "id": "4E4koeUDzofj"
      },
      "execution_count": 41,
      "outputs": []
    },
    {
      "cell_type": "code",
      "source": [
        "def getStats(team, date, df = data):\n",
        "    srez = df[(df['team']== team)&(df['date'] < date)]\n",
        "    if 0 < len(srez) < 10:\n",
        "      stats = srez.drop(['team','date', 'opponent', 'venue'], axis = 1).sum()/len(srez)\n",
        "    elif len(srez) >= 10:\n",
        "      stats = srez.drop(['team','date', 'opponent', 'venue'], axis = 1)[-10:].sum()/10\n",
        "    else:\n",
        "      srez = df[(df['team']== team)&(df['date'] <= date)]\n",
        "      stats = srez.drop(['team','date', 'opponent', 'venue'], axis = 1).sum()\n",
        "\n",
        "    return stats.values.tolist()"
      ],
      "metadata": {
        "id": "Bp2efhKszock"
      },
      "execution_count": 42,
      "outputs": []
    },
    {
      "cell_type": "code",
      "source": [
        "def GetTrain(data):\n",
        "  features = []\n",
        "  for i in range(len(data)):\n",
        "    team1 = getStats(data['team'][i], data['date'][i])\n",
        "    team2 = getStats(data['opponent'][i], data['date'][i])\n",
        "    diff = [a - b for a, b in zip(team1, team2)]\n",
        "    features.append(diff)\n",
        "  return features"
      ],
      "metadata": {
        "id": "OOm-08qYzoZ0"
      },
      "execution_count": 43,
      "outputs": []
    },
    {
      "cell_type": "code",
      "source": [
        "feat_data = GetTrain(data)\n",
        "x = pd.DataFrame(feat_data, columns=data.drop(['team', 'date', 'opponent', 'venue'], axis=1).columns)\n",
        "x = pd.concat([x, data['venue']], axis=1)\n",
        "num_cols = x.dtypes[(x.dtypes == 'int64') | (x.dtypes == 'float64')].index.tolist()\n",
        "cat_cols = x.dtypes[x.dtypes == 'object'].index.tolist()"
      ],
      "metadata": {
        "id": "aw_qaETizoW9"
      },
      "execution_count": 44,
      "outputs": []
    },
    {
      "cell_type": "code",
      "source": [
        "X_train, X_test, y_train, y_test = train_test_split(x, y,\n",
        "                                                    train_size=0.8,\n",
        "                                                    random_state=125)\n",
        "X_test, X_val, y_test, y_val = train_test_split(X_test, y_test,\n",
        "                                                    train_size=0.5,\n",
        "                                                    random_state=125)\n",
        "X_train, X_test = X_train.reset_index(drop=True), X_test.reset_index(drop=True)\n",
        "X_val = X_val.reset_index(drop=True)"
      ],
      "metadata": {
        "id": "_e5vBdkwzoU2"
      },
      "execution_count": 45,
      "outputs": []
    },
    {
      "cell_type": "code",
      "source": [
        "enc = OneHotEncoder(handle_unknown='ignore',drop = 'first', sparse_output = False)\n",
        "encd = enc.fit_transform(X_train[['venue']])\n",
        "encd_test = enc.transform(X_test[['venue']])\n",
        "encd_val = enc.transform(X_val[['venue']])\n",
        "\n",
        "one_hot_df = pd.DataFrame(encd, columns=enc.get_feature_names_out(['venue']))\n",
        "one_hot_df_val = pd.DataFrame(encd_val, columns=enc.get_feature_names_out(['venue']))\n",
        "one_hot_df_test = pd.DataFrame(encd_test, columns=enc.get_feature_names_out(['venue']))\n",
        "\n",
        "X_train = pd.concat([X_train.drop(['venue'], axis = 1), one_hot_df], axis = 1)\n",
        "X_val = pd.concat([X_val.drop(['venue'], axis = 1), one_hot_df_val], axis = 1)\n",
        "X_test = pd.concat([X_test.drop(['venue'], axis = 1), one_hot_df_test], axis = 1)"
      ],
      "metadata": {
        "id": "NoJ9cNBz1hit"
      },
      "execution_count": 46,
      "outputs": []
    },
    {
      "cell_type": "code",
      "source": [
        "normalizer = StandardScaler()\n",
        "scaler = normalizer.fit(X_train)\n",
        "X_train_norm = scaler.transform(X_train)\n",
        "X_val_norm = scaler.transform(X_val)\n",
        "X_test_norm = scaler.transform(X_test)"
      ],
      "metadata": {
        "id": "r-8Ui3kP1k6V"
      },
      "execution_count": 47,
      "outputs": []
    },
    {
      "cell_type": "code",
      "source": [
        "X_train = torch.FloatTensor(X_train_norm)\n",
        "y_train = torch.LongTensor(y_train)\n",
        "X_val = torch.FloatTensor(X_val_norm)\n",
        "y_val = torch.LongTensor(y_val)\n",
        "X_test = torch.FloatTensor(X_test_norm)\n",
        "y_test = torch.LongTensor(y_test)"
      ],
      "metadata": {
        "id": "PWvkqeAh16iZ"
      },
      "execution_count": 48,
      "outputs": []
    },
    {
      "cell_type": "code",
      "source": [
        "class NeuralNet(nn.Module):\n",
        "    def __init__(self, input_size):\n",
        "        super(NeuralNet, self).__init__()\n",
        "        self.fc1 = nn.Linear(input_size, 64)\n",
        "        self.fc2 = nn.Linear(64, 32)\n",
        "        self.batch = nn.BatchNorm1d(num_features=32)\n",
        "        self.fc3 = nn.Linear(32, 2)\n",
        "        self.relu = nn.GELU()\n",
        "        self.dropout = nn.Dropout(0.2)\n",
        "\n",
        "    def forward(self, x):\n",
        "        x = self.relu(self.fc1(x))\n",
        "        x = self.dropout(x)\n",
        "        x = self.relu(self.fc2(x))\n",
        "        x = self.dropout(x)\n",
        "        x = self.fc3(self.batch(x))\n",
        "        return x"
      ],
      "metadata": {
        "id": "mGPYc6-w1HiV"
      },
      "execution_count": 54,
      "outputs": []
    },
    {
      "cell_type": "code",
      "source": [
        "from torch.optim.lr_scheduler import ReduceLROnPlateau"
      ],
      "metadata": {
        "id": "Ezfy40dkFriw"
      },
      "execution_count": 55,
      "outputs": []
    },
    {
      "cell_type": "code",
      "source": [
        "model = NeuralNet(input_size=X_train.shape[1])\n",
        "criterion = nn.CrossEntropyLoss()\n",
        "optimizer = optim.AdamW(model.parameters(), lr=0.001, weight_decay=1e-4)\n",
        "scheduler = ReduceLROnPlateau(optimizer, mode='min', factor=0.5, patience=3)"
      ],
      "metadata": {
        "id": "2AyERZ3p2C2y"
      },
      "execution_count": 56,
      "outputs": []
    },
    {
      "cell_type": "code",
      "source": [
        "train_losses, val_losses = [], []\n",
        "best_val_loss = float('inf')\n",
        "patience = 5\n",
        "trigger_times = 0\n",
        "\n",
        "for epoch in range(100):\n",
        "    model.train()\n",
        "    optimizer.zero_grad()\n",
        "    outputs = model(X_train)\n",
        "    loss = criterion(outputs, y_train)\n",
        "    loss.backward()\n",
        "    optimizer.step()\n",
        "    train_losses.append(loss.item())\n",
        "\n",
        "    # Валидация\n",
        "    model.eval()\n",
        "    with torch.no_grad():\n",
        "        val_outputs = model(X_val)\n",
        "        val_loss = criterion(val_outputs, y_val)\n",
        "        val_losses.append(val_loss.item())\n",
        "\n",
        "    # Ранняя остановка\n",
        "    if val_loss < best_val_loss:\n",
        "        best_val_loss = val_loss\n",
        "        trigger_times = 0\n",
        "        torch.save(model.state_dict(), 'best_model.pth')\n",
        "    else:\n",
        "        trigger_times += 1\n",
        "        if trigger_times >= patience:\n",
        "            print(f'Early stopping at epoch {epoch}')\n",
        "            break\n",
        "\n",
        "    print(f'Epoch {epoch}: Train Loss = {loss.item():.4f}, Val Loss = {val_loss.item():.4f}')"
      ],
      "metadata": {
        "colab": {
          "base_uri": "https://localhost:8080/"
        },
        "id": "WcGmVTjM1Hf4",
        "outputId": "3d1ee200-cb91-49ba-f3f6-761178131d38"
      },
      "execution_count": 57,
      "outputs": [
        {
          "output_type": "stream",
          "name": "stdout",
          "text": [
            "Epoch 0: Train Loss = 0.7601, Val Loss = 0.7114\n",
            "Epoch 1: Train Loss = 0.7342, Val Loss = 0.7067\n",
            "Epoch 2: Train Loss = 0.7209, Val Loss = 0.7027\n",
            "Epoch 3: Train Loss = 0.7125, Val Loss = 0.6991\n",
            "Epoch 4: Train Loss = 0.6945, Val Loss = 0.6960\n",
            "Epoch 5: Train Loss = 0.6897, Val Loss = 0.6934\n",
            "Epoch 6: Train Loss = 0.6866, Val Loss = 0.6912\n",
            "Epoch 7: Train Loss = 0.6754, Val Loss = 0.6892\n",
            "Epoch 8: Train Loss = 0.6767, Val Loss = 0.6874\n",
            "Epoch 9: Train Loss = 0.6728, Val Loss = 0.6858\n",
            "Epoch 10: Train Loss = 0.6670, Val Loss = 0.6841\n",
            "Epoch 11: Train Loss = 0.6618, Val Loss = 0.6825\n",
            "Epoch 12: Train Loss = 0.6637, Val Loss = 0.6807\n",
            "Epoch 13: Train Loss = 0.6612, Val Loss = 0.6788\n",
            "Epoch 14: Train Loss = 0.6634, Val Loss = 0.6767\n",
            "Epoch 15: Train Loss = 0.6562, Val Loss = 0.6745\n",
            "Epoch 16: Train Loss = 0.6501, Val Loss = 0.6723\n",
            "Epoch 17: Train Loss = 0.6546, Val Loss = 0.6699\n",
            "Epoch 18: Train Loss = 0.6495, Val Loss = 0.6676\n",
            "Epoch 19: Train Loss = 0.6515, Val Loss = 0.6654\n",
            "Epoch 20: Train Loss = 0.6505, Val Loss = 0.6635\n",
            "Epoch 21: Train Loss = 0.6461, Val Loss = 0.6616\n",
            "Epoch 22: Train Loss = 0.6487, Val Loss = 0.6601\n",
            "Epoch 23: Train Loss = 0.6490, Val Loss = 0.6586\n",
            "Epoch 24: Train Loss = 0.6483, Val Loss = 0.6573\n",
            "Epoch 25: Train Loss = 0.6453, Val Loss = 0.6562\n",
            "Epoch 26: Train Loss = 0.6466, Val Loss = 0.6551\n",
            "Epoch 27: Train Loss = 0.6438, Val Loss = 0.6542\n",
            "Epoch 28: Train Loss = 0.6445, Val Loss = 0.6533\n",
            "Epoch 29: Train Loss = 0.6422, Val Loss = 0.6524\n",
            "Epoch 30: Train Loss = 0.6380, Val Loss = 0.6517\n",
            "Epoch 31: Train Loss = 0.6399, Val Loss = 0.6509\n",
            "Epoch 32: Train Loss = 0.6368, Val Loss = 0.6501\n",
            "Epoch 33: Train Loss = 0.6393, Val Loss = 0.6493\n",
            "Epoch 34: Train Loss = 0.6398, Val Loss = 0.6486\n",
            "Epoch 35: Train Loss = 0.6381, Val Loss = 0.6479\n",
            "Epoch 36: Train Loss = 0.6367, Val Loss = 0.6471\n",
            "Epoch 37: Train Loss = 0.6384, Val Loss = 0.6465\n",
            "Epoch 38: Train Loss = 0.6354, Val Loss = 0.6459\n",
            "Epoch 39: Train Loss = 0.6384, Val Loss = 0.6454\n",
            "Epoch 40: Train Loss = 0.6365, Val Loss = 0.6449\n",
            "Epoch 41: Train Loss = 0.6369, Val Loss = 0.6445\n",
            "Epoch 42: Train Loss = 0.6365, Val Loss = 0.6441\n",
            "Epoch 43: Train Loss = 0.6343, Val Loss = 0.6439\n",
            "Epoch 44: Train Loss = 0.6323, Val Loss = 0.6436\n",
            "Epoch 45: Train Loss = 0.6334, Val Loss = 0.6434\n",
            "Epoch 46: Train Loss = 0.6325, Val Loss = 0.6432\n",
            "Epoch 47: Train Loss = 0.6332, Val Loss = 0.6431\n",
            "Epoch 48: Train Loss = 0.6320, Val Loss = 0.6429\n",
            "Epoch 49: Train Loss = 0.6291, Val Loss = 0.6427\n",
            "Epoch 50: Train Loss = 0.6323, Val Loss = 0.6425\n",
            "Epoch 51: Train Loss = 0.6334, Val Loss = 0.6423\n",
            "Epoch 52: Train Loss = 0.6269, Val Loss = 0.6422\n",
            "Epoch 53: Train Loss = 0.6313, Val Loss = 0.6420\n",
            "Epoch 54: Train Loss = 0.6292, Val Loss = 0.6418\n",
            "Epoch 55: Train Loss = 0.6286, Val Loss = 0.6416\n",
            "Epoch 56: Train Loss = 0.6311, Val Loss = 0.6415\n",
            "Epoch 57: Train Loss = 0.6306, Val Loss = 0.6414\n",
            "Epoch 58: Train Loss = 0.6297, Val Loss = 0.6413\n",
            "Epoch 59: Train Loss = 0.6278, Val Loss = 0.6412\n",
            "Epoch 60: Train Loss = 0.6311, Val Loss = 0.6412\n",
            "Epoch 61: Train Loss = 0.6271, Val Loss = 0.6411\n",
            "Epoch 62: Train Loss = 0.6253, Val Loss = 0.6412\n",
            "Epoch 63: Train Loss = 0.6262, Val Loss = 0.6412\n",
            "Epoch 64: Train Loss = 0.6277, Val Loss = 0.6412\n",
            "Epoch 65: Train Loss = 0.6264, Val Loss = 0.6412\n",
            "Early stopping at epoch 66\n"
          ]
        }
      ]
    },
    {
      "cell_type": "code",
      "source": [
        "model.eval()\n",
        "with torch.no_grad():\n",
        "    test_outputs = model(X_test)\n",
        "    _, predicted = torch.max(test_outputs, 1)\n",
        "    accuracy = accuracy_score(y_test, predicted)\n",
        "    f1 = f1_score(y_test, predicted, average='macro')\n",
        "\n",
        "print(f'Test Accuracy: {accuracy:.4f}, F1-Score: {f1:.4f}')"
      ],
      "metadata": {
        "colab": {
          "base_uri": "https://localhost:8080/"
        },
        "id": "fghrKgLx1HdH",
        "outputId": "55873273-8d0f-423d-d944-ac7eeebb3073"
      },
      "execution_count": 58,
      "outputs": [
        {
          "output_type": "stream",
          "name": "stdout",
          "text": [
            "Test Accuracy: 0.6612, F1-Score: 0.6601\n"
          ]
        }
      ]
    },
    {
      "cell_type": "code",
      "source": [
        "plt.plot(train_losses, label='Train Loss')\n",
        "plt.plot(val_losses, label='Val Loss')\n",
        "plt.xlabel('Epoch')\n",
        "plt.ylabel('Loss')\n",
        "plt.legend()\n",
        "plt.show()"
      ],
      "metadata": {
        "colab": {
          "base_uri": "https://localhost:8080/",
          "height": 449
        },
        "id": "s_7cACdz01e6",
        "outputId": "c91cf5c6-e3d7-47c9-ad36-dfa6a5a5115f"
      },
      "execution_count": 59,
      "outputs": [
        {
          "output_type": "display_data",
          "data": {
            "text/plain": [
              "<Figure size 640x480 with 1 Axes>"
            ],
            "image/png": "[encoded data removed]"
          },
          "metadata": {}
        }
      ]
    },
    {
      "cell_type": "markdown",
      "source": [
        "## Optuna"
      ],
      "metadata": {
        "id": "zfwPAC-pE631"
      }
    },
    {
      "cell_type": "code",
      "source": [
        "!pip install optuna -q"
      ],
      "metadata": {
        "id": "N5RrjmZvG-Ih"
      },
      "execution_count": 28,
      "outputs": []
    },
    {
      "cell_type": "code",
      "source": [
        "import optuna\n",
        "from optuna.trial import TrialState"
      ],
      "metadata": {
        "id": "APRbQUP_G9Qv"
      },
      "execution_count": 18,
      "outputs": []
    },
    {
      "cell_type": "code",
      "source": [
        "def define_model(trial, input_size):\n",
        "    n_layers = trial.suggest_int('n_layers', 2, 5)\n",
        "    layers = []\n",
        "    in_features = input_size\n",
        "\n",
        "    for i in range(n_layers):\n",
        "        out_features = trial.suggest_int(f'n_units_layer_{i}', 64, 256, step=32)\n",
        "        layers.append(nn.Linear(in_features, out_features))\n",
        "        layers.append(nn.BatchNorm1d(out_features))\n",
        "        layers.append(nn.GELU())\n",
        "        dropout_rate = trial.suggest_float(f'dropout_layer_{i}', 0.1, 0.5)\n",
        "        layers.append(nn.Dropout(dropout_rate))\n",
        "        in_features = out_features\n",
        "\n",
        "    layers.append(nn.Linear(in_features, 2))\n",
        "    return nn.Sequential(*layers)\n",
        "\n",
        "def objective(trial):\n",
        "    model = define_model(trial, X_train.shape[1])\n",
        "    criterion = nn.CrossEntropyLoss()\n",
        "\n",
        "    lr = trial.suggest_float('lr', 1e-5, 1e-2, log=True)\n",
        "    weight_decay = trial.suggest_float('weight_decay', 1e-6, 1e-3, log=True)\n",
        "    optimizer = optim.AdamW(model.parameters(), lr=lr, weight_decay=weight_decay)\n",
        "\n",
        "    n_epochs = trial.suggest_int('n_epochs', 50, 200)\n",
        "    patience = 5\n",
        "    best_val_loss = float('inf')\n",
        "    trigger_times = 0\n",
        "\n",
        "    for epoch in range(n_epochs):\n",
        "        model.train()\n",
        "        optimizer.zero_grad()\n",
        "        outputs = model(X_train)\n",
        "        loss = criterion(outputs, y_train)\n",
        "        loss.backward()\n",
        "        optimizer.step()\n",
        "\n",
        "        model.eval()\n",
        "        with torch.no_grad():\n",
        "            val_outputs = model(X_val)\n",
        "            val_loss = criterion(val_outputs, y_val).item()\n",
        "\n",
        "        if val_loss < best_val_loss:\n",
        "            best_val_loss = val_loss\n",
        "            trigger_times = 0\n",
        "        else:\n",
        "            trigger_times += 1\n",
        "            if trigger_times >= patience:\n",
        "                break\n",
        "\n",
        "    return best_val_loss\n",
        "\n",
        "study = optuna.create_study(direction='minimize')\n",
        "study.optimize(objective, n_trials=50, timeout=3600)  # 50 trials или 1 час\n",
        "\n",
        "print(\"Лучшие гиперпараметры:\")\n",
        "best_params = study.best_params\n",
        "for key, value in best_params.items():\n",
        "    print(f\"{key}: {value}\")\n",
        "\n",
        "final_model = define_model(optuna.trial.FixedTrial(best_params), X_train.shape[1])\n",
        "optimizer = optim.AdamW(\n",
        "    final_model.parameters(),\n",
        "    lr=best_params['lr'],\n",
        "    weight_decay=best_params['weight_decay']\n",
        ")\n",
        "\n",
        "for epoch in range(best_params['n_epochs']):\n",
        "    final_model.train()\n",
        "    optimizer.zero_grad()\n",
        "    outputs = final_model(X_train)\n",
        "    loss = criterion(outputs, y_train)\n",
        "    loss.backward()\n",
        "    optimizer.step()"
      ],
      "metadata": {
        "colab": {
          "base_uri": "https://localhost:8080/"
        },
        "id": "gei8JXRX01Z8",
        "outputId": "3bec36fa-f50f-4f41-8ea7-0f72246fc75d"
      },
      "execution_count": 19,
      "outputs": [
        {
          "output_type": "stream",
          "name": "stderr",
          "text": [
            "[I 2025-06-10 16:34:46,945] A new study created in memory with name: no-name-32ac06dc-d607-4e94-b885-44e1aa386f09\n",
            "[I 2025-06-10 16:35:52,088] Trial 0 finished with value: 0.6492549180984497 and parameters: {'n_layers': 5, 'n_units_layer_0': 128, 'dropout_layer_0': 0.23974866509059822, 'n_units_layer_1': 96, 'dropout_layer_1': 0.4259515024439521, 'n_units_layer_2': 224, 'dropout_layer_2': 0.24760856678949272, 'n_units_layer_3': 160, 'dropout_layer_3': 0.4100043560721812, 'n_units_layer_4': 128, 'dropout_layer_4': 0.4633923322139717, 'lr': 6.087843914555008e-05, 'weight_decay': 1.1120566449430665e-06, 'n_epochs': 139}. Best is trial 0 with value: 0.6492549180984497.\n",
            "[I 2025-06-10 16:35:54,156] Trial 1 finished with value: 0.638554573059082 and parameters: {'n_layers': 2, 'n_units_layer_0': 224, 'dropout_layer_0': 0.3044438913018377, 'n_units_layer_1': 96, 'dropout_layer_1': 0.4821958353241861, 'lr': 0.0021759689170679003, 'weight_decay': 0.0004632967002755438, 'n_epochs': 113}. Best is trial 1 with value: 0.638554573059082.\n",
            "[I 2025-06-10 16:36:05,782] Trial 2 finished with value: 0.6458523869514465 and parameters: {'n_layers': 5, 'n_units_layer_0': 96, 'dropout_layer_0': 0.24455124708958742, 'n_units_layer_1': 192, 'dropout_layer_1': 0.4998971281452498, 'n_units_layer_2': 192, 'dropout_layer_2': 0.1886086440948228, 'n_units_layer_3': 96, 'dropout_layer_3': 0.4609370573074999, 'n_units_layer_4': 64, 'dropout_layer_4': 0.1989764455229438, 'lr': 0.00022533598807178683, 'weight_decay': 6.630885440654825e-05, 'n_epochs': 161}. Best is trial 1 with value: 0.638554573059082.\n",
            "[I 2025-06-10 16:36:07,552] Trial 3 finished with value: 0.6453779339790344 and parameters: {'n_layers': 2, 'n_units_layer_0': 64, 'dropout_layer_0': 0.16160362523598468, 'n_units_layer_1': 64, 'dropout_layer_1': 0.18956003966750254, 'lr': 0.0004603947500017712, 'weight_decay': 0.00011723235137092315, 'n_epochs': 60}. Best is trial 1 with value: 0.638554573059082.\n",
            "[I 2025-06-10 16:36:14,815] Trial 4 finished with value: 0.6387904286384583 and parameters: {'n_layers': 5, 'n_units_layer_0': 256, 'dropout_layer_0': 0.10681895539912359, 'n_units_layer_1': 96, 'dropout_layer_1': 0.463369590460064, 'n_units_layer_2': 192, 'dropout_layer_2': 0.2863839120387256, 'n_units_layer_3': 96, 'dropout_layer_3': 0.2487879622785851, 'n_units_layer_4': 224, 'dropout_layer_4': 0.46056150436732035, 'lr': 0.001224170426614603, 'weight_decay': 4.229682751950192e-05, 'n_epochs': 165}. Best is trial 1 with value: 0.638554573059082.\n",
            "[I 2025-06-10 16:36:18,797] Trial 5 finished with value: 0.6394516229629517 and parameters: {'n_layers': 3, 'n_units_layer_0': 96, 'dropout_layer_0': 0.25524435637909726, 'n_units_layer_1': 224, 'dropout_layer_1': 0.3511198831321384, 'n_units_layer_2': 224, 'dropout_layer_2': 0.2735682523115862, 'lr': 0.0017587608283705296, 'weight_decay': 0.00016702344817324797, 'n_epochs': 117}. Best is trial 1 with value: 0.638554573059082.\n",
            "[I 2025-06-10 16:36:19,311] Trial 6 finished with value: 0.7034991979598999 and parameters: {'n_layers': 2, 'n_units_layer_0': 96, 'dropout_layer_0': 0.25483024610858085, 'n_units_layer_1': 224, 'dropout_layer_1': 0.499463649356353, 'lr': 1.1670593036945469e-05, 'weight_decay': 0.000139851772980028, 'n_epochs': 78}. Best is trial 1 with value: 0.638554573059082.\n",
            "[I 2025-06-10 16:36:23,981] Trial 7 finished with value: 0.6394069790840149 and parameters: {'n_layers': 4, 'n_units_layer_0': 128, 'dropout_layer_0': 0.33583338659723105, 'n_units_layer_1': 256, 'dropout_layer_1': 0.47008399233555, 'n_units_layer_2': 192, 'dropout_layer_2': 0.25243241097864716, 'n_units_layer_3': 224, 'dropout_layer_3': 0.3335699937033675, 'lr': 0.0035977546645365077, 'weight_decay': 2.1373671422526306e-06, 'n_epochs': 163}. Best is trial 1 with value: 0.638554573059082.\n",
            "[I 2025-06-10 16:36:43,939] Trial 8 finished with value: 0.6474761962890625 and parameters: {'n_layers': 5, 'n_units_layer_0': 256, 'dropout_layer_0': 0.151269312471422, 'n_units_layer_1': 256, 'dropout_layer_1': 0.46326147142685226, 'n_units_layer_2': 96, 'dropout_layer_2': 0.27648124324572143, 'n_units_layer_3': 192, 'dropout_layer_3': 0.4184515260594659, 'n_units_layer_4': 64, 'dropout_layer_4': 0.10314156309885579, 'lr': 5.69571284694604e-05, 'weight_decay': 0.0006130185015227452, 'n_epochs': 66}. Best is trial 1 with value: 0.638554573059082.\n",
            "[I 2025-06-10 16:36:50,785] Trial 9 finished with value: 0.6410236954689026 and parameters: {'n_layers': 4, 'n_units_layer_0': 160, 'dropout_layer_0': 0.31641013158864656, 'n_units_layer_1': 96, 'dropout_layer_1': 0.2567994648107077, 'n_units_layer_2': 256, 'dropout_layer_2': 0.36670790379389007, 'n_units_layer_3': 160, 'dropout_layer_3': 0.1220621694229092, 'lr': 0.000558326174161337, 'weight_decay': 3.837414626068443e-05, 'n_epochs': 152}. Best is trial 1 with value: 0.638554573059082.\n",
            "[I 2025-06-10 16:36:54,676] Trial 10 finished with value: 0.6412402987480164 and parameters: {'n_layers': 3, 'n_units_layer_0': 192, 'dropout_layer_0': 0.4660471610579809, 'n_units_layer_1': 160, 'dropout_layer_1': 0.3541519850657584, 'n_units_layer_2': 64, 'dropout_layer_2': 0.49017634629519213, 'lr': 0.0036646005615889004, 'weight_decay': 7.972665435159207e-06, 'n_epochs': 197}. Best is trial 1 with value: 0.638554573059082.\n",
            "[I 2025-06-10 16:36:56,817] Trial 11 finished with value: 0.6442819833755493 and parameters: {'n_layers': 3, 'n_units_layer_0': 256, 'dropout_layer_0': 0.4125660546312956, 'n_units_layer_1': 128, 'dropout_layer_1': 0.38504589902233516, 'n_units_layer_2': 128, 'dropout_layer_2': 0.12231791546183085, 'lr': 0.009624628651480917, 'weight_decay': 0.0008644145102084609, 'n_epochs': 108}. Best is trial 1 with value: 0.638554573059082.\n",
            "[I 2025-06-10 16:37:00,619] Trial 12 finished with value: 0.6387484073638916 and parameters: {'n_layers': 4, 'n_units_layer_0': 224, 'dropout_layer_0': 0.11959851040382546, 'n_units_layer_1': 64, 'dropout_layer_1': 0.1076209008016489, 'n_units_layer_2': 160, 'dropout_layer_2': 0.3860443767118468, 'n_units_layer_3': 64, 'dropout_layer_3': 0.18235470348152272, 'lr': 0.0012435501190800789, 'weight_decay': 1.6206739258879444e-05, 'n_epochs': 191}. Best is trial 1 with value: 0.638554573059082.\n",
            "[I 2025-06-10 16:37:04,304] Trial 13 finished with value: 0.6384192705154419 and parameters: {'n_layers': 4, 'n_units_layer_0': 192, 'dropout_layer_0': 0.3703457973510151, 'n_units_layer_1': 64, 'dropout_layer_1': 0.116238514907132, 'n_units_layer_2': 128, 'dropout_layer_2': 0.4060959654087561, 'n_units_layer_3': 64, 'dropout_layer_3': 0.12624474621707554, 'lr': 0.0012426273950881582, 'weight_decay': 1.1699802868698214e-05, 'n_epochs': 96}. Best is trial 13 with value: 0.6384192705154419.\n",
            "[I 2025-06-10 16:37:06,099] Trial 14 finished with value: 0.6395480036735535 and parameters: {'n_layers': 2, 'n_units_layer_0': 192, 'dropout_layer_0': 0.3744385848895687, 'n_units_layer_1': 128, 'dropout_layer_1': 0.26354995533392434, 'lr': 0.009861720555302088, 'weight_decay': 5.74188662226644e-06, 'n_epochs': 92}. Best is trial 13 with value: 0.6384192705154419.\n",
            "[I 2025-06-10 16:37:15,634] Trial 15 finished with value: 0.644618570804596 and parameters: {'n_layers': 3, 'n_units_layer_0': 192, 'dropout_layer_0': 0.42560284021578687, 'n_units_layer_1': 64, 'dropout_layer_1': 0.1118961108617646, 'n_units_layer_2': 128, 'dropout_layer_2': 0.4931797297263385, 'lr': 0.00016969840571296057, 'weight_decay': 0.000269313806807745, 'n_epochs': 95}. Best is trial 13 with value: 0.6384192705154419.\n",
            "[I 2025-06-10 16:37:19,172] Trial 16 finished with value: 0.637779951095581 and parameters: {'n_layers': 4, 'n_units_layer_0': 224, 'dropout_layer_0': 0.3623402015597325, 'n_units_layer_1': 128, 'dropout_layer_1': 0.18234800394621029, 'n_units_layer_2': 64, 'dropout_layer_2': 0.39790238164862834, 'n_units_layer_3': 64, 'dropout_layer_3': 0.11892824535614469, 'lr': 0.003292423386913016, 'weight_decay': 1.5372759883503463e-05, 'n_epochs': 133}. Best is trial 16 with value: 0.637779951095581.\n",
            "[I 2025-06-10 16:37:25,275] Trial 17 finished with value: 0.6406157612800598 and parameters: {'n_layers': 4, 'n_units_layer_0': 224, 'dropout_layer_0': 0.4937094734280133, 'n_units_layer_1': 160, 'dropout_layer_1': 0.1771969804563135, 'n_units_layer_2': 64, 'dropout_layer_2': 0.40026849255958213, 'n_units_layer_3': 64, 'dropout_layer_3': 0.11305805233523504, 'lr': 0.0006905547765700762, 'weight_decay': 1.475166628087798e-05, 'n_epochs': 131}. Best is trial 16 with value: 0.637779951095581.\n",
            "[I 2025-06-10 16:37:27,620] Trial 18 finished with value: 0.6410188674926758 and parameters: {'n_layers': 4, 'n_units_layer_0': 160, 'dropout_layer_0': 0.37012242383455973, 'n_units_layer_1': 128, 'dropout_layer_1': 0.16569446234083787, 'n_units_layer_2': 96, 'dropout_layer_2': 0.41694361794967244, 'n_units_layer_3': 128, 'dropout_layer_3': 0.20869736033927633, 'lr': 0.005014159090938677, 'weight_decay': 4.0836434757953855e-06, 'n_epochs': 90}. Best is trial 16 with value: 0.637779951095581.\n",
            "[I 2025-06-10 16:37:33,182] Trial 19 finished with value: 0.6416844725608826 and parameters: {'n_layers': 4, 'n_units_layer_0': 192, 'dropout_layer_0': 0.3644519684891809, 'n_units_layer_1': 192, 'dropout_layer_1': 0.22503600080579256, 'n_units_layer_2': 96, 'dropout_layer_2': 0.3467460677358508, 'n_units_layer_3': 64, 'dropout_layer_3': 0.1659016172920338, 'lr': 0.0008342256947475873, 'weight_decay': 1.6369639072079234e-05, 'n_epochs': 50}. Best is trial 16 with value: 0.637779951095581.\n",
            "[I 2025-06-10 16:37:42,315] Trial 20 finished with value: 0.639421284198761 and parameters: {'n_layers': 3, 'n_units_layer_0': 224, 'dropout_layer_0': 0.41493647758616414, 'n_units_layer_1': 128, 'dropout_layer_1': 0.14348443443548395, 'n_units_layer_2': 128, 'dropout_layer_2': 0.4398833315199285, 'lr': 0.00011624216428739481, 'weight_decay': 2.6028471918222755e-06, 'n_epochs': 139}. Best is trial 16 with value: 0.637779951095581.\n",
            "[I 2025-06-10 16:37:46,763] Trial 21 finished with value: 0.6405327320098877 and parameters: {'n_layers': 4, 'n_units_layer_0': 224, 'dropout_layer_0': 0.29153461117920665, 'n_units_layer_1': 96, 'dropout_layer_1': 0.316654474628773, 'n_units_layer_2': 64, 'dropout_layer_2': 0.3301188953721601, 'n_units_layer_3': 256, 'dropout_layer_3': 0.3107647258068346, 'lr': 0.0022855809339197954, 'weight_decay': 9.881573978276493e-06, 'n_epochs': 109}. Best is trial 16 with value: 0.637779951095581.\n",
            "[I 2025-06-10 16:37:48,776] Trial 22 finished with value: 0.6379781365394592 and parameters: {'n_layers': 2, 'n_units_layer_0': 224, 'dropout_layer_0': 0.3055708434293061, 'n_units_layer_1': 64, 'dropout_layer_1': 0.2118561849416019, 'lr': 0.002244957565827069, 'weight_decay': 2.4670421543432e-05, 'n_epochs': 121}. Best is trial 16 with value: 0.637779951095581.\n",
            "[I 2025-06-10 16:37:50,782] Trial 23 finished with value: 0.6408295631408691 and parameters: {'n_layers': 3, 'n_units_layer_0': 192, 'dropout_layer_0': 0.3306147742781835, 'n_units_layer_1': 64, 'dropout_layer_1': 0.21496979812344183, 'n_units_layer_2': 160, 'dropout_layer_2': 0.4575824904178483, 'lr': 0.005222356234018694, 'weight_decay': 2.508236460128044e-05, 'n_epochs': 131}. Best is trial 16 with value: 0.637779951095581.\n",
            "[I 2025-06-10 16:37:54,887] Trial 24 finished with value: 0.6387280821800232 and parameters: {'n_layers': 4, 'n_units_layer_0': 256, 'dropout_layer_0': 0.21323777725965423, 'n_units_layer_1': 64, 'dropout_layer_1': 0.14107474362322095, 'n_units_layer_2': 96, 'dropout_layer_2': 0.32092731812073505, 'n_units_layer_3': 96, 'dropout_layer_3': 0.25054149625001104, 'lr': 0.0012233354163424845, 'weight_decay': 5.8669668939685725e-05, 'n_epochs': 100}. Best is trial 16 with value: 0.637779951095581.\n",
            "[I 2025-06-10 16:38:05,582] Trial 25 finished with value: 0.643389105796814 and parameters: {'n_layers': 5, 'n_units_layer_0': 160, 'dropout_layer_0': 0.3557187155544988, 'n_units_layer_1': 96, 'dropout_layer_1': 0.22193990868327756, 'n_units_layer_2': 128, 'dropout_layer_2': 0.4536621438672494, 'n_units_layer_3': 128, 'dropout_layer_3': 0.10095499012203688, 'n_units_layer_4': 256, 'dropout_layer_4': 0.33329451025084766, 'lr': 0.0003480607198698178, 'weight_decay': 2.6881853568535022e-05, 'n_epochs': 121}. Best is trial 16 with value: 0.637779951095581.\n",
            "[I 2025-06-10 16:38:09,659] Trial 26 finished with value: 0.6373487114906311 and parameters: {'n_layers': 3, 'n_units_layer_0': 224, 'dropout_layer_0': 0.38880848474490065, 'n_units_layer_1': 160, 'dropout_layer_1': 0.28113954275769437, 'n_units_layer_2': 160, 'dropout_layer_2': 0.36924537723062656, 'lr': 0.0026899470915948223, 'weight_decay': 1.0126442727905758e-05, 'n_epochs': 84}. Best is trial 26 with value: 0.6373487114906311.\n",
            "[I 2025-06-10 16:38:12,728] Trial 27 finished with value: 0.6444573998451233 and parameters: {'n_layers': 2, 'n_units_layer_0': 224, 'dropout_layer_0': 0.39053041033912866, 'n_units_layer_1': 192, 'dropout_layer_1': 0.2878846772815769, 'lr': 0.0057412281381830285, 'weight_decay': 5.45273318370028e-06, 'n_epochs': 79}. Best is trial 26 with value: 0.6373487114906311.\n",
            "[I 2025-06-10 16:38:15,027] Trial 28 finished with value: 0.6384568810462952 and parameters: {'n_layers': 2, 'n_units_layer_0': 256, 'dropout_layer_0': 0.44533486642885467, 'n_units_layer_1': 160, 'dropout_layer_1': 0.2595417737198638, 'lr': 0.0030908559757163324, 'weight_decay': 2.1397963545713752e-05, 'n_epochs': 178}. Best is trial 26 with value: 0.6373487114906311.\n",
            "[I 2025-06-10 16:38:37,993] Trial 29 finished with value: 0.6490955352783203 and parameters: {'n_layers': 3, 'n_units_layer_0': 128, 'dropout_layer_0': 0.28552151011636273, 'n_units_layer_1': 128, 'dropout_layer_1': 0.31284833862799766, 'n_units_layer_2': 256, 'dropout_layer_2': 0.20852513017854019, 'lr': 2.9382540375831468e-05, 'weight_decay': 1.337534334827581e-06, 'n_epochs': 142}. Best is trial 26 with value: 0.6373487114906311.\n",
            "[I 2025-06-10 16:38:40,582] Trial 30 finished with value: 0.6431888937950134 and parameters: {'n_layers': 3, 'n_units_layer_0': 224, 'dropout_layer_0': 0.2042100964234689, 'n_units_layer_1': 160, 'dropout_layer_1': 0.20545897380122724, 'n_units_layer_2': 224, 'dropout_layer_2': 0.36476345904230995, 'lr': 0.006294972030443196, 'weight_decay': 3.22027773650163e-06, 'n_epochs': 151}. Best is trial 26 with value: 0.6373487114906311.\n",
            "[I 2025-06-10 16:38:44,695] Trial 31 finished with value: 0.6386219263076782 and parameters: {'n_layers': 4, 'n_units_layer_0': 192, 'dropout_layer_0': 0.39329513468557564, 'n_units_layer_1': 96, 'dropout_layer_1': 0.14708434221441152, 'n_units_layer_2': 160, 'dropout_layer_2': 0.41990273420763086, 'n_units_layer_3': 128, 'dropout_layer_3': 0.1674804307396901, 'lr': 0.0016593063455930417, 'weight_decay': 1.4684828036103912e-05, 'n_epochs': 84}. Best is trial 26 with value: 0.6373487114906311.\n",
            "[I 2025-06-10 16:38:46,118] Trial 32 finished with value: 0.63740473985672 and parameters: {'n_layers': 2, 'n_units_layer_0': 224, 'dropout_layer_0': 0.3393297735069563, 'n_units_layer_1': 64, 'dropout_layer_1': 0.23638006779299142, 'lr': 0.002664363376659699, 'weight_decay': 9.114813138755544e-06, 'n_epochs': 104}. Best is trial 26 with value: 0.6373487114906311.\n",
            "[I 2025-06-10 16:38:48,192] Trial 33 finished with value: 0.6407581567764282 and parameters: {'n_layers': 2, 'n_units_layer_0': 224, 'dropout_layer_0': 0.3406268729116368, 'n_units_layer_1': 192, 'dropout_layer_1': 0.23991713636178952, 'lr': 0.0028845923907263676, 'weight_decay': 7.351225988653285e-06, 'n_epochs': 126}. Best is trial 26 with value: 0.6373487114906311.\n",
            "[I 2025-06-10 16:38:50,548] Trial 34 finished with value: 0.6387041211128235 and parameters: {'n_layers': 2, 'n_units_layer_0': 256, 'dropout_layer_0': 0.30711677904671425, 'n_units_layer_1': 96, 'dropout_layer_1': 0.2828709992834708, 'lr': 0.0023919501849758067, 'weight_decay': 7.418710313314425e-05, 'n_epochs': 104}. Best is trial 26 with value: 0.6373487114906311.\n",
            "[I 2025-06-10 16:38:51,648] Trial 35 finished with value: 0.6471455097198486 and parameters: {'n_layers': 2, 'n_units_layer_0': 224, 'dropout_layer_0': 0.27578549876093256, 'n_units_layer_1': 160, 'dropout_layer_1': 0.19577299789283636, 'lr': 0.004159585532440738, 'weight_decay': 4.251983516210614e-05, 'n_epochs': 70}. Best is trial 26 with value: 0.6373487114906311.\n",
            "[I 2025-06-10 16:38:53,819] Trial 36 finished with value: 0.6382055282592773 and parameters: {'n_layers': 2, 'n_units_layer_0': 224, 'dropout_layer_0': 0.3196613367035188, 'n_units_layer_1': 128, 'dropout_layer_1': 0.17292703322008965, 'lr': 0.0008188735480469837, 'weight_decay': 4.6171692389033785e-06, 'n_epochs': 113}. Best is trial 26 with value: 0.6373487114906311.\n",
            "[I 2025-06-10 16:38:56,965] Trial 37 finished with value: 0.6409098505973816 and parameters: {'n_layers': 2, 'n_units_layer_0': 256, 'dropout_layer_0': 0.3940698492256462, 'n_units_layer_1': 64, 'dropout_layer_1': 0.2379908000685378, 'lr': 0.0003826927375988474, 'weight_decay': 9.122084691638681e-06, 'n_epochs': 137}. Best is trial 26 with value: 0.6373487114906311.\n",
            "[I 2025-06-10 16:39:00,760] Trial 38 finished with value: 0.6400182843208313 and parameters: {'n_layers': 3, 'n_units_layer_0': 128, 'dropout_layer_0': 0.34574568214696755, 'n_units_layer_1': 224, 'dropout_layer_1': 0.2810452487514516, 'n_units_layer_2': 64, 'dropout_layer_2': 0.11053743893876608, 'lr': 0.0016232049120340302, 'weight_decay': 7.910059205921697e-05, 'n_epochs': 118}. Best is trial 26 with value: 0.6373487114906311.\n",
            "[I 2025-06-10 16:39:01,761] Trial 39 finished with value: 0.6418214440345764 and parameters: {'n_layers': 2, 'n_units_layer_0': 64, 'dropout_layer_0': 0.2312763039941838, 'n_units_layer_1': 96, 'dropout_layer_1': 0.31423932566148677, 'lr': 0.007603074815566504, 'weight_decay': 3.0632257150951555e-05, 'n_epochs': 149}. Best is trial 26 with value: 0.6373487114906311.\n",
            "[I 2025-06-10 16:39:06,261] Trial 40 finished with value: 0.6404994130134583 and parameters: {'n_layers': 3, 'n_units_layer_0': 192, 'dropout_layer_0': 0.258636898359758, 'n_units_layer_1': 64, 'dropout_layer_1': 0.3594111708960609, 'n_units_layer_2': 192, 'dropout_layer_2': 0.31213550250044114, 'lr': 0.0020583675791081527, 'weight_decay': 1.5955346274873874e-06, 'n_epochs': 85}. Best is trial 26 with value: 0.6373487114906311.\n",
            "[I 2025-06-10 16:39:08,724] Trial 41 finished with value: 0.6393815279006958 and parameters: {'n_layers': 2, 'n_units_layer_0': 224, 'dropout_layer_0': 0.3215016908420067, 'n_units_layer_1': 128, 'dropout_layer_1': 0.17651679045135021, 'lr': 0.000857569145123102, 'weight_decay': 4.804064336430529e-06, 'n_epochs': 113}. Best is trial 26 with value: 0.6373487114906311.\n",
            "[I 2025-06-10 16:39:10,308] Trial 42 finished with value: 0.6426491737365723 and parameters: {'n_layers': 2, 'n_units_layer_0': 224, 'dropout_layer_0': 0.30573268436163514, 'n_units_layer_1': 160, 'dropout_layer_1': 0.1940593324220728, 'lr': 0.002789070911987766, 'weight_decay': 7.2666420146930205e-06, 'n_epochs': 125}. Best is trial 26 with value: 0.6373487114906311.\n",
            "[I 2025-06-10 16:39:13,089] Trial 43 finished with value: 0.6366083025932312 and parameters: {'n_layers': 2, 'n_units_layer_0': 256, 'dropout_layer_0': 0.27663508247609675, 'n_units_layer_1': 128, 'dropout_layer_1': 0.16359050379953352, 'lr': 0.0008497522139496691, 'weight_decay': 2.0760464369116264e-05, 'n_epochs': 113}. Best is trial 43 with value: 0.6366083025932312.\n",
            "[I 2025-06-10 16:39:16,707] Trial 44 finished with value: 0.6388534307479858 and parameters: {'n_layers': 2, 'n_units_layer_0': 256, 'dropout_layer_0': 0.2813085314803305, 'n_units_layer_1': 96, 'dropout_layer_1': 0.23854387756716894, 'lr': 0.0005871069762514598, 'weight_decay': 2.2412293266505168e-05, 'n_epochs': 103}. Best is trial 43 with value: 0.6366083025932312.\n",
            "[I 2025-06-10 16:39:18,968] Trial 45 finished with value: 0.6397351622581482 and parameters: {'n_layers': 2, 'n_units_layer_0': 256, 'dropout_layer_0': 0.23636417360308226, 'n_units_layer_1': 160, 'dropout_layer_1': 0.1586198401880183, 'lr': 0.0011235415504979667, 'weight_decay': 4.7974641098372514e-05, 'n_epochs': 131}. Best is trial 43 with value: 0.6366083025932312.\n",
            "[I 2025-06-10 16:39:25,607] Trial 46 finished with value: 0.637993574142456 and parameters: {'n_layers': 5, 'n_units_layer_0': 256, 'dropout_layer_0': 0.2717166728023218, 'n_units_layer_1': 192, 'dropout_layer_1': 0.12394089194783475, 'n_units_layer_2': 96, 'dropout_layer_2': 0.36468351938787613, 'n_units_layer_3': 192, 'dropout_layer_3': 0.36193458927586913, 'n_units_layer_4': 160, 'dropout_layer_4': 0.30421121571129783, 'lr': 0.001550905669203959, 'weight_decay': 1.1726727937430182e-05, 'n_epochs': 76}. Best is trial 43 with value: 0.6366083025932312.\n",
            "[I 2025-06-10 16:39:33,799] Trial 47 finished with value: 0.6386680006980896 and parameters: {'n_layers': 2, 'n_units_layer_0': 256, 'dropout_layer_0': 0.4414180534309624, 'n_units_layer_1': 128, 'dropout_layer_1': 0.3353878162429819, 'lr': 0.00024381865170187026, 'weight_decay': 2.0266589881851477e-05, 'n_epochs': 122}. Best is trial 43 with value: 0.6366083025932312.\n",
            "[I 2025-06-10 16:39:36,028] Trial 48 finished with value: 0.6390765309333801 and parameters: {'n_layers': 3, 'n_units_layer_0': 224, 'dropout_layer_0': 0.1817954374369003, 'n_units_layer_1': 96, 'dropout_layer_1': 0.3978053401760097, 'n_units_layer_2': 160, 'dropout_layer_2': 0.1898267685108802, 'lr': 0.0037974935878904784, 'weight_decay': 0.00011367456512984405, 'n_epochs': 99}. Best is trial 43 with value: 0.6366083025932312.\n",
            "[I 2025-06-10 16:39:38,810] Trial 49 finished with value: 0.6385633945465088 and parameters: {'n_layers': 2, 'n_units_layer_0': 192, 'dropout_layer_0': 0.3472900539077865, 'n_units_layer_1': 64, 'dropout_layer_1': 0.2703140938340607, 'lr': 0.0004777712661445662, 'weight_decay': 3.6381324935080446e-05, 'n_epochs': 108}. Best is trial 43 with value: 0.6366083025932312.\n"
          ]
        },
        {
          "output_type": "stream",
          "name": "stdout",
          "text": [
            "Лучшие гиперпараметры:\n",
            "n_layers: 2\n",
            "n_units_layer_0: 256\n",
            "dropout_layer_0: 0.27663508247609675\n",
            "n_units_layer_1: 128\n",
            "dropout_layer_1: 0.16359050379953352\n",
            "lr: 0.0008497522139496691\n",
            "weight_decay: 2.0760464369116264e-05\n",
            "n_epochs: 113\n"
          ]
        }
      ]
    },
    {
      "cell_type": "code",
      "source": [
        "class NeuralNet(nn.Module):\n",
        "    def __init__(self, input_size):\n",
        "        super(NeuralNet, self).__init__()\n",
        "        self.fc1 = nn.Linear(input_size, 256)\n",
        "        self.fc2 = nn.Linear(256, 128)\n",
        "        self.batch = nn.BatchNorm1d(num_features=128)\n",
        "        self.fc3 = nn.Linear(128, 2)\n",
        "        self.relu = nn.GELU()\n",
        "        self.dropout1 = nn.Dropout(0.28)\n",
        "        self.dropout2 = nn.Dropout(0.16)\n",
        "\n",
        "    def forward(self, x):\n",
        "        x = self.relu(self.fc1(x))\n",
        "        x = self.dropout1(x)\n",
        "        x = self.relu(self.fc2(x))\n",
        "        x = self.dropout2(x)\n",
        "        x = self.fc3(self.batch(x))\n",
        "        return x"
      ],
      "metadata": {
        "id": "Hwl7j6Bnq6ZD"
      },
      "execution_count": 23,
      "outputs": []
    },
    {
      "cell_type": "code",
      "source": [
        "model = NeuralNet(input_size=X_train.shape[1])\n",
        "criterion = nn.CrossEntropyLoss()\n",
        "optimizer = optim.AdamW(model.parameters(), lr=0.00085, weight_decay=2e-5)\n",
        "scheduler = ReduceLROnPlateau(optimizer, mode='min', factor=0.5, patience=3)"
      ],
      "metadata": {
        "id": "9o7uNVt4q6Rf"
      },
      "execution_count": 24,
      "outputs": []
    },
    {
      "cell_type": "code",
      "source": [
        "train_losses, val_losses = [], []\n",
        "best_val_loss = float('inf')\n",
        "patience = 5\n",
        "trigger_times = 0\n",
        "\n",
        "for epoch in range(113):\n",
        "    model.train()\n",
        "    optimizer.zero_grad()\n",
        "    outputs = model(X_train)\n",
        "    loss = criterion(outputs, y_train)\n",
        "    loss.backward()\n",
        "    optimizer.step()\n",
        "    train_losses.append(loss.item())\n",
        "\n",
        "    # Валидация\n",
        "    model.eval()\n",
        "    with torch.no_grad():\n",
        "        val_outputs = model(X_val)\n",
        "        val_loss = criterion(val_outputs, y_val)\n",
        "        val_losses.append(val_loss.item())\n",
        "\n",
        "    # Ранняя остановка\n",
        "    if val_loss < best_val_loss:\n",
        "        best_val_loss = val_loss\n",
        "        trigger_times = 0\n",
        "        torch.save(model.state_dict(), 'best_model.pth')\n",
        "    else:\n",
        "        trigger_times += 1\n",
        "        if trigger_times >= patience:\n",
        "            print(f'Early stopping at epoch {epoch}')\n",
        "            break\n",
        "\n",
        "    print(f'Epoch {epoch}: Train Loss = {loss.item():.4f}, Val Loss = {val_loss.item():.4f}')"
      ],
      "metadata": {
        "colab": {
          "base_uri": "https://localhost:8080/"
        },
        "id": "Wm_rzJmAzoRv",
        "outputId": "e7067da8-1c6c-412c-ae30-95dedf931076"
      },
      "execution_count": 25,
      "outputs": [
        {
          "output_type": "stream",
          "name": "stdout",
          "text": [
            "Epoch 0: Train Loss = 0.8815, Val Loss = 0.6867\n",
            "Epoch 1: Train Loss = 0.7118, Val Loss = 0.6739\n",
            "Epoch 2: Train Loss = 0.7016, Val Loss = 0.6671\n",
            "Epoch 3: Train Loss = 0.7116, Val Loss = 0.6636\n",
            "Epoch 4: Train Loss = 0.7108, Val Loss = 0.6617\n",
            "Epoch 5: Train Loss = 0.6895, Val Loss = 0.6612\n",
            "Epoch 6: Train Loss = 0.6653, Val Loss = 0.6621\n",
            "Epoch 7: Train Loss = 0.6632, Val Loss = 0.6638\n",
            "Epoch 8: Train Loss = 0.6557, Val Loss = 0.6658\n",
            "Epoch 9: Train Loss = 0.6576, Val Loss = 0.6669\n",
            "Early stopping at epoch 10\n"
          ]
        }
      ]
    },
    {
      "cell_type": "code",
      "source": [
        "model.eval()\n",
        "with torch.no_grad():\n",
        "    test_outputs = model(X_test)\n",
        "    _, predicted = torch.max(test_outputs, 1)\n",
        "    accuracy = accuracy_score(y_test, predicted)\n",
        "    f1 = f1_score(y_test, predicted, average='macro')\n",
        "\n",
        "print(f'Test Accuracy: {accuracy:.4f}, F1-Score: {f1:.4f}')"
      ],
      "metadata": {
        "colab": {
          "base_uri": "https://localhost:8080/"
        },
        "outputId": "97fb2074-8e50-42e0-ee7f-6101c9ebe925",
        "id": "BQAp6CTRsiF3"
      },
      "execution_count": 26,
      "outputs": [
        {
          "output_type": "stream",
          "name": "stdout",
          "text": [
            "Test Accuracy: 0.6643, F1-Score: 0.6487\n"
          ]
        }
      ]
    },
    {
      "cell_type": "code",
      "source": [
        "plt.plot(train_losses, label='Train Loss')\n",
        "plt.plot(val_losses, label='Val Loss')\n",
        "plt.xlabel('Epoch')\n",
        "plt.ylabel('Loss')\n",
        "plt.legend()\n",
        "plt.show()"
      ],
      "metadata": {
        "colab": {
          "base_uri": "https://localhost:8080/",
          "height": 449
        },
        "outputId": "6f2ffdce-4541-4c3c-b9a5-d9c2621664e4",
        "id": "bHAm8_3psiF4"
      },
      "execution_count": 27,
      "outputs": [
        {
          "output_type": "display_data",
          "data": {
            "text/plain": [
              "<Figure size 640x480 with 1 Axes>"
            ],
            "image/png": "[encoded data removed]"
          },
          "metadata": {}
        }
      ]
    },
    {
      "cell_type": "code",
      "source": [],
      "metadata": {
        "id": "aKfi_jqkvccg"
      },
      "execution_count": null,
      "outputs": []
    }
  ]
}