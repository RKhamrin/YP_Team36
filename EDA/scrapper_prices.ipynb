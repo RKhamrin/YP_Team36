{
  "nbformat": 4,
  "nbformat_minor": 0,
  "metadata": {
    "colab": {
      "provenance": []
    },
    "kernelspec": {
      "name": "python3",
      "display_name": "Python 3"
    },
    "language_info": {
      "name": "python"
    }
  },
  "cells": [
    {
      "cell_type": "markdown",
      "source": [
        "## Импорты"
      ],
      "metadata": {
        "id": "mC5eyiWr1Lpe"
      }
    },
    {
      "cell_type": "code",
      "source": [
        "import time\n",
        "import requests\n",
        "from bs4 import BeautifulSoup\n",
        "\n",
        "import matplotlib.pyplot as plt\n",
        "import pandas as pd"
      ],
      "metadata": {
        "id": "Y2GVId6s089C"
      },
      "execution_count": null,
      "outputs": []
    },
    {
      "cell_type": "markdown",
      "source": [
        "## Сбор данных о клубах"
      ],
      "metadata": {
        "id": "aU1SSBPv1P-F"
      }
    },
    {
      "cell_type": "code",
      "source": [
        "clubs_list = dict()\n",
        "ligues_pairs = [\n",
        "    ['premier-league', 'GB1'],\n",
        "    ['ligue-1', 'FR1'],\n",
        "    ['serie-a', 'IT1'],\n",
        "    ['bundesliga', 'L1'],\n",
        "    ['laliga', 'ES1']\n",
        "]\n",
        "years = [2017, 2018, 2019, 2020, 2021, 2022, 2023, 2024]\n",
        "\n",
        "for pair in ligues_pairs:\n",
        "    for year in years:\n",
        "        time.sleep(2)\n",
        "        if pair[0] not in clubs_list:\n",
        "            clubs_list[pair[0]] = dict()\n",
        "        all_teams = {}\n",
        "        url = f'https://www.transfermarkt.com/{pair[0]}/startseite/wettbewerb/{pair[1]}/plus/?saison_id={year}'\n",
        "        headers = {'User-Agent': 'Mozilla/5.0'}\n",
        "        response = requests.get(url, headers=headers)\n",
        "        if response.status_code == 200:\n",
        "            soup = BeautifulSoup(response.content, 'html.parser')\n",
        "            squad_table = soup.find('table', {'class': 'items'})\n",
        "            rows = squad_table.find_all('tr', {'class': ['odd', 'even']})\n",
        "            for row in rows:\n",
        "                club_name = row.find('td', {'class': 'hauptlink'}).text.strip()\n",
        "                mean_age = float(row.find_all('td')[-4].text.replace(',', '.'))\n",
        "                num_foreigns = float(row.find_all('td')[-3].text.replace(',', '.'))\n",
        "                price = 1000 * float(row.text.split('€')[-1][:-2]) if row.text.split('€')[-1][-1] == 'n'\\\n",
        "                 else float(row.text.split('€')[-1][:-1])\n",
        "                all_teams[club_name] = [mean_age, num_foreigns, price]\n",
        "        clubs_list[pair[0]][year] = dict()\n",
        "        clubs_list[pair[0]][year] = all_teams\n",
        "        print(clubs_list)"
      ],
      "metadata": {
        "id": "rDxAlYsa05N2"
      },
      "execution_count": null,
      "outputs": []
    },
    {
      "cell_type": "code",
      "source": [
        "club_list_final = []\n",
        "for ligue in clubs_list:\n",
        "    for year in clubs_list[ligue]:\n",
        "        for club in clubs_list[ligue][year]:\n",
        "            club_list_final.append([ligue, year, club, *clubs_list[ligue][year][club]])"
      ],
      "metadata": {
        "id": "CtF_ABDG05LU"
      },
      "execution_count": null,
      "outputs": []
    },
    {
      "cell_type": "code",
      "source": [
        "# pd.DataFrame(\n",
        "#     club_list_final,\n",
        "#     columns = ['ligue', 'year', 'club', 'mean_age', 'num_foreigns', 'price']\n",
        "#     ).to_csv('Clubs_prices_2017-2024.csv')"
      ],
      "metadata": {
        "id": "4jp7C09Q1auW"
      },
      "execution_count": null,
      "outputs": []
    },
    {
      "cell_type": "markdown",
      "source": [
        "## Сбор данных об игроках"
      ],
      "metadata": {
        "id": "EhOMxYNZ1-SH"
      }
    },
    {
      "cell_type": "code",
      "source": [
        "players_list = {}\n",
        "\n",
        "for pair in ligues_pairs:\n",
        "    for year in tqdm(years):\n",
        "        time.sleep(2)\n",
        "        if pair[0] not in players_list:\n",
        "            players_list[pair[0]] = dict()\n",
        "        players_list[pair[0]][year] = dict()\n",
        "        url = f'https://www.transfermarkt.com/{pair[0]}/startseite/wettbewerb/{pair[1]}/plus/?saison_id={year}'\n",
        "        headers = {'User-Agent': 'Mozilla/5.0'}\n",
        "        response = requests.get(url, headers=headers)\n",
        "        if response.status_code == 200:\n",
        "            soup = BeautifulSoup(response.content, 'html.parser')\n",
        "        links = soup.find_all('td', {'class': 'zentriert no-border-rechts'})\n",
        "        for link in tqdm(links[:(len(links) // 2)]):\n",
        "            test_url = str(link).split('\"')[3]\n",
        "            test_url = test_url.replace('spielplan', 'startseite')\n",
        "            test_url = test_url.replace(f'saisod_id/{year}', f'plus/0/galerie/0?saison_id={year}')\n",
        "            final_url = 'https://www.transfermarkt.com' + test_url\n",
        "\n",
        "            headers = {'User-Agent': 'Mozilla/5.0'}\n",
        "            response = requests.get(final_url, headers=headers)\n",
        "            if response.status_code == 200:\n",
        "                soup = BeautifulSoup(response.content, 'html.parser')\n",
        "                squad_table = soup.find('table', {'class': 'items'})\n",
        "                rows = squad_table.find_all('tr', {'class': ['odd', 'even']})\n",
        "                for row in rows:\n",
        "                    club_name = soup.text.split('- Club profile')[0].split('\\n')[-1].strip()\n",
        "                    player_name = row.find('td', {'class': 'hauptlink'}).text.strip()\n",
        "                    price = row.text.split('€')[1] if len(row.text.split('€')) > 1 else '-'\n",
        "                    countries = [str(i).split('\"')[1] for i in row.find_all('td', {'class': 'zentriert'})[-1]\\\n",
        "            .find_all('img', {'class': 'flaggenrahmen'})]\n",
        "                    players_list[pair[0]][year][(club_name, player_name)] = [price, countries, row]"
      ],
      "metadata": {
        "id": "77kO7yJT1asB"
      },
      "execution_count": null,
      "outputs": []
    },
    {
      "cell_type": "code",
      "source": [
        "players_list_final = []\n",
        "for ligue in players_list:\n",
        "    for year in players_list[ligue]:\n",
        "        for player in players_list[ligue][year]:\n",
        "            players_list_final.append([\n",
        "                ligue,\n",
        "                year,\n",
        "                player[0],\n",
        "                player[1],\n",
        "                players_list[ligue][year][player][0],\n",
        "                ])"
      ],
      "metadata": {
        "id": "-ALUY9hr1apT"
      },
      "execution_count": null,
      "outputs": []
    },
    {
      "cell_type": "code",
      "source": [
        "players_pd = pd.DataFrame(\n",
        "    players_list_final,\n",
        "    columns = ['ligue', 'year', 'club', 'name', 'price']\n",
        ")"
      ],
      "metadata": {
        "id": "GYF97lrL05I5"
      },
      "execution_count": null,
      "outputs": []
    },
    {
      "cell_type": "code",
      "execution_count": null,
      "metadata": {
        "id": "nxrD_GVV0t9m"
      },
      "outputs": [],
      "source": [
        "players_pd.to_csv('Players_prices_2017-2024.csv')"
      ]
    }
  ]
}