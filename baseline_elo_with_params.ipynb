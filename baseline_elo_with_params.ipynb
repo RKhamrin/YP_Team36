{
 "cells": [
  {
   "cell_type": "markdown",
   "metadata": {},
   "source": []
  },
  {
   "cell_type": "code",
   "execution_count": 2,
   "metadata": {},
   "outputs": [],
   "source": [
    "import pandas as pd \n",
    "import numpy as np"
   ]
  },
  {
   "cell_type": "code",
   "execution_count": 5,
   "metadata": {},
   "outputs": [],
   "source": [
    "df = pd.read_csv(r\"C:\\vs_code\\work\\teams_matches_stats-2.csv\")"
   ]
  },
  {
   "cell_type": "markdown",
   "metadata": {},
   "source": []
  },
  {
   "cell_type": "code",
   "execution_count": 12,
   "metadata": {},
   "outputs": [
    {
     "data": {
      "text/html": [
       "<pre style=\"white-space:pre;overflow-x:auto;line-height:normal;font-family:Menlo,'DejaVu Sans Mono',consolas,'Courier New',monospace\"><span style=\"color: #7fbfbf; text-decoration-color: #7fbfbf\">[12/06/24 09:26:25] </span><span style=\"color: #000080; text-decoration-color: #000080\">INFO    </span> Saving cached data to C:\\Users\\persi\\soccerdata\\data\\ClubElo            <a href=\"file://C:\\Users\\persi\\AppData\\Roaming\\Python\\Python312\\site-packages\\soccerdata\\_common.py\" target=\"_blank\"><span style=\"color: #7f7f7f; text-decoration-color: #7f7f7f\">_common.py</span></a><span style=\"color: #7f7f7f; text-decoration-color: #7f7f7f\">:</span><a href=\"file://C:\\Users\\persi\\AppData\\Roaming\\Python\\Python312\\site-packages\\soccerdata\\_common.py#263\" target=\"_blank\"><span style=\"color: #7f7f7f; text-decoration-color: #7f7f7f\">263</span></a>\n",
       "</pre>\n"
      ],
      "text/plain": [
       "\u001b[2;36m[12/06/24 09:26:25]\u001b[0m\u001b[2;36m \u001b[0m\u001b[34mINFO    \u001b[0m Saving cached data to C:\\Users\\persi\\soccerdata\\data\\ClubElo            \u001b]8;id=127856;file://C:\\Users\\persi\\AppData\\Roaming\\Python\\Python312\\site-packages\\soccerdata\\_common.py\u001b\\\u001b[2m_common.py\u001b[0m\u001b]8;;\u001b\\\u001b[2m:\u001b[0m\u001b]8;id=308822;file://C:\\Users\\persi\\AppData\\Roaming\\Python\\Python312\\site-packages\\soccerdata\\_common.py#263\u001b\\\u001b[2m263\u001b[0m\u001b]8;;\u001b\\\n"
      ]
     },
     "metadata": {},
     "output_type": "display_data"
    }
   ],
   "source": [
    "elos = sd.ClubElo()"
   ]
  },
  {
   "cell_type": "code",
   "execution_count": 17,
   "metadata": {},
   "outputs": [],
   "source": [
    "current_elos = elos.read_by_date()"
   ]
  },
  {
   "cell_type": "code",
   "execution_count": 45,
   "metadata": {},
   "outputs": [],
   "source": [
    "def calculate_elo_probabilities(\n",
    "    team1, team2, draw_factor=0.215, home_advantage=53, \n",
    "    top_forward_boost=120, team1_has_top_forward=False, team2_has_top_forward=False\n",
    "):\n",
    "\n",
    "    rating_a = current_elos.loc[team1, 'elo']\n",
    "    rating_b = current_elos.loc[team2, 'elo']\n",
    "    rating_a += home_advantage\n",
    "    if team1_has_top_forward:\n",
    "        rating_a += top_forward_boost\n",
    "    if team2_has_top_forward:\n",
    "        rating_b += top_forward_boost\n",
    "\n",
    "\n",
    "    d = rating_a - rating_b\n",
    "\n",
    "    p_a = 1 / (1 + 10 ** (-d / 400))\n",
    "    p_b = 1 - p_a\n",
    "\n",
    "    p_t = draw_factor * (p_a + p_b)\n",
    "    p_a = (1 - draw_factor) * p_a\n",
    "    p_b = (1 - draw_factor) * p_b\n",
    "\n",
    "    return {\n",
    "        f'{team1}': p_a,\n",
    "        f'{team2}': p_b,\n",
    "        'draw': p_t\n",
    "    }\n"
   ]
  },
  {
   "cell_type": "code",
   "execution_count": null,
   "metadata": {},
   "outputs": [],
   "source": []
  },
  {
   "cell_type": "code",
   "execution_count": 46,
   "metadata": {},
   "outputs": [
    {
     "data": {
      "text/plain": [
       "{'Liverpool': np.float64(0.4642822917906033),\n",
       " 'Arsenal': np.float64(0.3207177082093967),\n",
       " 'draw': np.float64(0.215)}"
      ]
     },
     "execution_count": 46,
     "metadata": {},
     "output_type": "execute_result"
    }
   ],
   "source": [
    "calculate_elo_probabilities(team1='Liverpool', team2='Arsenal')"
   ]
  },
  {
   "cell_type": "code",
   "execution_count": null,
   "metadata": {},
   "outputs": [],
   "source": []
  },
  {
   "cell_type": "code",
   "execution_count": null,
   "metadata": {},
   "outputs": [],
   "source": []
  }
 ],
 "metadata": {
  "kernelspec": {
   "display_name": "Python 3",
   "language": "python",
   "name": "python3"
  },
  "language_info": {
   "codemirror_mode": {
    "name": "ipython",
    "version": 3
   },
   "file_extension": ".py",
   "mimetype": "text/x-python",
   "name": "python",
   "nbconvert_exporter": "python",
   "pygments_lexer": "ipython3",
   "version": "3.12.7"
  }
 },
 "nbformat": 4,
 "nbformat_minor": 2
}
