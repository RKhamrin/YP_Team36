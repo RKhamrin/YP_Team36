{
  "cells": [
    {
      "cell_type": "markdown",
      "source": [
        "Скачииваем пакет для парсинга"
      ],
      "metadata": {
        "id": "nhQIFpVbj6so"
      }
    },
    {
      "cell_type": "code",
      "execution_count": null,
      "metadata": {
        "colab": {
          "base_uri": "https://localhost:8080/"
        },
        "id": "Gkxcw-eOxfZF",
        "outputId": "6bfad84e-4576-493f-b6e0-cdb1cd3823d7"
      },
      "outputs": [
        {
          "output_type": "stream",
          "name": "stdout",
          "text": [
            "Collecting soccerdata\n",
            "  Downloading soccerdata-1.8.3-py3-none-any.whl.metadata (5.6 kB)\n",
            "Requirement already satisfied: PySocks<2.0.0,>=1.7.1 in /usr/local/lib/python3.10/dist-packages (from soccerdata) (1.7.1)\n",
            "Collecting Unidecode<2.0.0,>=1.2.0 (from soccerdata)\n",
            "  Downloading Unidecode-1.3.8-py3-none-any.whl.metadata (13 kB)\n",
            "Collecting cloudscraper<2.0.0,>=1.2.71 (from soccerdata)\n",
            "  Downloading cloudscraper-1.2.71-py2.py3-none-any.whl.metadata (19 kB)\n",
            "Requirement already satisfied: html5lib<2.0,>=1.1 in /usr/local/lib/python3.10/dist-packages (from soccerdata) (1.1)\n",
            "Collecting lxml<5.0.0,>=4.9.3 (from soccerdata)\n",
            "  Downloading lxml-4.9.4-cp310-cp310-manylinux_2_28_x86_64.whl.metadata (3.7 kB)\n",
            "Requirement already satisfied: packaging<25.0,>=24.1 in /usr/local/lib/python3.10/dist-packages (from soccerdata) (24.1)\n",
            "Requirement already satisfied: pandas!=2.1.0,<3.0.0,>=2.0.0 in /usr/local/lib/python3.10/dist-packages (from soccerdata) (2.2.2)\n",
            "Requirement already satisfied: requests<3.0,>=2.23 in /usr/local/lib/python3.10/dist-packages (from soccerdata) (2.32.3)\n",
            "Requirement already satisfied: rich<14.0.0,>=13.0.0 in /usr/local/lib/python3.10/dist-packages (from soccerdata) (13.9.3)\n",
            "Collecting undetected-chromedriver<4.0.0,>=3.5.0 (from soccerdata)\n",
            "  Downloading undetected-chromedriver-3.5.5.tar.gz (65 kB)\n",
            "\u001b[2K     \u001b[90m━━━━━━━━━━━━━━━━━━━━━━━━━━━━━━━━━━━━━━━━\u001b[0m \u001b[32m65.4/65.4 kB\u001b[0m \u001b[31m3.2 MB/s\u001b[0m eta \u001b[36m0:00:00\u001b[0m\n",
            "\u001b[?25h  Preparing metadata (setup.py) ... \u001b[?25l\u001b[?25hdone\n",
            "Collecting unicode<3.0,>=2.7 (from soccerdata)\n",
            "  Downloading unicode-2.9-py2.py3-none-any.whl.metadata (1.1 kB)\n",
            "Requirement already satisfied: pyparsing>=2.4.7 in /usr/local/lib/python3.10/dist-packages (from cloudscraper<2.0.0,>=1.2.71->soccerdata) (3.2.0)\n",
            "Requirement already satisfied: requests-toolbelt>=0.9.1 in /usr/local/lib/python3.10/dist-packages (from cloudscraper<2.0.0,>=1.2.71->soccerdata) (1.0.0)\n",
            "Requirement already satisfied: six>=1.9 in /usr/local/lib/python3.10/dist-packages (from html5lib<2.0,>=1.1->soccerdata) (1.16.0)\n",
            "Requirement already satisfied: webencodings in /usr/local/lib/python3.10/dist-packages (from html5lib<2.0,>=1.1->soccerdata) (0.5.1)\n",
            "Requirement already satisfied: numpy>=1.22.4 in /usr/local/lib/python3.10/dist-packages (from pandas!=2.1.0,<3.0.0,>=2.0.0->soccerdata) (1.26.4)\n",
            "Requirement already satisfied: python-dateutil>=2.8.2 in /usr/local/lib/python3.10/dist-packages (from pandas!=2.1.0,<3.0.0,>=2.0.0->soccerdata) (2.8.2)\n",
            "Requirement already satisfied: pytz>=2020.1 in /usr/local/lib/python3.10/dist-packages (from pandas!=2.1.0,<3.0.0,>=2.0.0->soccerdata) (2024.2)\n",
            "Requirement already satisfied: tzdata>=2022.7 in /usr/local/lib/python3.10/dist-packages (from pandas!=2.1.0,<3.0.0,>=2.0.0->soccerdata) (2024.2)\n",
            "Requirement already satisfied: charset-normalizer<4,>=2 in /usr/local/lib/python3.10/dist-packages (from requests<3.0,>=2.23->soccerdata) (3.4.0)\n",
            "Requirement already satisfied: idna<4,>=2.5 in /usr/local/lib/python3.10/dist-packages (from requests<3.0,>=2.23->soccerdata) (3.10)\n",
            "Requirement already satisfied: urllib3<3,>=1.21.1 in /usr/local/lib/python3.10/dist-packages (from requests<3.0,>=2.23->soccerdata) (2.2.3)\n",
            "Requirement already satisfied: certifi>=2017.4.17 in /usr/local/lib/python3.10/dist-packages (from requests<3.0,>=2.23->soccerdata) (2024.8.30)\n",
            "Requirement already satisfied: markdown-it-py>=2.2.0 in /usr/local/lib/python3.10/dist-packages (from rich<14.0.0,>=13.0.0->soccerdata) (3.0.0)\n",
            "Requirement already satisfied: pygments<3.0.0,>=2.13.0 in /usr/local/lib/python3.10/dist-packages (from rich<14.0.0,>=13.0.0->soccerdata) (2.18.0)\n",
            "Requirement already satisfied: typing-extensions<5.0,>=4.0.0 in /usr/local/lib/python3.10/dist-packages (from rich<14.0.0,>=13.0.0->soccerdata) (4.12.2)\n",
            "Collecting selenium>=4.9.0 (from undetected-chromedriver<4.0.0,>=3.5.0->soccerdata)\n",
            "  Downloading selenium-4.26.1-py3-none-any.whl.metadata (7.1 kB)\n",
            "Collecting websockets (from undetected-chromedriver<4.0.0,>=3.5.0->soccerdata)\n",
            "  Downloading websockets-13.1-cp310-cp310-manylinux_2_5_x86_64.manylinux1_x86_64.manylinux_2_17_x86_64.manylinux2014_x86_64.whl.metadata (6.8 kB)\n",
            "Requirement already satisfied: mdurl~=0.1 in /usr/local/lib/python3.10/dist-packages (from markdown-it-py>=2.2.0->rich<14.0.0,>=13.0.0->soccerdata) (0.1.2)\n",
            "Collecting trio~=0.17 (from selenium>=4.9.0->undetected-chromedriver<4.0.0,>=3.5.0->soccerdata)\n",
            "  Downloading trio-0.27.0-py3-none-any.whl.metadata (8.6 kB)\n",
            "Collecting trio-websocket~=0.9 (from selenium>=4.9.0->undetected-chromedriver<4.0.0,>=3.5.0->soccerdata)\n",
            "  Downloading trio_websocket-0.11.1-py3-none-any.whl.metadata (4.7 kB)\n",
            "Requirement already satisfied: websocket-client~=1.8 in /usr/local/lib/python3.10/dist-packages (from selenium>=4.9.0->undetected-chromedriver<4.0.0,>=3.5.0->soccerdata) (1.8.0)\n",
            "Requirement already satisfied: attrs>=23.2.0 in /usr/local/lib/python3.10/dist-packages (from trio~=0.17->selenium>=4.9.0->undetected-chromedriver<4.0.0,>=3.5.0->soccerdata) (24.2.0)\n",
            "Collecting sortedcontainers (from trio~=0.17->selenium>=4.9.0->undetected-chromedriver<4.0.0,>=3.5.0->soccerdata)\n",
            "  Downloading sortedcontainers-2.4.0-py2.py3-none-any.whl.metadata (10 kB)\n",
            "Collecting outcome (from trio~=0.17->selenium>=4.9.0->undetected-chromedriver<4.0.0,>=3.5.0->soccerdata)\n",
            "  Downloading outcome-1.3.0.post0-py2.py3-none-any.whl.metadata (2.6 kB)\n",
            "Requirement already satisfied: sniffio>=1.3.0 in /usr/local/lib/python3.10/dist-packages (from trio~=0.17->selenium>=4.9.0->undetected-chromedriver<4.0.0,>=3.5.0->soccerdata) (1.3.1)\n",
            "Requirement already satisfied: exceptiongroup in /usr/local/lib/python3.10/dist-packages (from trio~=0.17->selenium>=4.9.0->undetected-chromedriver<4.0.0,>=3.5.0->soccerdata) (1.2.2)\n",
            "Collecting wsproto>=0.14 (from trio-websocket~=0.9->selenium>=4.9.0->undetected-chromedriver<4.0.0,>=3.5.0->soccerdata)\n",
            "  Downloading wsproto-1.2.0-py3-none-any.whl.metadata (5.6 kB)\n",
            "Requirement already satisfied: h11<1,>=0.9.0 in /usr/local/lib/python3.10/dist-packages (from wsproto>=0.14->trio-websocket~=0.9->selenium>=4.9.0->undetected-chromedriver<4.0.0,>=3.5.0->soccerdata) (0.14.0)\n",
            "Downloading soccerdata-1.8.3-py3-none-any.whl (57 kB)\n",
            "\u001b[2K   \u001b[90m━━━━━━━━━━━━━━━━━━━━━━━━━━━━━━━━━━━━━━━━\u001b[0m \u001b[32m57.4/57.4 kB\u001b[0m \u001b[31m2.9 MB/s\u001b[0m eta \u001b[36m0:00:00\u001b[0m\n",
            "\u001b[?25hDownloading cloudscraper-1.2.71-py2.py3-none-any.whl (99 kB)\n",
            "\u001b[2K   \u001b[90m━━━━━━━━━━━━━━━━━━━━━━━━━━━━━━━━━━━━━━━━\u001b[0m \u001b[32m99.7/99.7 kB\u001b[0m \u001b[31m5.3 MB/s\u001b[0m eta \u001b[36m0:00:00\u001b[0m\n",
            "\u001b[?25hDownloading lxml-4.9.4-cp310-cp310-manylinux_2_28_x86_64.whl (7.9 MB)\n",
            "\u001b[2K   \u001b[90m━━━━━━━━━━━━━━━━━━━━━━━━━━━━━━━━━━━━━━━━\u001b[0m \u001b[32m7.9/7.9 MB\u001b[0m \u001b[31m36.4 MB/s\u001b[0m eta \u001b[36m0:00:00\u001b[0m\n",
            "\u001b[?25hDownloading unicode-2.9-py2.py3-none-any.whl (14 kB)\n",
            "Downloading Unidecode-1.3.8-py3-none-any.whl (235 kB)\n",
            "\u001b[2K   \u001b[90m━━━━━━━━━━━━━━━━━━━━━━━━━━━━━━━━━━━━━━━━\u001b[0m \u001b[32m235.5/235.5 kB\u001b[0m \u001b[31m10.8 MB/s\u001b[0m eta \u001b[36m0:00:00\u001b[0m\n",
            "\u001b[?25hDownloading selenium-4.26.1-py3-none-any.whl (9.7 MB)\n",
            "\u001b[2K   \u001b[90m━━━━━━━━━━━━━━━━━━━━━━━━━━━━━━━━━━━━━━━━\u001b[0m \u001b[32m9.7/9.7 MB\u001b[0m \u001b[31m55.9 MB/s\u001b[0m eta \u001b[36m0:00:00\u001b[0m\n",
            "\u001b[?25hDownloading websockets-13.1-cp310-cp310-manylinux_2_5_x86_64.manylinux1_x86_64.manylinux_2_17_x86_64.manylinux2014_x86_64.whl (164 kB)\n",
            "\u001b[2K   \u001b[90m━━━━━━━━━━━━━━━━━━━━━━━━━━━━━━━━━━━━━━━━\u001b[0m \u001b[32m164.1/164.1 kB\u001b[0m \u001b[31m7.7 MB/s\u001b[0m eta \u001b[36m0:00:00\u001b[0m\n",
            "\u001b[?25hDownloading trio-0.27.0-py3-none-any.whl (481 kB)\n",
            "\u001b[2K   \u001b[90m━━━━━━━━━━━━━━━━━━━━━━━━━━━━━━━━━━━━━━━━\u001b[0m \u001b[32m481.7/481.7 kB\u001b[0m \u001b[31m19.4 MB/s\u001b[0m eta \u001b[36m0:00:00\u001b[0m\n",
            "\u001b[?25hDownloading trio_websocket-0.11.1-py3-none-any.whl (17 kB)\n",
            "Downloading wsproto-1.2.0-py3-none-any.whl (24 kB)\n",
            "Downloading outcome-1.3.0.post0-py2.py3-none-any.whl (10 kB)\n",
            "Downloading sortedcontainers-2.4.0-py2.py3-none-any.whl (29 kB)\n",
            "Building wheels for collected packages: undetected-chromedriver\n",
            "  Building wheel for undetected-chromedriver (setup.py) ... \u001b[?25l\u001b[?25hdone\n",
            "  Created wheel for undetected-chromedriver: filename=undetected_chromedriver-3.5.5-py3-none-any.whl size=47048 sha256=53db6214d6eae9338705ab612f7fb89b85abb8234fabea525a2c1834d60c5b6e\n",
            "  Stored in directory: /root/.cache/pip/wheels/cf/a1/db/e1275b6f7259aacd6b045f8bfcb1fcbc93827a3916ba55d5b7\n",
            "Successfully built undetected-chromedriver\n",
            "Installing collected packages: unicode, sortedcontainers, wsproto, websockets, Unidecode, outcome, lxml, trio, trio-websocket, cloudscraper, selenium, undetected-chromedriver, soccerdata\n",
            "  Attempting uninstall: lxml\n",
            "    Found existing installation: lxml 5.3.0\n",
            "    Uninstalling lxml-5.3.0:\n",
            "      Successfully uninstalled lxml-5.3.0\n",
            "Successfully installed Unidecode-1.3.8 cloudscraper-1.2.71 lxml-4.9.4 outcome-1.3.0.post0 selenium-4.26.1 soccerdata-1.8.3 sortedcontainers-2.4.0 trio-0.27.0 trio-websocket-0.11.1 undetected-chromedriver-3.5.5 unicode-2.9 websockets-13.1 wsproto-1.2.0\n"
          ]
        }
      ],
      "source": [
        "!pip install soccerdata"
      ]
    },
    {
      "cell_type": "code",
      "execution_count": null,
      "metadata": {
        "colab": {
          "base_uri": "https://localhost:8080/",
          "height": 780
        },
        "id": "jUu3TVk0xC5W",
        "outputId": "5527ed52-3b67-4d7b-f0da-018bcb6352fd"
      },
      "outputs": [
        {
          "output_type": "display_data",
          "data": {
            "text/plain": [
              "\u001b[2;36m[11/01/24 07:07:02]\u001b[0m\u001b[2;36m \u001b[0m\u001b[34mINFO    \u001b[0m No custom team name replacements found. You can configure these in       \u001b]8;id=374747;file:///usr/local/lib/python3.10/dist-packages/soccerdata/_config.py\u001b\\\u001b[2m_config.py\u001b[0m\u001b]8;;\u001b\\\u001b[2m:\u001b[0m\u001b]8;id=741373;file:///usr/local/lib/python3.10/dist-packages/soccerdata/_config.py#90\u001b\\\u001b[2m90\u001b[0m\u001b]8;;\u001b\\\n",
              "\u001b[2;36m                    \u001b[0m         \u001b[35m/root/soccerdata/config/\u001b[0m\u001b[95mteamname_replacements.json.\u001b[0m                      \u001b[2m             \u001b[0m\n"
            ],
            "text/html": [
              "<pre style=\"white-space:pre;overflow-x:auto;line-height:normal;font-family:Menlo,'DejaVu Sans Mono',consolas,'Courier New',monospace\"><span style=\"color: #7fbfbf; text-decoration-color: #7fbfbf\">[11/01/24 07:07:02] </span><span style=\"color: #000080; text-decoration-color: #000080\">INFO    </span> No custom team name replacements found. You can configure these in       <a href=\"file:///usr/local/lib/python3.10/dist-packages/soccerdata/_config.py\" target=\"_blank\"><span style=\"color: #7f7f7f; text-decoration-color: #7f7f7f\">_config.py</span></a><span style=\"color: #7f7f7f; text-decoration-color: #7f7f7f\">:</span><a href=\"file:///usr/local/lib/python3.10/dist-packages/soccerdata/_config.py#90\" target=\"_blank\"><span style=\"color: #7f7f7f; text-decoration-color: #7f7f7f\">90</span></a>\n",
              "<span style=\"color: #7fbfbf; text-decoration-color: #7fbfbf\">                    </span>         <span style=\"color: #800080; text-decoration-color: #800080\">/root/soccerdata/config/</span><span style=\"color: #ff00ff; text-decoration-color: #ff00ff\">teamname_replacements.json.</span>                      <span style=\"color: #7f7f7f; text-decoration-color: #7f7f7f\">             </span>\n",
              "</pre>\n"
            ]
          },
          "metadata": {}
        },
        {
          "output_type": "display_data",
          "data": {
            "text/plain": [
              "\u001b[2;36m                   \u001b[0m\u001b[2;36m \u001b[0m\u001b[34mINFO    \u001b[0m No custom league dict found. You can configure additional leagues in    \u001b]8;id=231375;file:///usr/local/lib/python3.10/dist-packages/soccerdata/_config.py\u001b\\\u001b[2m_config.py\u001b[0m\u001b]8;;\u001b\\\u001b[2m:\u001b[0m\u001b]8;id=33000;file:///usr/local/lib/python3.10/dist-packages/soccerdata/_config.py#196\u001b\\\u001b[2m196\u001b[0m\u001b]8;;\u001b\\\n",
              "\u001b[2;36m                    \u001b[0m         \u001b[35m/root/soccerdata/config/\u001b[0m\u001b[95mleague_dict.json.\u001b[0m                               \u001b[2m              \u001b[0m\n"
            ],
            "text/html": [
              "<pre style=\"white-space:pre;overflow-x:auto;line-height:normal;font-family:Menlo,'DejaVu Sans Mono',consolas,'Courier New',monospace\"><span style=\"color: #7fbfbf; text-decoration-color: #7fbfbf\">                    </span><span style=\"color: #000080; text-decoration-color: #000080\">INFO    </span> No custom league dict found. You can configure additional leagues in    <a href=\"file:///usr/local/lib/python3.10/dist-packages/soccerdata/_config.py\" target=\"_blank\"><span style=\"color: #7f7f7f; text-decoration-color: #7f7f7f\">_config.py</span></a><span style=\"color: #7f7f7f; text-decoration-color: #7f7f7f\">:</span><a href=\"file:///usr/local/lib/python3.10/dist-packages/soccerdata/_config.py#196\" target=\"_blank\"><span style=\"color: #7f7f7f; text-decoration-color: #7f7f7f\">196</span></a>\n",
              "<span style=\"color: #7fbfbf; text-decoration-color: #7fbfbf\">                    </span>         <span style=\"color: #800080; text-decoration-color: #800080\">/root/soccerdata/config/</span><span style=\"color: #ff00ff; text-decoration-color: #ff00ff\">league_dict.json.</span>                               <span style=\"color: #7f7f7f; text-decoration-color: #7f7f7f\">              </span>\n",
              "</pre>\n"
            ]
          },
          "metadata": {}
        },
        {
          "output_type": "display_data",
          "data": {
            "text/plain": [
              "\u001b[2;36m                   \u001b[0m\u001b[2;36m \u001b[0m\u001b[34mINFO    \u001b[0m Saving cached data to \u001b[35m/root/soccerdata/data/\u001b[0m\u001b[95mFBref\u001b[0m                       \u001b]8;id=939020;file:///usr/local/lib/python3.10/dist-packages/soccerdata/_common.py\u001b\\\u001b[2m_common.py\u001b[0m\u001b]8;;\u001b\\\u001b[2m:\u001b[0m\u001b]8;id=540813;file:///usr/local/lib/python3.10/dist-packages/soccerdata/_common.py#263\u001b\\\u001b[2m263\u001b[0m\u001b]8;;\u001b\\\n"
            ],
            "text/html": [
              "<pre style=\"white-space:pre;overflow-x:auto;line-height:normal;font-family:Menlo,'DejaVu Sans Mono',consolas,'Courier New',monospace\"><span style=\"color: #7fbfbf; text-decoration-color: #7fbfbf\">                    </span><span style=\"color: #000080; text-decoration-color: #000080\">INFO    </span> Saving cached data to <span style=\"color: #800080; text-decoration-color: #800080\">/root/soccerdata/data/</span><span style=\"color: #ff00ff; text-decoration-color: #ff00ff\">FBref</span>                       <a href=\"file:///usr/local/lib/python3.10/dist-packages/soccerdata/_common.py\" target=\"_blank\"><span style=\"color: #7f7f7f; text-decoration-color: #7f7f7f\">_common.py</span></a><span style=\"color: #7f7f7f; text-decoration-color: #7f7f7f\">:</span><a href=\"file:///usr/local/lib/python3.10/dist-packages/soccerdata/_common.py#263\" target=\"_blank\"><span style=\"color: #7f7f7f; text-decoration-color: #7f7f7f\">263</span></a>\n",
              "</pre>\n"
            ]
          },
          "metadata": {}
        },
        {
          "output_type": "stream",
          "name": "stdout",
          "text": [
            "Provides pd.DataFrames from data at http://fbref.com.\n",
            "\n",
            "    Data will be downloaded as necessary and cached locally in\n",
            "    ``~/soccerdata/data/FBref``.\n",
            "\n",
            "    Parameters\n",
            "    ----------\n",
            "    leagues : string or iterable, optional\n",
            "        IDs of leagues to include. For efficiently reading data from the Top-5\n",
            "        European leagues, use \"Big 5 European Leagues Combined\".\n",
            "    seasons : string, int or list, optional\n",
            "        Seasons to include. Supports multiple formats.\n",
            "        Examples: '16-17'; 2016; '2016-17'; [14, 15, 16]\n",
            "    proxy : 'tor' or dict or list(dict) or callable, optional\n",
            "        Use a proxy to hide your IP address. Valid options are:\n",
            "            - \"tor\": Uses the Tor network. Tor should be running in\n",
            "              the background on port 9050.\n",
            "            - dict: A dictionary with the proxy to use. The dict should be\n",
            "              a mapping of supported protocols to proxy addresses. For example::\n",
            "\n",
            "                  {\n",
            "                      'http': 'http://10.10.1.10:3128',\n",
            "                      'https': 'http://10.10.1.10:1080',\n",
            "                  }\n",
            "\n",
            "            - list(dict): A list of proxies to choose from. A different proxy will\n",
            "              be selected from this list after failed requests, allowing rotating\n",
            "              proxies.\n",
            "            - callable: A function that returns a valid proxy. This function will\n",
            "              be called after failed requests, allowing rotating proxies.\n",
            "    no_cache : bool\n",
            "        If True, will not use cached data.\n",
            "    no_store : bool\n",
            "        If True, will not store downloaded data.\n",
            "    data_dir : Path\n",
            "        Path to directory where data will be cached.\n",
            "    \n"
          ]
        },
        {
          "output_type": "stream",
          "name": "stderr",
          "text": [
            "/usr/local/lib/python3.10/dist-packages/soccerdata/_common.py:145: UserWarning: Season id \"2021\" is ambiguous: interpreting as \"20-21\"\n",
            "  warnings.warn(msg, stacklevel=1)\n"
          ]
        }
      ],
      "source": [
        "import soccerdata as sd\n",
        "fbref = sd.FBref(leagues='Big 5 European Leagues Combined', seasons=[2017,2018,2019,2020,2021,2022,2023,2024])\n",
        "print(fbref.__doc__)"
      ]
    },
    {
      "cell_type": "markdown",
      "source": [
        "Статистики по командам"
      ],
      "metadata": {
        "id": "kzBdtvh4j3D6"
      }
    },
    {
      "cell_type": "code",
      "execution_count": null,
      "metadata": {
        "colab": {
          "base_uri": "https://localhost:8080/",
          "height": 417
        },
        "id": "SFTaCLHSxRPw",
        "outputId": "2750a72f-e7ac-459a-ec3e-e64b69974be9"
      },
      "outputs": [
        {
          "data": {
            "application/vnd.google.colaboratory.intrinsic+json": {
              "type": "dataframe",
              "variable_name": "team_season_stats"
            },
            "text/html": [
              "\n",
              "  <div id=\"df-2f7fd590-d4c9-4d4f-b65f-b4127d3b3cfa\" class=\"colab-df-container\">\n",
              "    <div>\n",
              "<style scoped>\n",
              "    .dataframe tbody tr th:only-of-type {\n",
              "        vertical-align: middle;\n",
              "    }\n",
              "\n",
              "    .dataframe tbody tr th {\n",
              "        vertical-align: top;\n",
              "    }\n",
              "\n",
              "    .dataframe thead tr th {\n",
              "        text-align: left;\n",
              "    }\n",
              "\n",
              "    .dataframe thead tr:last-of-type th {\n",
              "        text-align: right;\n",
              "    }\n",
              "</style>\n",
              "<table border=\"1\" class=\"dataframe\">\n",
              "  <thead>\n",
              "    <tr>\n",
              "      <th></th>\n",
              "      <th></th>\n",
              "      <th></th>\n",
              "      <th>players_used</th>\n",
              "      <th>90s</th>\n",
              "      <th colspan=\"5\" halign=\"left\">Total</th>\n",
              "      <th colspan=\"3\" halign=\"left\">Short</th>\n",
              "      <th>...</th>\n",
              "      <th>Ast</th>\n",
              "      <th>xAG</th>\n",
              "      <th colspan=\"2\" halign=\"left\">Expected</th>\n",
              "      <th>KP</th>\n",
              "      <th>1/3</th>\n",
              "      <th>PPA</th>\n",
              "      <th>CrsPA</th>\n",
              "      <th>PrgP</th>\n",
              "      <th>url</th>\n",
              "    </tr>\n",
              "    <tr>\n",
              "      <th></th>\n",
              "      <th></th>\n",
              "      <th></th>\n",
              "      <th></th>\n",
              "      <th></th>\n",
              "      <th>Cmp</th>\n",
              "      <th>Att</th>\n",
              "      <th>Cmp%</th>\n",
              "      <th>TotDist</th>\n",
              "      <th>PrgDist</th>\n",
              "      <th>Cmp</th>\n",
              "      <th>Att</th>\n",
              "      <th>Cmp%</th>\n",
              "      <th>...</th>\n",
              "      <th></th>\n",
              "      <th></th>\n",
              "      <th>xA</th>\n",
              "      <th>A-xAG</th>\n",
              "      <th></th>\n",
              "      <th></th>\n",
              "      <th></th>\n",
              "      <th></th>\n",
              "      <th></th>\n",
              "      <th></th>\n",
              "    </tr>\n",
              "    <tr>\n",
              "      <th>league</th>\n",
              "      <th>season</th>\n",
              "      <th>team</th>\n",
              "      <th></th>\n",
              "      <th></th>\n",
              "      <th></th>\n",
              "      <th></th>\n",
              "      <th></th>\n",
              "      <th></th>\n",
              "      <th></th>\n",
              "      <th></th>\n",
              "      <th></th>\n",
              "      <th></th>\n",
              "      <th></th>\n",
              "      <th></th>\n",
              "      <th></th>\n",
              "      <th></th>\n",
              "      <th></th>\n",
              "      <th></th>\n",
              "      <th></th>\n",
              "      <th></th>\n",
              "      <th></th>\n",
              "      <th></th>\n",
              "      <th></th>\n",
              "    </tr>\n",
              "  </thead>\n",
              "  <tbody>\n",
              "    <tr>\n",
              "      <th rowspan=\"5\" valign=\"top\">ENG-Premier League</th>\n",
              "      <th rowspan=\"5\" valign=\"top\">1718</th>\n",
              "      <th>Arsenal</th>\n",
              "      <td>30</td>\n",
              "      <td>38</td>\n",
              "      <td>20878</td>\n",
              "      <td>25193</td>\n",
              "      <td>82.9</td>\n",
              "      <td>353044</td>\n",
              "      <td>121329</td>\n",
              "      <td>9800</td>\n",
              "      <td>10957</td>\n",
              "      <td>89.4</td>\n",
              "      <td>...</td>\n",
              "      <td>61</td>\n",
              "      <td>53.3</td>\n",
              "      <td>55.2</td>\n",
              "      <td>7.7</td>\n",
              "      <td>444</td>\n",
              "      <td>1658</td>\n",
              "      <td>478</td>\n",
              "      <td>49</td>\n",
              "      <td>2223</td>\n",
              "      <td>/en/squads/18bb7c10/2017-2018/Arsenal-Stats</td>\n",
              "    </tr>\n",
              "    <tr>\n",
              "      <th>Bournemouth</th>\n",
              "      <td>22</td>\n",
              "      <td>38</td>\n",
              "      <td>13450</td>\n",
              "      <td>17962</td>\n",
              "      <td>74.9</td>\n",
              "      <td>251392</td>\n",
              "      <td>100287</td>\n",
              "      <td>5626</td>\n",
              "      <td>6838</td>\n",
              "      <td>82.3</td>\n",
              "      <td>...</td>\n",
              "      <td>36</td>\n",
              "      <td>29.1</td>\n",
              "      <td>30.3</td>\n",
              "      <td>6.9</td>\n",
              "      <td>348</td>\n",
              "      <td>1220</td>\n",
              "      <td>291</td>\n",
              "      <td>67</td>\n",
              "      <td>1526</td>\n",
              "      <td>/en/squads/4ba7cbea/2017-2018/Bournemouth-Stats</td>\n",
              "    </tr>\n",
              "    <tr>\n",
              "      <th>Brighton</th>\n",
              "      <td>24</td>\n",
              "      <td>38</td>\n",
              "      <td>11838</td>\n",
              "      <td>16372</td>\n",
              "      <td>72.3</td>\n",
              "      <td>227791</td>\n",
              "      <td>89034</td>\n",
              "      <td>4898</td>\n",
              "      <td>5881</td>\n",
              "      <td>83.3</td>\n",
              "      <td>...</td>\n",
              "      <td>25</td>\n",
              "      <td>26.2</td>\n",
              "      <td>22.5</td>\n",
              "      <td>-1.2</td>\n",
              "      <td>283</td>\n",
              "      <td>885</td>\n",
              "      <td>193</td>\n",
              "      <td>65</td>\n",
              "      <td>1230</td>\n",
              "      <td>/en/squads/d07537b9/2017-2018/Brighton-and-Hov...</td>\n",
              "    </tr>\n",
              "    <tr>\n",
              "      <th>Burnley</th>\n",
              "      <td>24</td>\n",
              "      <td>38</td>\n",
              "      <td>10524</td>\n",
              "      <td>15340</td>\n",
              "      <td>68.6</td>\n",
              "      <td>209049</td>\n",
              "      <td>89786</td>\n",
              "      <td>4349</td>\n",
              "      <td>5306</td>\n",
              "      <td>82.0</td>\n",
              "      <td>...</td>\n",
              "      <td>26</td>\n",
              "      <td>23.6</td>\n",
              "      <td>23.5</td>\n",
              "      <td>2.4</td>\n",
              "      <td>278</td>\n",
              "      <td>974</td>\n",
              "      <td>213</td>\n",
              "      <td>89</td>\n",
              "      <td>1103</td>\n",
              "      <td>/en/squads/943e8050/2017-2018/Burnley-Stats</td>\n",
              "    </tr>\n",
              "    <tr>\n",
              "      <th>Chelsea</th>\n",
              "      <td>26</td>\n",
              "      <td>38</td>\n",
              "      <td>18967</td>\n",
              "      <td>23101</td>\n",
              "      <td>82.1</td>\n",
              "      <td>329238</td>\n",
              "      <td>111578</td>\n",
              "      <td>8564</td>\n",
              "      <td>9566</td>\n",
              "      <td>89.5</td>\n",
              "      <td>...</td>\n",
              "      <td>42</td>\n",
              "      <td>41.5</td>\n",
              "      <td>43.3</td>\n",
              "      <td>0.5</td>\n",
              "      <td>482</td>\n",
              "      <td>1431</td>\n",
              "      <td>398</td>\n",
              "      <td>74</td>\n",
              "      <td>1998</td>\n",
              "      <td>/en/squads/cff3d9bb/2017-2018/Chelsea-Stats</td>\n",
              "    </tr>\n",
              "  </tbody>\n",
              "</table>\n",
              "<p>5 rows × 26 columns</p>\n",
              "</div>\n",
              "    <div class=\"colab-df-buttons\">\n",
              "\n",
              "  <div class=\"colab-df-container\">\n",
              "    <button class=\"colab-df-convert\" onclick=\"convertToInteractive('df-2f7fd590-d4c9-4d4f-b65f-b4127d3b3cfa')\"\n",
              "            title=\"Convert this dataframe to an interactive table.\"\n",
              "            style=\"display:none;\">\n",
              "\n",
              "  <svg xmlns=\"http://www.w3.org/2000/svg\" height=\"24px\" viewBox=\"0 -960 960 960\">\n",
              "    <path d=\"M120-120v-720h720v720H120Zm60-500h600v-160H180v160Zm220 220h160v-160H400v160Zm0 220h160v-160H400v160ZM180-400h160v-160H180v160Zm440 0h160v-160H620v160ZM180-180h160v-160H180v160Zm440 0h160v-160H620v160Z\"/>\n",
              "  </svg>\n",
              "    </button>\n",
              "\n",
              "  <style>\n",
              "    .colab-df-container {\n",
              "      display:flex;\n",
              "      gap: 12px;\n",
              "    }\n",
              "\n",
              "    .colab-df-convert {\n",
              "      background-color: #E8F0FE;\n",
              "      border: none;\n",
              "      border-radius: 50%;\n",
              "      cursor: pointer;\n",
              "      display: none;\n",
              "      fill: #1967D2;\n",
              "      height: 32px;\n",
              "      padding: 0 0 0 0;\n",
              "      width: 32px;\n",
              "    }\n",
              "\n",
              "    .colab-df-convert:hover {\n",
              "      background-color: #E2EBFA;\n",
              "      box-shadow: 0px 1px 2px rgba(60, 64, 67, 0.3), 0px 1px 3px 1px rgba(60, 64, 67, 0.15);\n",
              "      fill: #174EA6;\n",
              "    }\n",
              "\n",
              "    .colab-df-buttons div {\n",
              "      margin-bottom: 4px;\n",
              "    }\n",
              "\n",
              "    [theme=dark] .colab-df-convert {\n",
              "      background-color: #3B4455;\n",
              "      fill: #D2E3FC;\n",
              "    }\n",
              "\n",
              "    [theme=dark] .colab-df-convert:hover {\n",
              "      background-color: #434B5C;\n",
              "      box-shadow: 0px 1px 3px 1px rgba(0, 0, 0, 0.15);\n",
              "      filter: drop-shadow(0px 1px 2px rgba(0, 0, 0, 0.3));\n",
              "      fill: #FFFFFF;\n",
              "    }\n",
              "  </style>\n",
              "\n",
              "    <script>\n",
              "      const buttonEl =\n",
              "        document.querySelector('#df-2f7fd590-d4c9-4d4f-b65f-b4127d3b3cfa button.colab-df-convert');\n",
              "      buttonEl.style.display =\n",
              "        google.colab.kernel.accessAllowed ? 'block' : 'none';\n",
              "\n",
              "      async function convertToInteractive(key) {\n",
              "        const element = document.querySelector('#df-2f7fd590-d4c9-4d4f-b65f-b4127d3b3cfa');\n",
              "        const dataTable =\n",
              "          await google.colab.kernel.invokeFunction('convertToInteractive',\n",
              "                                                    [key], {});\n",
              "        if (!dataTable) return;\n",
              "\n",
              "        const docLinkHtml = 'Like what you see? Visit the ' +\n",
              "          '<a target=\"_blank\" href=https://colab.research.google.com/notebooks/data_table.ipynb>data table notebook</a>'\n",
              "          + ' to learn more about interactive tables.';\n",
              "        element.innerHTML = '';\n",
              "        dataTable['output_type'] = 'display_data';\n",
              "        await google.colab.output.renderOutput(dataTable, element);\n",
              "        const docLink = document.createElement('div');\n",
              "        docLink.innerHTML = docLinkHtml;\n",
              "        element.appendChild(docLink);\n",
              "      }\n",
              "    </script>\n",
              "  </div>\n",
              "\n",
              "\n",
              "<div id=\"df-49d924e1-c4f7-40ea-a3d7-d530ce357de2\">\n",
              "  <button class=\"colab-df-quickchart\" onclick=\"quickchart('df-49d924e1-c4f7-40ea-a3d7-d530ce357de2')\"\n",
              "            title=\"Suggest charts\"\n",
              "            style=\"display:none;\">\n",
              "\n",
              "<svg xmlns=\"http://www.w3.org/2000/svg\" height=\"24px\"viewBox=\"0 0 24 24\"\n",
              "     width=\"24px\">\n",
              "    <g>\n",
              "        <path d=\"M19 3H5c-1.1 0-2 .9-2 2v14c0 1.1.9 2 2 2h14c1.1 0 2-.9 2-2V5c0-1.1-.9-2-2-2zM9 17H7v-7h2v7zm4 0h-2V7h2v10zm4 0h-2v-4h2v4z\"/>\n",
              "    </g>\n",
              "</svg>\n",
              "  </button>\n",
              "\n",
              "<style>\n",
              "  .colab-df-quickchart {\n",
              "      --bg-color: #E8F0FE;\n",
              "      --fill-color: #1967D2;\n",
              "      --hover-bg-color: #E2EBFA;\n",
              "      --hover-fill-color: #174EA6;\n",
              "      --disabled-fill-color: #AAA;\n",
              "      --disabled-bg-color: #DDD;\n",
              "  }\n",
              "\n",
              "  [theme=dark] .colab-df-quickchart {\n",
              "      --bg-color: #3B4455;\n",
              "      --fill-color: #D2E3FC;\n",
              "      --hover-bg-color: #434B5C;\n",
              "      --hover-fill-color: #FFFFFF;\n",
              "      --disabled-bg-color: #3B4455;\n",
              "      --disabled-fill-color: #666;\n",
              "  }\n",
              "\n",
              "  .colab-df-quickchart {\n",
              "    background-color: var(--bg-color);\n",
              "    border: none;\n",
              "    border-radius: 50%;\n",
              "    cursor: pointer;\n",
              "    display: none;\n",
              "    fill: var(--fill-color);\n",
              "    height: 32px;\n",
              "    padding: 0;\n",
              "    width: 32px;\n",
              "  }\n",
              "\n",
              "  .colab-df-quickchart:hover {\n",
              "    background-color: var(--hover-bg-color);\n",
              "    box-shadow: 0 1px 2px rgba(60, 64, 67, 0.3), 0 1px 3px 1px rgba(60, 64, 67, 0.15);\n",
              "    fill: var(--button-hover-fill-color);\n",
              "  }\n",
              "\n",
              "  .colab-df-quickchart-complete:disabled,\n",
              "  .colab-df-quickchart-complete:disabled:hover {\n",
              "    background-color: var(--disabled-bg-color);\n",
              "    fill: var(--disabled-fill-color);\n",
              "    box-shadow: none;\n",
              "  }\n",
              "\n",
              "  .colab-df-spinner {\n",
              "    border: 2px solid var(--fill-color);\n",
              "    border-color: transparent;\n",
              "    border-bottom-color: var(--fill-color);\n",
              "    animation:\n",
              "      spin 1s steps(1) infinite;\n",
              "  }\n",
              "\n",
              "  @keyframes spin {\n",
              "    0% {\n",
              "      border-color: transparent;\n",
              "      border-bottom-color: var(--fill-color);\n",
              "      border-left-color: var(--fill-color);\n",
              "    }\n",
              "    20% {\n",
              "      border-color: transparent;\n",
              "      border-left-color: var(--fill-color);\n",
              "      border-top-color: var(--fill-color);\n",
              "    }\n",
              "    30% {\n",
              "      border-color: transparent;\n",
              "      border-left-color: var(--fill-color);\n",
              "      border-top-color: var(--fill-color);\n",
              "      border-right-color: var(--fill-color);\n",
              "    }\n",
              "    40% {\n",
              "      border-color: transparent;\n",
              "      border-right-color: var(--fill-color);\n",
              "      border-top-color: var(--fill-color);\n",
              "    }\n",
              "    60% {\n",
              "      border-color: transparent;\n",
              "      border-right-color: var(--fill-color);\n",
              "    }\n",
              "    80% {\n",
              "      border-color: transparent;\n",
              "      border-right-color: var(--fill-color);\n",
              "      border-bottom-color: var(--fill-color);\n",
              "    }\n",
              "    90% {\n",
              "      border-color: transparent;\n",
              "      border-bottom-color: var(--fill-color);\n",
              "    }\n",
              "  }\n",
              "</style>\n",
              "\n",
              "  <script>\n",
              "    async function quickchart(key) {\n",
              "      const quickchartButtonEl =\n",
              "        document.querySelector('#' + key + ' button');\n",
              "      quickchartButtonEl.disabled = true;  // To prevent multiple clicks.\n",
              "      quickchartButtonEl.classList.add('colab-df-spinner');\n",
              "      try {\n",
              "        const charts = await google.colab.kernel.invokeFunction(\n",
              "            'suggestCharts', [key], {});\n",
              "      } catch (error) {\n",
              "        console.error('Error during call to suggestCharts:', error);\n",
              "      }\n",
              "      quickchartButtonEl.classList.remove('colab-df-spinner');\n",
              "      quickchartButtonEl.classList.add('colab-df-quickchart-complete');\n",
              "    }\n",
              "    (() => {\n",
              "      let quickchartButtonEl =\n",
              "        document.querySelector('#df-49d924e1-c4f7-40ea-a3d7-d530ce357de2 button');\n",
              "      quickchartButtonEl.style.display =\n",
              "        google.colab.kernel.accessAllowed ? 'block' : 'none';\n",
              "    })();\n",
              "  </script>\n",
              "</div>\n",
              "    </div>\n",
              "  </div>\n"
            ],
            "text/plain": [
              "                                      players_used 90s  Total               \\\n",
              "                                                          Cmp    Att  Cmp%   \n",
              "league             season team                                               \n",
              "ENG-Premier League 1718   Arsenal               30  38  20878  25193  82.9   \n",
              "                          Bournemouth           22  38  13450  17962  74.9   \n",
              "                          Brighton              24  38  11838  16372  72.3   \n",
              "                          Burnley               24  38  10524  15340  68.6   \n",
              "                          Chelsea               26  38  18967  23101  82.1   \n",
              "\n",
              "                                                      Short               ...  \\\n",
              "                                      TotDist PrgDist   Cmp    Att  Cmp%  ...   \n",
              "league             season team                                            ...   \n",
              "ENG-Premier League 1718   Arsenal      353044  121329  9800  10957  89.4  ...   \n",
              "                          Bournemouth  251392  100287  5626   6838  82.3  ...   \n",
              "                          Brighton     227791   89034  4898   5881  83.3  ...   \n",
              "                          Burnley      209049   89786  4349   5306  82.0  ...   \n",
              "                          Chelsea      329238  111578  8564   9566  89.5  ...   \n",
              "\n",
              "                                      Ast   xAG Expected         KP   1/3  \\\n",
              "                                                      xA A-xAG              \n",
              "league             season team                                              \n",
              "ENG-Premier League 1718   Arsenal      61  53.3     55.2   7.7  444  1658   \n",
              "                          Bournemouth  36  29.1     30.3   6.9  348  1220   \n",
              "                          Brighton     25  26.2     22.5  -1.2  283   885   \n",
              "                          Burnley      26  23.6     23.5   2.4  278   974   \n",
              "                          Chelsea      42  41.5     43.3   0.5  482  1431   \n",
              "\n",
              "                                       PPA CrsPA  PrgP  \\\n",
              "                                                         \n",
              "league             season team                           \n",
              "ENG-Premier League 1718   Arsenal      478    49  2223   \n",
              "                          Bournemouth  291    67  1526   \n",
              "                          Brighton     193    65  1230   \n",
              "                          Burnley      213    89  1103   \n",
              "                          Chelsea      398    74  1998   \n",
              "\n",
              "                                                                                     url  \n",
              "                                                                                          \n",
              "league             season team                                                            \n",
              "ENG-Premier League 1718   Arsenal            /en/squads/18bb7c10/2017-2018/Arsenal-Stats  \n",
              "                          Bournemouth    /en/squads/4ba7cbea/2017-2018/Bournemouth-Stats  \n",
              "                          Brighton     /en/squads/d07537b9/2017-2018/Brighton-and-Hov...  \n",
              "                          Burnley            /en/squads/943e8050/2017-2018/Burnley-Stats  \n",
              "                          Chelsea            /en/squads/cff3d9bb/2017-2018/Chelsea-Stats  \n",
              "\n",
              "[5 rows x 26 columns]"
            ]
          },
          "execution_count": 37,
          "metadata": {},
          "output_type": "execute_result"
        }
      ],
      "source": [
        "team_season_stats = fbref.read_team_season_stats(stat_type=\"passing\")\n",
        "team_season_stats.head()"
      ]
    },
    {
      "cell_type": "code",
      "execution_count": null,
      "metadata": {
        "id": "1fZDe_sb7b7K"
      },
      "outputs": [],
      "source": [
        "team_stat = team_season_stats.copy()"
      ]
    },
    {
      "cell_type": "code",
      "execution_count": null,
      "metadata": {
        "id": "_cVXzarN0G4N"
      },
      "outputs": [],
      "source": [
        "measures = ['standard', 'keeper', 'keeper_adv', 'shooting','passing_types','goal_shot_creation','defense','possession','playing_time','misc']"
      ]
    },
    {
      "cell_type": "code",
      "execution_count": null,
      "metadata": {
        "id": "Gv4hFD-n3kAw"
      },
      "outputs": [],
      "source": [
        "for i in range(len(measures)):\n",
        "  stats = fbref.read_team_season_stats(stat_type=measures[i])\n",
        "  team_stat = team_stat.merge(stats, on = ['team','season'],  suffixes=(f'_x{i}', f'_y{i}'))"
      ]
    },
    {
      "cell_type": "code",
      "execution_count": null,
      "metadata": {
        "id": "JQbSwtoCBRx5"
      },
      "outputs": [],
      "source": [
        "team_stat.to_csv(\"team_stat.csv\")"
      ]
    },
    {
      "cell_type": "code",
      "source": [
        "import pandas as pd\n",
        "team_stat = pd.read_csv(\"team_stat.csv\")"
      ],
      "metadata": {
        "id": "0NJ2ZvaUmfl4"
      },
      "execution_count": null,
      "outputs": []
    },
    {
      "cell_type": "code",
      "source": [
        "l = list(team_stat['Unnamed: 0'].unique()[2:])"
      ],
      "metadata": {
        "id": "LPV0ECvbmyP1"
      },
      "execution_count": null,
      "outputs": []
    },
    {
      "cell_type": "code",
      "source": [
        "fbref2 = sd.FBref(leagues='Big 5 European Leagues Combined', seasons=['17-18','18-19','19-20','20-21','21-22','22-23','23-24','24-25'])\n",
        "team_match_stats1 = fbref2.read_team_match_stats(stat_type=\"schedule\", team = l[0])\n",
        "team_match_stats1"
      ],
      "metadata": {
        "colab": {
          "base_uri": "https://localhost:8080/",
          "height": 297
        },
        "id": "12Gu3_YFp_xe",
        "outputId": "9c832c7a-434a-4c7a-aa94-27c9247d13a9"
      },
      "execution_count": null,
      "outputs": [
        {
          "output_type": "display_data",
          "data": {
            "text/plain": [
              "\u001b[2;36m[11/01/24 07:48:54]\u001b[0m\u001b[2;36m \u001b[0m\u001b[34mINFO    \u001b[0m Saving cached data to \u001b[35m/root/soccerdata/data/\u001b[0m\u001b[95mFBref\u001b[0m                       \u001b]8;id=238987;file:///usr/local/lib/python3.10/dist-packages/soccerdata/_common.py\u001b\\\u001b[2m_common.py\u001b[0m\u001b]8;;\u001b\\\u001b[2m:\u001b[0m\u001b]8;id=431807;file:///usr/local/lib/python3.10/dist-packages/soccerdata/_common.py#263\u001b\\\u001b[2m263\u001b[0m\u001b]8;;\u001b\\\n"
            ],
            "text/html": [
              "<pre style=\"white-space:pre;overflow-x:auto;line-height:normal;font-family:Menlo,'DejaVu Sans Mono',consolas,'Courier New',monospace\"><span style=\"color: #7fbfbf; text-decoration-color: #7fbfbf\">[11/01/24 07:48:54] </span><span style=\"color: #000080; text-decoration-color: #000080\">INFO    </span> Saving cached data to <span style=\"color: #800080; text-decoration-color: #800080\">/root/soccerdata/data/</span><span style=\"color: #ff00ff; text-decoration-color: #ff00ff\">FBref</span>                       <a href=\"file:///usr/local/lib/python3.10/dist-packages/soccerdata/_common.py\" target=\"_blank\"><span style=\"color: #7f7f7f; text-decoration-color: #7f7f7f\">_common.py</span></a><span style=\"color: #7f7f7f; text-decoration-color: #7f7f7f\">:</span><a href=\"file:///usr/local/lib/python3.10/dist-packages/soccerdata/_common.py#263\" target=\"_blank\"><span style=\"color: #7f7f7f; text-decoration-color: #7f7f7f\">263</span></a>\n",
              "</pre>\n"
            ]
          },
          "metadata": {}
        },
        {
          "output_type": "execute_result",
          "data": {
            "text/plain": [
              "                                                             date      time  \\\n",
              "league season team    game                                                    \n",
              "<NA>   2223   Ajaccio 2023-01-08 Jura Sud Foot-Ajaccio 2023-01-08  15:30:00   \n",
              "                      2023-01-21 Toulouse-Ajaccio      2023-01-21  18:00:00   \n",
              "\n",
              "                                                              round  day  \\\n",
              "league season team    game                                                 \n",
              "<NA>   2223   Ajaccio 2023-01-08 Jura Sud Foot-Ajaccio  Round of 64  Sun   \n",
              "                      2023-01-21 Toulouse-Ajaccio       Round of 32  Sat   \n",
              "\n",
              "                                                       venue result  GF  GA  \\\n",
              "league season team    game                                                    \n",
              "<NA>   2223   Ajaccio 2023-01-08 Jura Sud Foot-Ajaccio  Away      W   2   1   \n",
              "                      2023-01-21 Toulouse-Ajaccio       Away      L   0   2   \n",
              "\n",
              "                                                             opponent    xG  \\\n",
              "league season team    game                                                    \n",
              "<NA>   2223   Ajaccio 2023-01-08 Jura Sud Foot-Ajaccio  Jura Sud Foot  <NA>   \n",
              "                      2023-01-21 Toulouse-Ajaccio            Toulouse  <NA>   \n",
              "\n",
              "                                                         xGA  Poss  \\\n",
              "league season team    game                                           \n",
              "<NA>   2223   Ajaccio 2023-01-08 Jura Sud Foot-Ajaccio  <NA>    55   \n",
              "                      2023-01-21 Toulouse-Ajaccio       <NA>    37   \n",
              "\n",
              "                                                        Attendance  \\\n",
              "league season team    game                                           \n",
              "<NA>   2223   Ajaccio 2023-01-08 Jura Sud Foot-Ajaccio        1957   \n",
              "                      2023-01-21 Toulouse-Ajaccio            18708   \n",
              "\n",
              "                                                                  Captain  \\\n",
              "league season team    game                                                  \n",
              "<NA>   2223   Ajaccio 2023-01-08 Jura Sud Foot-Ajaccio  Vincent Marchetti   \n",
              "                      2023-01-21 Toulouse-Ajaccio              Riad Nouri   \n",
              "\n",
              "                                                       Formation  \\\n",
              "league season team    game                                         \n",
              "<NA>   2223   Ajaccio 2023-01-08 Jura Sud Foot-Ajaccio   4-2-3-1   \n",
              "                      2023-01-21 Toulouse-Ajaccio          4-4-2   \n",
              "\n",
              "                                                       Opp Formation  \\\n",
              "league season team    game                                             \n",
              "<NA>   2223   Ajaccio 2023-01-08 Jura Sud Foot-Ajaccio       4-2-3-1   \n",
              "                      2023-01-21 Toulouse-Ajaccio              4-3-3   \n",
              "\n",
              "                                                                   Referee  \\\n",
              "league season team    game                                                   \n",
              "<NA>   2223   Ajaccio 2023-01-08 Jura Sud Foot-Ajaccio  Stéphanie Frappart   \n",
              "                      2023-01-21 Toulouse-Ajaccio        François Letexier   \n",
              "\n",
              "                                                                                             match_report  \\\n",
              "league season team    game                                                                                  \n",
              "<NA>   2223   Ajaccio 2023-01-08 Jura Sud Foot-Ajaccio  /en/matches/9e1109e9/Jura-Sud-Foot-Ajaccio-Jan...   \n",
              "                      2023-01-21 Toulouse-Ajaccio       /en/matches/c9a9802b/Toulouse-Ajaccio-January-...   \n",
              "\n",
              "                                                        Notes  \n",
              "league season team    game                                     \n",
              "<NA>   2223   Ajaccio 2023-01-08 Jura Sud Foot-Ajaccio   <NA>  \n",
              "                      2023-01-21 Toulouse-Ajaccio        <NA>  "
            ],
            "text/html": [
              "\n",
              "  <div id=\"df-1055f0d6-0621-4cf9-af6a-495a39841406\" class=\"colab-df-container\">\n",
              "    <div>\n",
              "<style scoped>\n",
              "    .dataframe tbody tr th:only-of-type {\n",
              "        vertical-align: middle;\n",
              "    }\n",
              "\n",
              "    .dataframe tbody tr th {\n",
              "        vertical-align: top;\n",
              "    }\n",
              "\n",
              "    .dataframe thead th {\n",
              "        text-align: right;\n",
              "    }\n",
              "</style>\n",
              "<table border=\"1\" class=\"dataframe\">\n",
              "  <thead>\n",
              "    <tr style=\"text-align: right;\">\n",
              "      <th></th>\n",
              "      <th></th>\n",
              "      <th></th>\n",
              "      <th></th>\n",
              "      <th>date</th>\n",
              "      <th>time</th>\n",
              "      <th>round</th>\n",
              "      <th>day</th>\n",
              "      <th>venue</th>\n",
              "      <th>result</th>\n",
              "      <th>GF</th>\n",
              "      <th>GA</th>\n",
              "      <th>opponent</th>\n",
              "      <th>xG</th>\n",
              "      <th>xGA</th>\n",
              "      <th>Poss</th>\n",
              "      <th>Attendance</th>\n",
              "      <th>Captain</th>\n",
              "      <th>Formation</th>\n",
              "      <th>Opp Formation</th>\n",
              "      <th>Referee</th>\n",
              "      <th>match_report</th>\n",
              "      <th>Notes</th>\n",
              "    </tr>\n",
              "    <tr>\n",
              "      <th>league</th>\n",
              "      <th>season</th>\n",
              "      <th>team</th>\n",
              "      <th>game</th>\n",
              "      <th></th>\n",
              "      <th></th>\n",
              "      <th></th>\n",
              "      <th></th>\n",
              "      <th></th>\n",
              "      <th></th>\n",
              "      <th></th>\n",
              "      <th></th>\n",
              "      <th></th>\n",
              "      <th></th>\n",
              "      <th></th>\n",
              "      <th></th>\n",
              "      <th></th>\n",
              "      <th></th>\n",
              "      <th></th>\n",
              "      <th></th>\n",
              "      <th></th>\n",
              "      <th></th>\n",
              "      <th></th>\n",
              "    </tr>\n",
              "  </thead>\n",
              "  <tbody>\n",
              "    <tr>\n",
              "      <th rowspan=\"2\" valign=\"top\">&lt;NA&gt;</th>\n",
              "      <th rowspan=\"2\" valign=\"top\">2223</th>\n",
              "      <th rowspan=\"2\" valign=\"top\">Ajaccio</th>\n",
              "      <th>2023-01-08 Jura Sud Foot-Ajaccio</th>\n",
              "      <td>2023-01-08</td>\n",
              "      <td>15:30:00</td>\n",
              "      <td>Round of 64</td>\n",
              "      <td>Sun</td>\n",
              "      <td>Away</td>\n",
              "      <td>W</td>\n",
              "      <td>2</td>\n",
              "      <td>1</td>\n",
              "      <td>Jura Sud Foot</td>\n",
              "      <td>&lt;NA&gt;</td>\n",
              "      <td>&lt;NA&gt;</td>\n",
              "      <td>55</td>\n",
              "      <td>1957</td>\n",
              "      <td>Vincent Marchetti</td>\n",
              "      <td>4-2-3-1</td>\n",
              "      <td>4-2-3-1</td>\n",
              "      <td>Stéphanie Frappart</td>\n",
              "      <td>/en/matches/9e1109e9/Jura-Sud-Foot-Ajaccio-Jan...</td>\n",
              "      <td>&lt;NA&gt;</td>\n",
              "    </tr>\n",
              "    <tr>\n",
              "      <th>2023-01-21 Toulouse-Ajaccio</th>\n",
              "      <td>2023-01-21</td>\n",
              "      <td>18:00:00</td>\n",
              "      <td>Round of 32</td>\n",
              "      <td>Sat</td>\n",
              "      <td>Away</td>\n",
              "      <td>L</td>\n",
              "      <td>0</td>\n",
              "      <td>2</td>\n",
              "      <td>Toulouse</td>\n",
              "      <td>&lt;NA&gt;</td>\n",
              "      <td>&lt;NA&gt;</td>\n",
              "      <td>37</td>\n",
              "      <td>18708</td>\n",
              "      <td>Riad Nouri</td>\n",
              "      <td>4-4-2</td>\n",
              "      <td>4-3-3</td>\n",
              "      <td>François Letexier</td>\n",
              "      <td>/en/matches/c9a9802b/Toulouse-Ajaccio-January-...</td>\n",
              "      <td>&lt;NA&gt;</td>\n",
              "    </tr>\n",
              "  </tbody>\n",
              "</table>\n",
              "</div>\n",
              "    <div class=\"colab-df-buttons\">\n",
              "\n",
              "  <div class=\"colab-df-container\">\n",
              "    <button class=\"colab-df-convert\" onclick=\"convertToInteractive('df-1055f0d6-0621-4cf9-af6a-495a39841406')\"\n",
              "            title=\"Convert this dataframe to an interactive table.\"\n",
              "            style=\"display:none;\">\n",
              "\n",
              "  <svg xmlns=\"http://www.w3.org/2000/svg\" height=\"24px\" viewBox=\"0 -960 960 960\">\n",
              "    <path d=\"M120-120v-720h720v720H120Zm60-500h600v-160H180v160Zm220 220h160v-160H400v160Zm0 220h160v-160H400v160ZM180-400h160v-160H180v160Zm440 0h160v-160H620v160ZM180-180h160v-160H180v160Zm440 0h160v-160H620v160Z\"/>\n",
              "  </svg>\n",
              "    </button>\n",
              "\n",
              "  <style>\n",
              "    .colab-df-container {\n",
              "      display:flex;\n",
              "      gap: 12px;\n",
              "    }\n",
              "\n",
              "    .colab-df-convert {\n",
              "      background-color: #E8F0FE;\n",
              "      border: none;\n",
              "      border-radius: 50%;\n",
              "      cursor: pointer;\n",
              "      display: none;\n",
              "      fill: #1967D2;\n",
              "      height: 32px;\n",
              "      padding: 0 0 0 0;\n",
              "      width: 32px;\n",
              "    }\n",
              "\n",
              "    .colab-df-convert:hover {\n",
              "      background-color: #E2EBFA;\n",
              "      box-shadow: 0px 1px 2px rgba(60, 64, 67, 0.3), 0px 1px 3px 1px rgba(60, 64, 67, 0.15);\n",
              "      fill: #174EA6;\n",
              "    }\n",
              "\n",
              "    .colab-df-buttons div {\n",
              "      margin-bottom: 4px;\n",
              "    }\n",
              "\n",
              "    [theme=dark] .colab-df-convert {\n",
              "      background-color: #3B4455;\n",
              "      fill: #D2E3FC;\n",
              "    }\n",
              "\n",
              "    [theme=dark] .colab-df-convert:hover {\n",
              "      background-color: #434B5C;\n",
              "      box-shadow: 0px 1px 3px 1px rgba(0, 0, 0, 0.15);\n",
              "      filter: drop-shadow(0px 1px 2px rgba(0, 0, 0, 0.3));\n",
              "      fill: #FFFFFF;\n",
              "    }\n",
              "  </style>\n",
              "\n",
              "    <script>\n",
              "      const buttonEl =\n",
              "        document.querySelector('#df-1055f0d6-0621-4cf9-af6a-495a39841406 button.colab-df-convert');\n",
              "      buttonEl.style.display =\n",
              "        google.colab.kernel.accessAllowed ? 'block' : 'none';\n",
              "\n",
              "      async function convertToInteractive(key) {\n",
              "        const element = document.querySelector('#df-1055f0d6-0621-4cf9-af6a-495a39841406');\n",
              "        const dataTable =\n",
              "          await google.colab.kernel.invokeFunction('convertToInteractive',\n",
              "                                                    [key], {});\n",
              "        if (!dataTable) return;\n",
              "\n",
              "        const docLinkHtml = 'Like what you see? Visit the ' +\n",
              "          '<a target=\"_blank\" href=https://colab.research.google.com/notebooks/data_table.ipynb>data table notebook</a>'\n",
              "          + ' to learn more about interactive tables.';\n",
              "        element.innerHTML = '';\n",
              "        dataTable['output_type'] = 'display_data';\n",
              "        await google.colab.output.renderOutput(dataTable, element);\n",
              "        const docLink = document.createElement('div');\n",
              "        docLink.innerHTML = docLinkHtml;\n",
              "        element.appendChild(docLink);\n",
              "      }\n",
              "    </script>\n",
              "  </div>\n",
              "\n",
              "\n",
              "<div id=\"df-c5e132f2-6d09-4db4-8f42-b879942a60dc\">\n",
              "  <button class=\"colab-df-quickchart\" onclick=\"quickchart('df-c5e132f2-6d09-4db4-8f42-b879942a60dc')\"\n",
              "            title=\"Suggest charts\"\n",
              "            style=\"display:none;\">\n",
              "\n",
              "<svg xmlns=\"http://www.w3.org/2000/svg\" height=\"24px\"viewBox=\"0 0 24 24\"\n",
              "     width=\"24px\">\n",
              "    <g>\n",
              "        <path d=\"M19 3H5c-1.1 0-2 .9-2 2v14c0 1.1.9 2 2 2h14c1.1 0 2-.9 2-2V5c0-1.1-.9-2-2-2zM9 17H7v-7h2v7zm4 0h-2V7h2v10zm4 0h-2v-4h2v4z\"/>\n",
              "    </g>\n",
              "</svg>\n",
              "  </button>\n",
              "\n",
              "<style>\n",
              "  .colab-df-quickchart {\n",
              "      --bg-color: #E8F0FE;\n",
              "      --fill-color: #1967D2;\n",
              "      --hover-bg-color: #E2EBFA;\n",
              "      --hover-fill-color: #174EA6;\n",
              "      --disabled-fill-color: #AAA;\n",
              "      --disabled-bg-color: #DDD;\n",
              "  }\n",
              "\n",
              "  [theme=dark] .colab-df-quickchart {\n",
              "      --bg-color: #3B4455;\n",
              "      --fill-color: #D2E3FC;\n",
              "      --hover-bg-color: #434B5C;\n",
              "      --hover-fill-color: #FFFFFF;\n",
              "      --disabled-bg-color: #3B4455;\n",
              "      --disabled-fill-color: #666;\n",
              "  }\n",
              "\n",
              "  .colab-df-quickchart {\n",
              "    background-color: var(--bg-color);\n",
              "    border: none;\n",
              "    border-radius: 50%;\n",
              "    cursor: pointer;\n",
              "    display: none;\n",
              "    fill: var(--fill-color);\n",
              "    height: 32px;\n",
              "    padding: 0;\n",
              "    width: 32px;\n",
              "  }\n",
              "\n",
              "  .colab-df-quickchart:hover {\n",
              "    background-color: var(--hover-bg-color);\n",
              "    box-shadow: 0 1px 2px rgba(60, 64, 67, 0.3), 0 1px 3px 1px rgba(60, 64, 67, 0.15);\n",
              "    fill: var(--button-hover-fill-color);\n",
              "  }\n",
              "\n",
              "  .colab-df-quickchart-complete:disabled,\n",
              "  .colab-df-quickchart-complete:disabled:hover {\n",
              "    background-color: var(--disabled-bg-color);\n",
              "    fill: var(--disabled-fill-color);\n",
              "    box-shadow: none;\n",
              "  }\n",
              "\n",
              "  .colab-df-spinner {\n",
              "    border: 2px solid var(--fill-color);\n",
              "    border-color: transparent;\n",
              "    border-bottom-color: var(--fill-color);\n",
              "    animation:\n",
              "      spin 1s steps(1) infinite;\n",
              "  }\n",
              "\n",
              "  @keyframes spin {\n",
              "    0% {\n",
              "      border-color: transparent;\n",
              "      border-bottom-color: var(--fill-color);\n",
              "      border-left-color: var(--fill-color);\n",
              "    }\n",
              "    20% {\n",
              "      border-color: transparent;\n",
              "      border-left-color: var(--fill-color);\n",
              "      border-top-color: var(--fill-color);\n",
              "    }\n",
              "    30% {\n",
              "      border-color: transparent;\n",
              "      border-left-color: var(--fill-color);\n",
              "      border-top-color: var(--fill-color);\n",
              "      border-right-color: var(--fill-color);\n",
              "    }\n",
              "    40% {\n",
              "      border-color: transparent;\n",
              "      border-right-color: var(--fill-color);\n",
              "      border-top-color: var(--fill-color);\n",
              "    }\n",
              "    60% {\n",
              "      border-color: transparent;\n",
              "      border-right-color: var(--fill-color);\n",
              "    }\n",
              "    80% {\n",
              "      border-color: transparent;\n",
              "      border-right-color: var(--fill-color);\n",
              "      border-bottom-color: var(--fill-color);\n",
              "    }\n",
              "    90% {\n",
              "      border-color: transparent;\n",
              "      border-bottom-color: var(--fill-color);\n",
              "    }\n",
              "  }\n",
              "</style>\n",
              "\n",
              "  <script>\n",
              "    async function quickchart(key) {\n",
              "      const quickchartButtonEl =\n",
              "        document.querySelector('#' + key + ' button');\n",
              "      quickchartButtonEl.disabled = true;  // To prevent multiple clicks.\n",
              "      quickchartButtonEl.classList.add('colab-df-spinner');\n",
              "      try {\n",
              "        const charts = await google.colab.kernel.invokeFunction(\n",
              "            'suggestCharts', [key], {});\n",
              "      } catch (error) {\n",
              "        console.error('Error during call to suggestCharts:', error);\n",
              "      }\n",
              "      quickchartButtonEl.classList.remove('colab-df-spinner');\n",
              "      quickchartButtonEl.classList.add('colab-df-quickchart-complete');\n",
              "    }\n",
              "    (() => {\n",
              "      let quickchartButtonEl =\n",
              "        document.querySelector('#df-c5e132f2-6d09-4db4-8f42-b879942a60dc button');\n",
              "      quickchartButtonEl.style.display =\n",
              "        google.colab.kernel.accessAllowed ? 'block' : 'none';\n",
              "    })();\n",
              "  </script>\n",
              "</div>\n",
              "    </div>\n",
              "  </div>\n"
            ],
            "application/vnd.google.colaboratory.intrinsic+json": {
              "type": "dataframe",
              "variable_name": "team_match_stats1",
              "summary": "{\n  \"name\": \"team_match_stats1\",\n  \"rows\": 2,\n  \"fields\": [\n    {\n      \"column\": \"date\",\n      \"properties\": {\n        \"dtype\": \"date\",\n        \"min\": \"2023-01-08 00:00:00\",\n        \"max\": \"2023-01-21 00:00:00\",\n        \"num_unique_values\": 2,\n        \"samples\": [\n          \"2023-01-21 00:00:00\",\n          \"2023-01-08 00:00:00\"\n        ],\n        \"semantic_type\": \"\",\n        \"description\": \"\"\n      }\n    },\n    {\n      \"column\": \"time\",\n      \"properties\": {\n        \"dtype\": \"object\",\n        \"num_unique_values\": 2,\n        \"samples\": [\n          \"18:00:00\",\n          \"15:30:00\"\n        ],\n        \"semantic_type\": \"\",\n        \"description\": \"\"\n      }\n    },\n    {\n      \"column\": \"round\",\n      \"properties\": {\n        \"dtype\": \"string\",\n        \"num_unique_values\": 2,\n        \"samples\": [\n          \"Round of 32\",\n          \"Round of 64\"\n        ],\n        \"semantic_type\": \"\",\n        \"description\": \"\"\n      }\n    },\n    {\n      \"column\": \"day\",\n      \"properties\": {\n        \"dtype\": \"string\",\n        \"num_unique_values\": 2,\n        \"samples\": [\n          \"Sat\",\n          \"Sun\"\n        ],\n        \"semantic_type\": \"\",\n        \"description\": \"\"\n      }\n    },\n    {\n      \"column\": \"venue\",\n      \"properties\": {\n        \"dtype\": \"string\",\n        \"num_unique_values\": 1,\n        \"samples\": [\n          \"Away\"\n        ],\n        \"semantic_type\": \"\",\n        \"description\": \"\"\n      }\n    },\n    {\n      \"column\": \"result\",\n      \"properties\": {\n        \"dtype\": \"string\",\n        \"num_unique_values\": 2,\n        \"samples\": [\n          \"L\"\n        ],\n        \"semantic_type\": \"\",\n        \"description\": \"\"\n      }\n    },\n    {\n      \"column\": \"GF\",\n      \"properties\": {\n        \"dtype\": \"Int64\",\n        \"num_unique_values\": 2,\n        \"samples\": [\n          0\n        ],\n        \"semantic_type\": \"\",\n        \"description\": \"\"\n      }\n    },\n    {\n      \"column\": \"GA\",\n      \"properties\": {\n        \"dtype\": \"Int64\",\n        \"num_unique_values\": 2,\n        \"samples\": [\n          2\n        ],\n        \"semantic_type\": \"\",\n        \"description\": \"\"\n      }\n    },\n    {\n      \"column\": \"opponent\",\n      \"properties\": {\n        \"dtype\": \"string\",\n        \"num_unique_values\": 2,\n        \"samples\": [\n          \"Toulouse\"\n        ],\n        \"semantic_type\": \"\",\n        \"description\": \"\"\n      }\n    },\n    {\n      \"column\": \"xG\",\n      \"properties\": {\n        \"dtype\": \"Float64\",\n        \"num_unique_values\": 0,\n        \"samples\": [],\n        \"semantic_type\": \"\",\n        \"description\": \"\"\n      }\n    },\n    {\n      \"column\": \"xGA\",\n      \"properties\": {\n        \"dtype\": \"Float64\",\n        \"num_unique_values\": 0,\n        \"samples\": [],\n        \"semantic_type\": \"\",\n        \"description\": \"\"\n      }\n    },\n    {\n      \"column\": \"Poss\",\n      \"properties\": {\n        \"dtype\": \"Int64\",\n        \"num_unique_values\": 2,\n        \"samples\": [],\n        \"semantic_type\": \"\",\n        \"description\": \"\"\n      }\n    },\n    {\n      \"column\": \"Attendance\",\n      \"properties\": {\n        \"dtype\": \"Int64\",\n        \"num_unique_values\": 2,\n        \"samples\": [],\n        \"semantic_type\": \"\",\n        \"description\": \"\"\n      }\n    },\n    {\n      \"column\": \"Captain\",\n      \"properties\": {\n        \"dtype\": \"string\",\n        \"num_unique_values\": 2,\n        \"samples\": [],\n        \"semantic_type\": \"\",\n        \"description\": \"\"\n      }\n    },\n    {\n      \"column\": \"Formation\",\n      \"properties\": {\n        \"dtype\": \"string\",\n        \"num_unique_values\": 2,\n        \"samples\": [],\n        \"semantic_type\": \"\",\n        \"description\": \"\"\n      }\n    },\n    {\n      \"column\": \"Opp Formation\",\n      \"properties\": {\n        \"dtype\": \"string\",\n        \"num_unique_values\": 2,\n        \"samples\": [],\n        \"semantic_type\": \"\",\n        \"description\": \"\"\n      }\n    },\n    {\n      \"column\": \"Referee\",\n      \"properties\": {\n        \"dtype\": \"string\",\n        \"num_unique_values\": 2,\n        \"samples\": [],\n        \"semantic_type\": \"\",\n        \"description\": \"\"\n      }\n    },\n    {\n      \"column\": \"match_report\",\n      \"properties\": {\n        \"dtype\": \"string\",\n        \"num_unique_values\": 2,\n        \"samples\": [],\n        \"semantic_type\": \"\",\n        \"description\": \"\"\n      }\n    },\n    {\n      \"column\": \"Notes\",\n      \"properties\": {\n        \"dtype\": \"Int64\",\n        \"num_unique_values\": 0,\n        \"samples\": [],\n        \"semantic_type\": \"\",\n        \"description\": \"\"\n      }\n    }\n  ]\n}"
            }
          },
          "metadata": {},
          "execution_count": 32
        }
      ]
    },
    {
      "cell_type": "code",
      "source": [
        "for i in l[1:]:\n",
        "  new_team = fbref2.read_team_match_stats(stat_type=\"schedule\", team = i)\n",
        "  team_match_stats1 = pd.concat([team_match_stats1,new_team])\n",
        "  print(i)"
      ],
      "metadata": {
        "colab": {
          "base_uri": "https://localhost:8080/"
        },
        "id": "oqSB2Cq0m1dF",
        "outputId": "ce0a2a28-9285-41f1-ff9e-3c1e9eceb5dc"
      },
      "execution_count": null,
      "outputs": [
        {
          "metadata": {
            "tags": null
          },
          "name": "stdout",
          "output_type": "stream",
          "text": [
            "Alavés\n",
            "Almería\n"
          ]
        },
        {
          "metadata": {
            "tags": null
          },
          "name": "stderr",
          "output_type": "stream",
          "text": [
            "/usr/local/lib/python3.10/dist-packages/soccerdata/fbref.py:1274: FutureWarning: The behavior of DataFrame concatenation with empty or all-NA entries is deprecated. In a future version, this will no longer exclude empty or all-NA columns when determining the result dtypes. To retain the old behavior, exclude the relevant entries before the concat operation.\n",
            "  return pd.concat(dfs)\n"
          ]
        },
        {
          "metadata": {
            "tags": null
          },
          "name": "stdout",
          "output_type": "stream",
          "text": [
            "Amiens\n"
          ]
        },
        {
          "metadata": {
            "tags": null
          },
          "name": "stderr",
          "output_type": "stream",
          "text": [
            "/usr/local/lib/python3.10/dist-packages/soccerdata/fbref.py:1274: FutureWarning: The behavior of DataFrame concatenation with empty or all-NA entries is deprecated. In a future version, this will no longer exclude empty or all-NA columns when determining the result dtypes. To retain the old behavior, exclude the relevant entries before the concat operation.\n",
            "  return pd.concat(dfs)\n"
          ]
        },
        {
          "metadata": {
            "tags": null
          },
          "name": "stdout",
          "output_type": "stream",
          "text": [
            "Angers\n"
          ]
        },
        {
          "metadata": {
            "tags": null
          },
          "name": "stderr",
          "output_type": "stream",
          "text": [
            "/usr/local/lib/python3.10/dist-packages/soccerdata/fbref.py:1274: FutureWarning: The behavior of DataFrame concatenation with empty or all-NA entries is deprecated. In a future version, this will no longer exclude empty or all-NA columns when determining the result dtypes. To retain the old behavior, exclude the relevant entries before the concat operation.\n",
            "  return pd.concat(dfs)\n"
          ]
        },
        {
          "metadata": {
            "tags": null
          },
          "name": "stdout",
          "output_type": "stream",
          "text": [
            "Arminia\n",
            "Arsenal\n",
            "Aston Villa\n",
            "Atalanta\n",
            "Athletic Club\n",
            "Atlético Madrid\n"
          ]
        },
        {
          "metadata": {
            "tags": null
          },
          "name": "stderr",
          "output_type": "stream",
          "text": [
            "/usr/local/lib/python3.10/dist-packages/soccerdata/fbref.py:1274: FutureWarning: The behavior of DataFrame concatenation with empty or all-NA entries is deprecated. In a future version, this will no longer exclude empty or all-NA columns when determining the result dtypes. To retain the old behavior, exclude the relevant entries before the concat operation.\n",
            "  return pd.concat(dfs)\n"
          ]
        },
        {
          "metadata": {
            "tags": null
          },
          "name": "stdout",
          "output_type": "stream",
          "text": [
            "Augsburg\n",
            "Auxerre\n",
            "Barcelona\n",
            "Bayern Munich\n",
            "Benevento\n",
            "Betis\n",
            "Bochum\n"
          ]
        },
        {
          "metadata": {
            "tags": null
          },
          "name": "stderr",
          "output_type": "stream",
          "text": [
            "/usr/local/lib/python3.10/dist-packages/soccerdata/fbref.py:1274: FutureWarning: The behavior of DataFrame concatenation with empty or all-NA entries is deprecated. In a future version, this will no longer exclude empty or all-NA columns when determining the result dtypes. To retain the old behavior, exclude the relevant entries before the concat operation.\n",
            "  return pd.concat(dfs)\n"
          ]
        },
        {
          "metadata": {
            "tags": null
          },
          "name": "stdout",
          "output_type": "stream",
          "text": [
            "Bologna\n",
            "Bordeaux\n",
            "Bournemouth\n"
          ]
        },
        {
          "metadata": {
            "tags": null
          },
          "name": "stderr",
          "output_type": "stream",
          "text": [
            "/usr/local/lib/python3.10/dist-packages/soccerdata/fbref.py:1274: FutureWarning: The behavior of DataFrame concatenation with empty or all-NA entries is deprecated. In a future version, this will no longer exclude empty or all-NA columns when determining the result dtypes. To retain the old behavior, exclude the relevant entries before the concat operation.\n",
            "  return pd.concat(dfs)\n"
          ]
        },
        {
          "metadata": {
            "tags": null
          },
          "name": "stdout",
          "output_type": "stream",
          "text": [
            "Brentford\n",
            "Brescia\n",
            "Brest\n",
            "Brighton\n",
            "Burnley\n",
            "Caen\n",
            "Cagliari\n",
            "Cardiff City\n",
            "Celta Vigo\n",
            "Chelsea\n",
            "Chievo\n"
          ]
        },
        {
          "metadata": {
            "tags": null
          },
          "name": "stderr",
          "output_type": "stream",
          "text": [
            "/usr/local/lib/python3.10/dist-packages/soccerdata/fbref.py:1274: FutureWarning: The behavior of DataFrame concatenation with empty or all-NA entries is deprecated. In a future version, this will no longer exclude empty or all-NA columns when determining the result dtypes. To retain the old behavior, exclude the relevant entries before the concat operation.\n",
            "  return pd.concat(dfs)\n"
          ]
        },
        {
          "metadata": {
            "tags": null
          },
          "name": "stdout",
          "output_type": "stream",
          "text": [
            "Clermont Foot\n",
            "Como\n",
            "Cremonese\n"
          ]
        },
        {
          "metadata": {
            "tags": null
          },
          "name": "stderr",
          "output_type": "stream",
          "text": [
            "/usr/local/lib/python3.10/dist-packages/soccerdata/fbref.py:1274: FutureWarning: The behavior of DataFrame concatenation with empty or all-NA entries is deprecated. In a future version, this will no longer exclude empty or all-NA columns when determining the result dtypes. To retain the old behavior, exclude the relevant entries before the concat operation.\n",
            "  return pd.concat(dfs)\n"
          ]
        },
        {
          "metadata": {
            "tags": null
          },
          "name": "stdout",
          "output_type": "stream",
          "text": [
            "Crotone\n"
          ]
        },
        {
          "metadata": {
            "tags": null
          },
          "name": "stderr",
          "output_type": "stream",
          "text": [
            "/usr/local/lib/python3.10/dist-packages/soccerdata/fbref.py:1274: FutureWarning: The behavior of DataFrame concatenation with empty or all-NA entries is deprecated. In a future version, this will no longer exclude empty or all-NA columns when determining the result dtypes. To retain the old behavior, exclude the relevant entries before the concat operation.\n",
            "  return pd.concat(dfs)\n"
          ]
        },
        {
          "metadata": {
            "tags": null
          },
          "name": "stdout",
          "output_type": "stream",
          "text": [
            "Crystal Palace\n",
            "Cádiz\n",
            "Darmstadt 98\n",
            "Dijon\n",
            "Dortmund\n"
          ]
        },
        {
          "metadata": {
            "tags": null
          },
          "name": "stderr",
          "output_type": "stream",
          "text": [
            "/usr/local/lib/python3.10/dist-packages/soccerdata/fbref.py:1274: FutureWarning: The behavior of DataFrame concatenation with empty or all-NA entries is deprecated. In a future version, this will no longer exclude empty or all-NA columns when determining the result dtypes. To retain the old behavior, exclude the relevant entries before the concat operation.\n",
            "  return pd.concat(dfs)\n"
          ]
        },
        {
          "metadata": {
            "tags": null
          },
          "name": "stdout",
          "output_type": "stream",
          "text": [
            "Düsseldorf\n",
            "Eibar\n",
            "Eint Frankfurt\n"
          ]
        },
        {
          "metadata": {
            "tags": null
          },
          "name": "stderr",
          "output_type": "stream",
          "text": [
            "/usr/local/lib/python3.10/dist-packages/soccerdata/fbref.py:1274: FutureWarning: The behavior of DataFrame concatenation with empty or all-NA entries is deprecated. In a future version, this will no longer exclude empty or all-NA columns when determining the result dtypes. To retain the old behavior, exclude the relevant entries before the concat operation.\n",
            "  return pd.concat(dfs)\n"
          ]
        },
        {
          "metadata": {
            "tags": null
          },
          "name": "stdout",
          "output_type": "stream",
          "text": [
            "Elche\n"
          ]
        },
        {
          "metadata": {
            "tags": null
          },
          "name": "stderr",
          "output_type": "stream",
          "text": [
            "/usr/local/lib/python3.10/dist-packages/soccerdata/fbref.py:1274: FutureWarning: The behavior of DataFrame concatenation with empty or all-NA entries is deprecated. In a future version, this will no longer exclude empty or all-NA columns when determining the result dtypes. To retain the old behavior, exclude the relevant entries before the concat operation.\n",
            "  return pd.concat(dfs)\n"
          ]
        },
        {
          "metadata": {
            "tags": null
          },
          "name": "stdout",
          "output_type": "stream",
          "text": [
            "Empoli\n",
            "Espanyol\n",
            "Everton\n"
          ]
        },
        {
          "metadata": {
            "tags": null
          },
          "name": "stderr",
          "output_type": "stream",
          "text": [
            "/usr/local/lib/python3.10/dist-packages/soccerdata/fbref.py:1274: FutureWarning: The behavior of DataFrame concatenation with empty or all-NA entries is deprecated. In a future version, this will no longer exclude empty or all-NA columns when determining the result dtypes. To retain the old behavior, exclude the relevant entries before the concat operation.\n",
            "  return pd.concat(dfs)\n"
          ]
        },
        {
          "metadata": {
            "tags": null
          },
          "name": "stdout",
          "output_type": "stream",
          "text": [
            "Fiorentina\n",
            "Freiburg\n"
          ]
        },
        {
          "metadata": {
            "tags": null
          },
          "name": "stderr",
          "output_type": "stream",
          "text": [
            "/usr/local/lib/python3.10/dist-packages/soccerdata/fbref.py:1274: FutureWarning: The behavior of DataFrame concatenation with empty or all-NA entries is deprecated. In a future version, this will no longer exclude empty or all-NA columns when determining the result dtypes. To retain the old behavior, exclude the relevant entries before the concat operation.\n",
            "  return pd.concat(dfs)\n"
          ]
        },
        {
          "metadata": {
            "tags": null
          },
          "name": "stdout",
          "output_type": "stream",
          "text": [
            "Frosinone\n"
          ]
        },
        {
          "metadata": {
            "tags": null
          },
          "name": "stderr",
          "output_type": "stream",
          "text": [
            "/usr/local/lib/python3.10/dist-packages/soccerdata/fbref.py:1274: FutureWarning: The behavior of DataFrame concatenation with empty or all-NA entries is deprecated. In a future version, this will no longer exclude empty or all-NA columns when determining the result dtypes. To retain the old behavior, exclude the relevant entries before the concat operation.\n",
            "  return pd.concat(dfs)\n"
          ]
        },
        {
          "metadata": {
            "tags": null
          },
          "name": "stdout",
          "output_type": "stream",
          "text": [
            "Fulham\n",
            "Genoa\n",
            "Getafe\n",
            "Girona\n"
          ]
        },
        {
          "metadata": {
            "tags": null
          },
          "name": "stderr",
          "output_type": "stream",
          "text": [
            "/usr/local/lib/python3.10/dist-packages/soccerdata/fbref.py:1274: FutureWarning: The behavior of DataFrame concatenation with empty or all-NA entries is deprecated. In a future version, this will no longer exclude empty or all-NA columns when determining the result dtypes. To retain the old behavior, exclude the relevant entries before the concat operation.\n",
            "  return pd.concat(dfs)\n"
          ]
        },
        {
          "metadata": {
            "tags": null
          },
          "name": "stdout",
          "output_type": "stream",
          "text": [
            "Gladbach\n",
            "Granada\n"
          ]
        },
        {
          "metadata": {
            "tags": null
          },
          "name": "stderr",
          "output_type": "stream",
          "text": [
            "/usr/local/lib/python3.10/dist-packages/soccerdata/fbref.py:1274: FutureWarning: The behavior of DataFrame concatenation with empty or all-NA entries is deprecated. In a future version, this will no longer exclude empty or all-NA columns when determining the result dtypes. To retain the old behavior, exclude the relevant entries before the concat operation.\n",
            "  return pd.concat(dfs)\n"
          ]
        },
        {
          "metadata": {
            "tags": null
          },
          "name": "stdout",
          "output_type": "stream",
          "text": [
            "Guingamp\n",
            "Hamburger SV\n",
            "Hannover 96\n"
          ]
        },
        {
          "metadata": {
            "tags": null
          },
          "name": "stderr",
          "output_type": "stream",
          "text": [
            "/usr/local/lib/python3.10/dist-packages/soccerdata/fbref.py:1274: FutureWarning: The behavior of DataFrame concatenation with empty or all-NA entries is deprecated. In a future version, this will no longer exclude empty or all-NA columns when determining the result dtypes. To retain the old behavior, exclude the relevant entries before the concat operation.\n",
            "  return pd.concat(dfs)\n"
          ]
        },
        {
          "metadata": {
            "tags": null
          },
          "name": "stdout",
          "output_type": "stream",
          "text": [
            "Heidenheim\n",
            "Hellas Verona\n"
          ]
        },
        {
          "metadata": {
            "tags": null
          },
          "name": "stderr",
          "output_type": "stream",
          "text": [
            "/usr/local/lib/python3.10/dist-packages/soccerdata/fbref.py:1274: FutureWarning: The behavior of DataFrame concatenation with empty or all-NA entries is deprecated. In a future version, this will no longer exclude empty or all-NA columns when determining the result dtypes. To retain the old behavior, exclude the relevant entries before the concat operation.\n",
            "  return pd.concat(dfs)\n"
          ]
        },
        {
          "metadata": {
            "tags": null
          },
          "name": "stdout",
          "output_type": "stream",
          "text": [
            "Hertha BSC\n",
            "Hoffenheim\n",
            "Holstein Kiel\n",
            "Huddersfield\n",
            "Huesca\n",
            "Inter\n",
            "Ipswich Town\n",
            "Juventus\n"
          ]
        },
        {
          "metadata": {
            "tags": null
          },
          "name": "stderr",
          "output_type": "stream",
          "text": [
            "/usr/local/lib/python3.10/dist-packages/soccerdata/fbref.py:1274: FutureWarning: The behavior of DataFrame concatenation with empty or all-NA entries is deprecated. In a future version, this will no longer exclude empty or all-NA columns when determining the result dtypes. To retain the old behavior, exclude the relevant entries before the concat operation.\n",
            "  return pd.concat(dfs)\n"
          ]
        },
        {
          "metadata": {
            "tags": null
          },
          "name": "stdout",
          "output_type": "stream",
          "text": [
            "Köln\n",
            "La Coruña\n",
            "Las Palmas\n",
            "Lazio\n",
            "Le Havre\n"
          ]
        },
        {
          "metadata": {
            "tags": null
          },
          "name": "stderr",
          "output_type": "stream",
          "text": [
            "/usr/local/lib/python3.10/dist-packages/soccerdata/fbref.py:1274: FutureWarning: The behavior of DataFrame concatenation with empty or all-NA entries is deprecated. In a future version, this will no longer exclude empty or all-NA columns when determining the result dtypes. To retain the old behavior, exclude the relevant entries before the concat operation.\n",
            "  return pd.concat(dfs)\n"
          ]
        },
        {
          "metadata": {
            "tags": null
          },
          "name": "stdout",
          "output_type": "stream",
          "text": [
            "Lecce\n",
            "Leeds United\n",
            "Leganés\n",
            "Leicester City\n"
          ]
        },
        {
          "metadata": {
            "tags": null
          },
          "name": "stderr",
          "output_type": "stream",
          "text": [
            "/usr/local/lib/python3.10/dist-packages/soccerdata/fbref.py:1274: FutureWarning: The behavior of DataFrame concatenation with empty or all-NA entries is deprecated. In a future version, this will no longer exclude empty or all-NA columns when determining the result dtypes. To retain the old behavior, exclude the relevant entries before the concat operation.\n",
            "  return pd.concat(dfs)\n"
          ]
        },
        {
          "metadata": {
            "tags": null
          },
          "name": "stdout",
          "output_type": "stream",
          "text": [
            "Lens\n",
            "Levante\n",
            "Leverkusen\n",
            "Lille\n",
            "Liverpool\n"
          ]
        },
        {
          "metadata": {
            "tags": null
          },
          "name": "stderr",
          "output_type": "stream",
          "text": [
            "/usr/local/lib/python3.10/dist-packages/soccerdata/fbref.py:1274: FutureWarning: The behavior of DataFrame concatenation with empty or all-NA entries is deprecated. In a future version, this will no longer exclude empty or all-NA columns when determining the result dtypes. To retain the old behavior, exclude the relevant entries before the concat operation.\n",
            "  return pd.concat(dfs)\n"
          ]
        },
        {
          "metadata": {
            "tags": null
          },
          "name": "stdout",
          "output_type": "stream",
          "text": [
            "Lorient\n",
            "Luton Town\n",
            "Lyon\n",
            "Mainz 05\n"
          ]
        },
        {
          "metadata": {
            "tags": null
          },
          "name": "stderr",
          "output_type": "stream",
          "text": [
            "/usr/local/lib/python3.10/dist-packages/soccerdata/fbref.py:1274: FutureWarning: The behavior of DataFrame concatenation with empty or all-NA entries is deprecated. In a future version, this will no longer exclude empty or all-NA columns when determining the result dtypes. To retain the old behavior, exclude the relevant entries before the concat operation.\n",
            "  return pd.concat(dfs)\n"
          ]
        },
        {
          "metadata": {
            "tags": null
          },
          "name": "stdout",
          "output_type": "stream",
          "text": [
            "Mallorca\n",
            "Manchester City\n",
            "Manchester Utd\n",
            "Marseille\n",
            "Metz\n",
            "Milan\n"
          ]
        },
        {
          "metadata": {
            "tags": null
          },
          "name": "stderr",
          "output_type": "stream",
          "text": [
            "/usr/local/lib/python3.10/dist-packages/soccerdata/fbref.py:1274: FutureWarning: The behavior of DataFrame concatenation with empty or all-NA entries is deprecated. In a future version, this will no longer exclude empty or all-NA columns when determining the result dtypes. To retain the old behavior, exclude the relevant entries before the concat operation.\n",
            "  return pd.concat(dfs)\n"
          ]
        },
        {
          "metadata": {
            "tags": null
          },
          "name": "stdout",
          "output_type": "stream",
          "text": [
            "Monaco\n",
            "Montpellier\n"
          ]
        },
        {
          "metadata": {
            "tags": null
          },
          "name": "stderr",
          "output_type": "stream",
          "text": [
            "/usr/local/lib/python3.10/dist-packages/soccerdata/fbref.py:1274: FutureWarning: The behavior of DataFrame concatenation with empty or all-NA entries is deprecated. In a future version, this will no longer exclude empty or all-NA columns when determining the result dtypes. To retain the old behavior, exclude the relevant entries before the concat operation.\n",
            "  return pd.concat(dfs)\n"
          ]
        },
        {
          "metadata": {
            "tags": null
          },
          "name": "stdout",
          "output_type": "stream",
          "text": [
            "Monza\n",
            "Málaga\n"
          ]
        },
        {
          "metadata": {
            "tags": null
          },
          "name": "stderr",
          "output_type": "stream",
          "text": [
            "/usr/local/lib/python3.10/dist-packages/soccerdata/fbref.py:1274: FutureWarning: The behavior of DataFrame concatenation with empty or all-NA entries is deprecated. In a future version, this will no longer exclude empty or all-NA columns when determining the result dtypes. To retain the old behavior, exclude the relevant entries before the concat operation.\n",
            "  return pd.concat(dfs)\n"
          ]
        },
        {
          "metadata": {
            "tags": null
          },
          "name": "stdout",
          "output_type": "stream",
          "text": [
            "Nantes\n",
            "Napoli\n",
            "Newcastle Utd\n",
            "Nice\n",
            "Norwich City\n",
            "Nott'ham Forest\n",
            "Nîmes\n",
            "Nürnberg\n",
            "Osasuna\n",
            "Paderborn 07\n",
            "Paris S-G\n",
            "Parma\n",
            "RB Leipzig\n",
            "Rayo Vallecano\n",
            "Real Madrid\n",
            "Real Sociedad\n",
            "Reims\n",
            "Rennes\n",
            "Roma\n",
            "SPAL\n",
            "Saint-Étienne\n",
            "Salernitana\n"
          ]
        },
        {
          "metadata": {
            "tags": null
          },
          "name": "stderr",
          "output_type": "stream",
          "text": [
            "/usr/local/lib/python3.10/dist-packages/soccerdata/fbref.py:1274: FutureWarning: The behavior of DataFrame concatenation with empty or all-NA entries is deprecated. In a future version, this will no longer exclude empty or all-NA columns when determining the result dtypes. To retain the old behavior, exclude the relevant entries before the concat operation.\n",
            "  return pd.concat(dfs)\n"
          ]
        },
        {
          "metadata": {
            "tags": null
          },
          "name": "stdout",
          "output_type": "stream",
          "text": [
            "Sampdoria\n"
          ]
        },
        {
          "metadata": {
            "tags": null
          },
          "name": "stderr",
          "output_type": "stream",
          "text": [
            "/usr/local/lib/python3.10/dist-packages/soccerdata/fbref.py:1274: FutureWarning: The behavior of DataFrame concatenation with empty or all-NA entries is deprecated. In a future version, this will no longer exclude empty or all-NA columns when determining the result dtypes. To retain the old behavior, exclude the relevant entries before the concat operation.\n",
            "  return pd.concat(dfs)\n"
          ]
        },
        {
          "metadata": {
            "tags": null
          },
          "name": "stdout",
          "output_type": "stream",
          "text": [
            "Sassuolo\n"
          ]
        },
        {
          "metadata": {
            "tags": null
          },
          "name": "stderr",
          "output_type": "stream",
          "text": [
            "/usr/local/lib/python3.10/dist-packages/soccerdata/fbref.py:1274: FutureWarning: The behavior of DataFrame concatenation with empty or all-NA entries is deprecated. In a future version, this will no longer exclude empty or all-NA columns when determining the result dtypes. To retain the old behavior, exclude the relevant entries before the concat operation.\n",
            "  return pd.concat(dfs)\n"
          ]
        },
        {
          "metadata": {
            "tags": null
          },
          "name": "stdout",
          "output_type": "stream",
          "text": [
            "Schalke 04\n",
            "Sevilla\n",
            "Sheffield Utd\n"
          ]
        },
        {
          "metadata": {
            "tags": null
          },
          "name": "stderr",
          "output_type": "stream",
          "text": [
            "/usr/local/lib/python3.10/dist-packages/soccerdata/fbref.py:1274: FutureWarning: The behavior of DataFrame concatenation with empty or all-NA entries is deprecated. In a future version, this will no longer exclude empty or all-NA columns when determining the result dtypes. To retain the old behavior, exclude the relevant entries before the concat operation.\n",
            "  return pd.concat(dfs)\n"
          ]
        },
        {
          "output_type": "stream",
          "name": "stdout",
          "text": [
            "Southampton\n",
            "Spezia\n",
            "St. Pauli\n",
            "Stoke City\n",
            "Strasbourg\n",
            "Stuttgart\n",
            "Swansea City\n"
          ]
        },
        {
          "output_type": "stream",
          "name": "stderr",
          "text": [
            "/usr/local/lib/python3.10/dist-packages/soccerdata/fbref.py:1274: FutureWarning: The behavior of DataFrame concatenation with empty or all-NA entries is deprecated. In a future version, this will no longer exclude empty or all-NA columns when determining the result dtypes. To retain the old behavior, exclude the relevant entries before the concat operation.\n",
            "  return pd.concat(dfs)\n"
          ]
        },
        {
          "output_type": "stream",
          "name": "stdout",
          "text": [
            "Torino\n",
            "Tottenham\n",
            "Toulouse\n",
            "Troyes\n"
          ]
        },
        {
          "output_type": "stream",
          "name": "stderr",
          "text": [
            "/usr/local/lib/python3.10/dist-packages/soccerdata/fbref.py:1274: FutureWarning: The behavior of DataFrame concatenation with empty or all-NA entries is deprecated. In a future version, this will no longer exclude empty or all-NA columns when determining the result dtypes. To retain the old behavior, exclude the relevant entries before the concat operation.\n",
            "  return pd.concat(dfs)\n"
          ]
        },
        {
          "output_type": "stream",
          "name": "stdout",
          "text": [
            "Udinese\n"
          ]
        },
        {
          "output_type": "stream",
          "name": "stderr",
          "text": [
            "/usr/local/lib/python3.10/dist-packages/soccerdata/fbref.py:1274: FutureWarning: The behavior of DataFrame concatenation with empty or all-NA entries is deprecated. In a future version, this will no longer exclude empty or all-NA columns when determining the result dtypes. To retain the old behavior, exclude the relevant entries before the concat operation.\n",
            "  return pd.concat(dfs)\n"
          ]
        },
        {
          "output_type": "stream",
          "name": "stdout",
          "text": [
            "Union Berlin\n",
            "Valencia\n",
            "Valladolid\n",
            "Venezia\n",
            "Villarreal\n"
          ]
        },
        {
          "output_type": "stream",
          "name": "stderr",
          "text": [
            "/usr/local/lib/python3.10/dist-packages/soccerdata/fbref.py:1274: FutureWarning: The behavior of DataFrame concatenation with empty or all-NA entries is deprecated. In a future version, this will no longer exclude empty or all-NA columns when determining the result dtypes. To retain the old behavior, exclude the relevant entries before the concat operation.\n",
            "  return pd.concat(dfs)\n"
          ]
        },
        {
          "output_type": "stream",
          "name": "stdout",
          "text": [
            "Watford\n",
            "Werder Bremen\n"
          ]
        },
        {
          "output_type": "stream",
          "name": "stderr",
          "text": [
            "/usr/local/lib/python3.10/dist-packages/soccerdata/fbref.py:1274: FutureWarning: The behavior of DataFrame concatenation with empty or all-NA entries is deprecated. In a future version, this will no longer exclude empty or all-NA columns when determining the result dtypes. To retain the old behavior, exclude the relevant entries before the concat operation.\n",
            "  return pd.concat(dfs)\n"
          ]
        },
        {
          "output_type": "stream",
          "name": "stdout",
          "text": [
            "West Brom\n",
            "West Ham\n",
            "Wolfsburg\n",
            "Wolves\n"
          ]
        }
      ]
    },
    {
      "cell_type": "code",
      "source": [
        "team_match_stats1.to_csv(\"match_log_schedule.csv\")"
      ],
      "metadata": {
        "id": "OS6x-gFytavq"
      },
      "execution_count": null,
      "outputs": []
    },
    {
      "cell_type": "markdown",
      "source": [
        "Другие логи матчей"
      ],
      "metadata": {
        "id": "GX0CDSKZFrpZ"
      }
    },
    {
      "cell_type": "code",
      "source": [
        "measures1 = ['keeper','shooting','passing','passing_types','goal_shot_creation','defense','possession','misc']"
      ],
      "metadata": {
        "id": "7lvEZsgEFJQU"
      },
      "execution_count": null,
      "outputs": []
    },
    {
      "cell_type": "code",
      "source": [
        "team_match_stats2 = fbref2.read_team_match_stats(stat_type='keeper', team = l[0])\n",
        "for i in l[1:]:\n",
        "  new_team = fbref2.read_team_match_stats(stat_type='keeper', team = i)\n",
        "  team_match_stats2 = pd.concat([team_match_stats2,new_team])\n",
        "  print(i)\n",
        "team_match_stats2.to_csv(\"match_log_keeper.csv\")"
      ],
      "metadata": {
        "id": "rB3zztu7rSK-"
      },
      "execution_count": null,
      "outputs": []
    },
    {
      "cell_type": "code",
      "source": [
        "team_match_stats3 = fbref3.read_team_match_stats(stat_type='shooting', team = l[0])\n",
        "for i in l[1:]:\n",
        "  new_team = fbref3.read_team_match_stats(stat_type='shooting', team = i)\n",
        "  team_match_stats3 = pd.concat([team_match_stats3,new_team])\n",
        "  print(i)\n",
        "team_match_stats3.to_csv(\"match_log_shooting.csv\")"
      ],
      "metadata": {
        "id": "ANlyKw4Rri1T"
      },
      "execution_count": null,
      "outputs": []
    },
    {
      "cell_type": "code",
      "source": [
        "team_match_stats4 = fbref4.read_team_match_stats(stat_type='passing', team = l[0])\n",
        "for i in l[1:]:\n",
        "  new_team = fbref4.read_team_match_stats(stat_type='passing', team = i)\n",
        "  team_match_stats4 = pd.concat([team_match_stats4,new_team])\n",
        "  print(i)\n",
        "team_match_stats4.to_csv(\"match_log_passing.csv\")"
      ],
      "metadata": {
        "id": "f54SPa1OrwBJ"
      },
      "execution_count": null,
      "outputs": []
    },
    {
      "cell_type": "code",
      "source": [
        "team_match_stats5 = fbref5.read_team_match_stats(stat_type='passing_types', team = l[0])\n",
        "for i in l[1:]:\n",
        "  new_team = fbref5.read_team_match_stats(stat_type='passing_types', team = i)\n",
        "  team_match_stats5 = pd.concat([team_match_stats5,new_team])\n",
        "  print(i)\n",
        "team_match_stats5.to_csv(\"match_log_passing_types.csv\")"
      ],
      "metadata": {
        "id": "2r-HMuowr2Cn"
      },
      "execution_count": null,
      "outputs": []
    },
    {
      "cell_type": "code",
      "source": [
        "team_match_stats6 = fbref6.read_team_match_stats(stat_type='goal_shot_creation', team = l[0])\n",
        "for i in l[1:]:\n",
        "  new_team = fbref6.read_team_match_stats(stat_type='goal_shot_creation', team = i)\n",
        "  team_match_stats6 = pd.concat([team_match_stats6,new_team])\n",
        "  print(i)\n",
        "team_match_stats6.to_csv(\"match_log_goal_shot_creation.csv\")"
      ],
      "metadata": {
        "id": "5B-dg13gr7SW"
      },
      "execution_count": null,
      "outputs": []
    },
    {
      "cell_type": "code",
      "source": [
        "team_match_stats7 = fbref7.read_team_match_stats(stat_type='defense', team = l[0])\n",
        "for i in l[1:]:\n",
        "  new_team = fbref7.read_team_match_stats(stat_type='defense', team = i)\n",
        "  team_match_stats7 = pd.concat([team_match_stats7,new_team])\n",
        "  print(i)\n",
        "team_match_stats7.to_csv(\"match_log_defense.csv\")"
      ],
      "metadata": {
        "id": "O08UYYB9sDCz"
      },
      "execution_count": null,
      "outputs": []
    },
    {
      "cell_type": "code",
      "source": [
        "team_match_stats8 = fbref8.read_team_match_stats(stat_type='possession', team = l[0])\n",
        "for i in l[1:]:\n",
        "  new_team = fbref8.read_team_match_stats(stat_type='possession', team = i)\n",
        "  team_match_stats8 = pd.concat([team_match_stats8,new_team])\n",
        "  print(i)\n",
        "team_match_stats8.to_csv(\"match_log_possession.csv\")"
      ],
      "metadata": {
        "id": "cP625UAWsKqJ"
      },
      "execution_count": null,
      "outputs": []
    },
    {
      "cell_type": "code",
      "source": [
        "team_match_stats9 = fbref9.read_team_match_stats(stat_type='misc', team = l[0])\n",
        "for i in l[1:]:\n",
        "  new_team = fbref9.read_team_match_stats(stat_type='misc', team = i)\n",
        "  team_match_stats9 = pd.concat([team_match_stats9,new_team])\n",
        "  print(i)\n",
        "team_match_stats9.to_csv(\"match_log_misc.csv\")"
      ],
      "metadata": {
        "id": "jBa6r5ASsQ1V"
      },
      "execution_count": null,
      "outputs": []
    },
    {
      "cell_type": "code",
      "source": [
        "team_match_stats8"
      ],
      "metadata": {
        "colab": {
          "base_uri": "https://localhost:8080/",
          "height": 892
        },
        "id": "9xhjYbPIgDgU",
        "outputId": "7156e195-8653-4142-cf3e-aef8e8542ba8"
      },
      "execution_count": null,
      "outputs": [
        {
          "output_type": "execute_result",
          "data": {
            "text/plain": [
              "                                                             date  \\\n",
              "                                                                    \n",
              "league season team    game                                          \n",
              "<NA>   2223   Ajaccio 2023-01-08 Jura Sud Foot-Ajaccio 2023-01-08   \n",
              "                      2023-01-21 Toulouse-Ajaccio      2023-01-21   \n",
              "       1718   Alavés  2017-10-24 Getafe-Alavés         2017-10-24   \n",
              "                      2017-11-30 Alavés-Getafe         2017-11-30   \n",
              "                      2018-01-03 SD Formentera-Alavés  2018-01-03   \n",
              "...                                                           ...   \n",
              "       2324   Wolves  2024-01-28 West Brom-Wolves      2024-01-28   \n",
              "                      2024-02-28 Wolves-Brighton       2024-02-28   \n",
              "                      2024-03-16 Wolves-Coventry City  2024-03-16   \n",
              "       2425   Wolves  2024-08-28 Wolves-Burnley        2024-08-28   \n",
              "                      2024-09-18 Brighton-Wolves       2024-09-18   \n",
              "\n",
              "                                                                      round  \\\n",
              "                                                                              \n",
              "league season team    game                                                    \n",
              "<NA>   2223   Ajaccio 2023-01-08 Jura Sud Foot-Ajaccio          Round of 64   \n",
              "                      2023-01-21 Toulouse-Ajaccio               Round of 32   \n",
              "       1718   Alavés  2017-10-24 Getafe-Alavés                  Round of 32   \n",
              "                      2017-11-30 Alavés-Getafe                  Round of 32   \n",
              "                      2018-01-03 SD Formentera-Alavés           Round of 16   \n",
              "...                                                                     ...   \n",
              "       2324   Wolves  2024-01-28 West Brom-Wolves       Fourth round proper   \n",
              "                      2024-02-28 Wolves-Brighton         Fifth round proper   \n",
              "                      2024-03-16 Wolves-Coventry City        Quarter-finals   \n",
              "       2425   Wolves  2024-08-28 Wolves-Burnley                Second round   \n",
              "                      2024-09-18 Brighton-Wolves                Third round   \n",
              "\n",
              "                                                        day venue result GF  \\\n",
              "                                                                              \n",
              "league season team    game                                                    \n",
              "<NA>   2223   Ajaccio 2023-01-08 Jura Sud Foot-Ajaccio  Sun  Away      W  2   \n",
              "                      2023-01-21 Toulouse-Ajaccio       Sat  Away      L  0   \n",
              "       1718   Alavés  2017-10-24 Getafe-Alavés          Tue  Away      W  1   \n",
              "                      2017-11-30 Alavés-Getafe          Thu  Home      W  3   \n",
              "                      2018-01-03 SD Formentera-Alavés   Wed  Away      W  3   \n",
              "...                                                     ...   ...    ... ..   \n",
              "       2324   Wolves  2024-01-28 West Brom-Wolves       Sun  Away      W  2   \n",
              "                      2024-02-28 Wolves-Brighton        Wed  Home      W  1   \n",
              "                      2024-03-16 Wolves-Coventry City   Sat  Home      L  2   \n",
              "       2425   Wolves  2024-08-28 Wolves-Burnley         Wed  Home      W  2   \n",
              "                      2024-09-18 Brighton-Wolves        Wed  Away      L  2   \n",
              "\n",
              "                                                       GA       opponent  \\\n",
              "                                                                           \n",
              "league season team    game                                                 \n",
              "<NA>   2223   Ajaccio 2023-01-08 Jura Sud Foot-Ajaccio  1  Jura Sud Foot   \n",
              "                      2023-01-21 Toulouse-Ajaccio       2       Toulouse   \n",
              "       1718   Alavés  2017-10-24 Getafe-Alavés          0         Getafe   \n",
              "                      2017-11-30 Alavés-Getafe          0         Getafe   \n",
              "                      2018-01-03 SD Formentera-Alavés   1  SD Formentera   \n",
              "...                                                    ..            ...   \n",
              "       2324   Wolves  2024-01-28 West Brom-Wolves       0      West Brom   \n",
              "                      2024-02-28 Wolves-Brighton        0       Brighton   \n",
              "                      2024-03-16 Wolves-Coventry City   3  Coventry City   \n",
              "       2425   Wolves  2024-08-28 Wolves-Burnley         0        Burnley   \n",
              "                      2024-09-18 Brighton-Wolves        3       Brighton   \n",
              "\n",
              "                                                        Poss Touches  ...  \\\n",
              "                                                             Touches  ...   \n",
              "league season team    game                                            ...   \n",
              "<NA>   2223   Ajaccio 2023-01-08 Jura Sud Foot-Ajaccio    55    <NA>  ...   \n",
              "                      2023-01-21 Toulouse-Ajaccio         37    <NA>  ...   \n",
              "       1718   Alavés  2017-10-24 Getafe-Alavés          <NA>    <NA>  ...   \n",
              "                      2017-11-30 Alavés-Getafe          <NA>    <NA>  ...   \n",
              "                      2018-01-03 SD Formentera-Alavés   <NA>    <NA>  ...   \n",
              "...                                                      ...     ...  ...   \n",
              "       2324   Wolves  2024-01-28 West Brom-Wolves         49    <NA>  ...   \n",
              "                      2024-02-28 Wolves-Brighton          28    <NA>  ...   \n",
              "                      2024-03-16 Wolves-Coventry City     58    <NA>  ...   \n",
              "       2425   Wolves  2024-08-28 Wolves-Burnley           50    <NA>  ...   \n",
              "                      2024-09-18 Brighton-Wolves          46    <NA>  ...   \n",
              "\n",
              "                                                       Carries              \\\n",
              "                                                       PrgDist  PrgC   1/3   \n",
              "league season team    game                                                   \n",
              "<NA>   2223   Ajaccio 2023-01-08 Jura Sud Foot-Ajaccio    <NA>  <NA>  <NA>   \n",
              "                      2023-01-21 Toulouse-Ajaccio         <NA>  <NA>  <NA>   \n",
              "       1718   Alavés  2017-10-24 Getafe-Alavés            <NA>  <NA>  <NA>   \n",
              "                      2017-11-30 Alavés-Getafe            <NA>  <NA>  <NA>   \n",
              "                      2018-01-03 SD Formentera-Alavés     <NA>  <NA>  <NA>   \n",
              "...                                                        ...   ...   ...   \n",
              "       2324   Wolves  2024-01-28 West Brom-Wolves         <NA>  <NA>  <NA>   \n",
              "                      2024-02-28 Wolves-Brighton          <NA>  <NA>  <NA>   \n",
              "                      2024-03-16 Wolves-Coventry City     <NA>  <NA>  <NA>   \n",
              "       2425   Wolves  2024-08-28 Wolves-Burnley           <NA>  <NA>  <NA>   \n",
              "                      2024-09-18 Brighton-Wolves          <NA>  <NA>  <NA>   \n",
              "\n",
              "                                                                          \\\n",
              "                                                         CPA   Mis   Dis   \n",
              "league season team    game                                                 \n",
              "<NA>   2223   Ajaccio 2023-01-08 Jura Sud Foot-Ajaccio  <NA>  <NA>  <NA>   \n",
              "                      2023-01-21 Toulouse-Ajaccio       <NA>  <NA>  <NA>   \n",
              "       1718   Alavés  2017-10-24 Getafe-Alavés          <NA>  <NA>  <NA>   \n",
              "                      2017-11-30 Alavés-Getafe          <NA>  <NA>  <NA>   \n",
              "                      2018-01-03 SD Formentera-Alavés   <NA>  <NA>  <NA>   \n",
              "...                                                      ...   ...   ...   \n",
              "       2324   Wolves  2024-01-28 West Brom-Wolves       <NA>  <NA>  <NA>   \n",
              "                      2024-02-28 Wolves-Brighton        <NA>  <NA>  <NA>   \n",
              "                      2024-03-16 Wolves-Coventry City   <NA>  <NA>  <NA>   \n",
              "       2425   Wolves  2024-08-28 Wolves-Burnley         <NA>  <NA>  <NA>   \n",
              "                      2024-09-18 Brighton-Wolves        <NA>  <NA>  <NA>   \n",
              "\n",
              "                                                       Receiving        \\\n",
              "                                                             Rec  PrgR   \n",
              "league season team    game                                               \n",
              "<NA>   2223   Ajaccio 2023-01-08 Jura Sud Foot-Ajaccio      <NA>  <NA>   \n",
              "                      2023-01-21 Toulouse-Ajaccio           <NA>  <NA>   \n",
              "       1718   Alavés  2017-10-24 Getafe-Alavés              <NA>  <NA>   \n",
              "                      2017-11-30 Alavés-Getafe              <NA>  <NA>   \n",
              "                      2018-01-03 SD Formentera-Alavés       <NA>  <NA>   \n",
              "...                                                          ...   ...   \n",
              "       2324   Wolves  2024-01-28 West Brom-Wolves           <NA>  <NA>   \n",
              "                      2024-02-28 Wolves-Brighton            <NA>  <NA>   \n",
              "                      2024-03-16 Wolves-Coventry City       <NA>  <NA>   \n",
              "       2425   Wolves  2024-08-28 Wolves-Burnley             <NA>  <NA>   \n",
              "                      2024-09-18 Brighton-Wolves            <NA>  <NA>   \n",
              "\n",
              "                                                            time  \\\n",
              "                                                                   \n",
              "league season team    game                                         \n",
              "<NA>   2223   Ajaccio 2023-01-08 Jura Sud Foot-Ajaccio  15:30:00   \n",
              "                      2023-01-21 Toulouse-Ajaccio       18:00:00   \n",
              "       1718   Alavés  2017-10-24 Getafe-Alavés          20:30:00   \n",
              "                      2017-11-30 Alavés-Getafe          19:00:00   \n",
              "                      2018-01-03 SD Formentera-Alavés   19:00:00   \n",
              "...                                                          ...   \n",
              "       2324   Wolves  2024-01-28 West Brom-Wolves       11:45:00   \n",
              "                      2024-02-28 Wolves-Brighton        19:45:00   \n",
              "                      2024-03-16 Wolves-Coventry City   12:15:00   \n",
              "       2425   Wolves  2024-08-28 Wolves-Burnley         19:30:00   \n",
              "                      2024-09-18 Brighton-Wolves        19:45:00   \n",
              "\n",
              "                                                                                             match_report  \n",
              "                                                                                                           \n",
              "league season team    game                                                                                 \n",
              "<NA>   2223   Ajaccio 2023-01-08 Jura Sud Foot-Ajaccio  /en/matches/9e1109e9/Jura-Sud-Foot-Ajaccio-Jan...  \n",
              "                      2023-01-21 Toulouse-Ajaccio       /en/matches/c9a9802b/Toulouse-Ajaccio-January-...  \n",
              "       1718   Alavés  2017-10-24 Getafe-Alavés          /en/matches/6a0efeb3/Getafe-Alaves-October-24-...  \n",
              "                      2017-11-30 Alavés-Getafe          /en/matches/00b829fc/Alaves-Getafe-November-30...  \n",
              "                      2018-01-03 SD Formentera-Alavés   /en/matches/b7c26577/SD-Formentera-Alaves-Janu...  \n",
              "...                                                                                                   ...  \n",
              "       2324   Wolves  2024-01-28 West Brom-Wolves       /en/matches/2a3327b0/West-Bromwich-Albion-Wolv...  \n",
              "                      2024-02-28 Wolves-Brighton        /en/matches/f890fce5/Wolverhampton-Wanderers-B...  \n",
              "                      2024-03-16 Wolves-Coventry City   /en/matches/3650b3eb/Wolverhampton-Wanderers-C...  \n",
              "       2425   Wolves  2024-08-28 Wolves-Burnley         /en/matches/c881bced/Wolverhampton-Wanderers-B...  \n",
              "                      2024-09-18 Brighton-Wolves        /en/matches/9ffb2eb2/Brighton-and-Hove-Albion-...  \n",
              "\n",
              "[9689 rows x 33 columns]"
            ],
            "text/html": [
              "\n",
              "  <div id=\"df-fbbc7557-603d-4cde-a0d0-7d2db0fc75c5\" class=\"colab-df-container\">\n",
              "    <div>\n",
              "<style scoped>\n",
              "    .dataframe tbody tr th:only-of-type {\n",
              "        vertical-align: middle;\n",
              "    }\n",
              "\n",
              "    .dataframe tbody tr th {\n",
              "        vertical-align: top;\n",
              "    }\n",
              "\n",
              "    .dataframe thead tr th {\n",
              "        text-align: left;\n",
              "    }\n",
              "\n",
              "    .dataframe thead tr:last-of-type th {\n",
              "        text-align: right;\n",
              "    }\n",
              "</style>\n",
              "<table border=\"1\" class=\"dataframe\">\n",
              "  <thead>\n",
              "    <tr>\n",
              "      <th></th>\n",
              "      <th></th>\n",
              "      <th></th>\n",
              "      <th></th>\n",
              "      <th>date</th>\n",
              "      <th>round</th>\n",
              "      <th>day</th>\n",
              "      <th>venue</th>\n",
              "      <th>result</th>\n",
              "      <th>GF</th>\n",
              "      <th>GA</th>\n",
              "      <th>opponent</th>\n",
              "      <th>Poss</th>\n",
              "      <th>Touches</th>\n",
              "      <th>...</th>\n",
              "      <th colspan=\"6\" halign=\"left\">Carries</th>\n",
              "      <th colspan=\"2\" halign=\"left\">Receiving</th>\n",
              "      <th>time</th>\n",
              "      <th>match_report</th>\n",
              "    </tr>\n",
              "    <tr>\n",
              "      <th></th>\n",
              "      <th></th>\n",
              "      <th></th>\n",
              "      <th></th>\n",
              "      <th></th>\n",
              "      <th></th>\n",
              "      <th></th>\n",
              "      <th></th>\n",
              "      <th></th>\n",
              "      <th></th>\n",
              "      <th></th>\n",
              "      <th></th>\n",
              "      <th></th>\n",
              "      <th>Touches</th>\n",
              "      <th>...</th>\n",
              "      <th>PrgDist</th>\n",
              "      <th>PrgC</th>\n",
              "      <th>1/3</th>\n",
              "      <th>CPA</th>\n",
              "      <th>Mis</th>\n",
              "      <th>Dis</th>\n",
              "      <th>Rec</th>\n",
              "      <th>PrgR</th>\n",
              "      <th></th>\n",
              "      <th></th>\n",
              "    </tr>\n",
              "    <tr>\n",
              "      <th>league</th>\n",
              "      <th>season</th>\n",
              "      <th>team</th>\n",
              "      <th>game</th>\n",
              "      <th></th>\n",
              "      <th></th>\n",
              "      <th></th>\n",
              "      <th></th>\n",
              "      <th></th>\n",
              "      <th></th>\n",
              "      <th></th>\n",
              "      <th></th>\n",
              "      <th></th>\n",
              "      <th></th>\n",
              "      <th></th>\n",
              "      <th></th>\n",
              "      <th></th>\n",
              "      <th></th>\n",
              "      <th></th>\n",
              "      <th></th>\n",
              "      <th></th>\n",
              "      <th></th>\n",
              "      <th></th>\n",
              "      <th></th>\n",
              "      <th></th>\n",
              "    </tr>\n",
              "  </thead>\n",
              "  <tbody>\n",
              "    <tr>\n",
              "      <th rowspan=\"11\" valign=\"top\">&lt;NA&gt;</th>\n",
              "      <th rowspan=\"2\" valign=\"top\">2223</th>\n",
              "      <th rowspan=\"2\" valign=\"top\">Ajaccio</th>\n",
              "      <th>2023-01-08 Jura Sud Foot-Ajaccio</th>\n",
              "      <td>2023-01-08</td>\n",
              "      <td>Round of 64</td>\n",
              "      <td>Sun</td>\n",
              "      <td>Away</td>\n",
              "      <td>W</td>\n",
              "      <td>2</td>\n",
              "      <td>1</td>\n",
              "      <td>Jura Sud Foot</td>\n",
              "      <td>55</td>\n",
              "      <td>&lt;NA&gt;</td>\n",
              "      <td>...</td>\n",
              "      <td>&lt;NA&gt;</td>\n",
              "      <td>&lt;NA&gt;</td>\n",
              "      <td>&lt;NA&gt;</td>\n",
              "      <td>&lt;NA&gt;</td>\n",
              "      <td>&lt;NA&gt;</td>\n",
              "      <td>&lt;NA&gt;</td>\n",
              "      <td>&lt;NA&gt;</td>\n",
              "      <td>&lt;NA&gt;</td>\n",
              "      <td>15:30:00</td>\n",
              "      <td>/en/matches/9e1109e9/Jura-Sud-Foot-Ajaccio-Jan...</td>\n",
              "    </tr>\n",
              "    <tr>\n",
              "      <th>2023-01-21 Toulouse-Ajaccio</th>\n",
              "      <td>2023-01-21</td>\n",
              "      <td>Round of 32</td>\n",
              "      <td>Sat</td>\n",
              "      <td>Away</td>\n",
              "      <td>L</td>\n",
              "      <td>0</td>\n",
              "      <td>2</td>\n",
              "      <td>Toulouse</td>\n",
              "      <td>37</td>\n",
              "      <td>&lt;NA&gt;</td>\n",
              "      <td>...</td>\n",
              "      <td>&lt;NA&gt;</td>\n",
              "      <td>&lt;NA&gt;</td>\n",
              "      <td>&lt;NA&gt;</td>\n",
              "      <td>&lt;NA&gt;</td>\n",
              "      <td>&lt;NA&gt;</td>\n",
              "      <td>&lt;NA&gt;</td>\n",
              "      <td>&lt;NA&gt;</td>\n",
              "      <td>&lt;NA&gt;</td>\n",
              "      <td>18:00:00</td>\n",
              "      <td>/en/matches/c9a9802b/Toulouse-Ajaccio-January-...</td>\n",
              "    </tr>\n",
              "    <tr>\n",
              "      <th rowspan=\"3\" valign=\"top\">1718</th>\n",
              "      <th rowspan=\"3\" valign=\"top\">Alavés</th>\n",
              "      <th>2017-10-24 Getafe-Alavés</th>\n",
              "      <td>2017-10-24</td>\n",
              "      <td>Round of 32</td>\n",
              "      <td>Tue</td>\n",
              "      <td>Away</td>\n",
              "      <td>W</td>\n",
              "      <td>1</td>\n",
              "      <td>0</td>\n",
              "      <td>Getafe</td>\n",
              "      <td>&lt;NA&gt;</td>\n",
              "      <td>&lt;NA&gt;</td>\n",
              "      <td>...</td>\n",
              "      <td>&lt;NA&gt;</td>\n",
              "      <td>&lt;NA&gt;</td>\n",
              "      <td>&lt;NA&gt;</td>\n",
              "      <td>&lt;NA&gt;</td>\n",
              "      <td>&lt;NA&gt;</td>\n",
              "      <td>&lt;NA&gt;</td>\n",
              "      <td>&lt;NA&gt;</td>\n",
              "      <td>&lt;NA&gt;</td>\n",
              "      <td>20:30:00</td>\n",
              "      <td>/en/matches/6a0efeb3/Getafe-Alaves-October-24-...</td>\n",
              "    </tr>\n",
              "    <tr>\n",
              "      <th>2017-11-30 Alavés-Getafe</th>\n",
              "      <td>2017-11-30</td>\n",
              "      <td>Round of 32</td>\n",
              "      <td>Thu</td>\n",
              "      <td>Home</td>\n",
              "      <td>W</td>\n",
              "      <td>3</td>\n",
              "      <td>0</td>\n",
              "      <td>Getafe</td>\n",
              "      <td>&lt;NA&gt;</td>\n",
              "      <td>&lt;NA&gt;</td>\n",
              "      <td>...</td>\n",
              "      <td>&lt;NA&gt;</td>\n",
              "      <td>&lt;NA&gt;</td>\n",
              "      <td>&lt;NA&gt;</td>\n",
              "      <td>&lt;NA&gt;</td>\n",
              "      <td>&lt;NA&gt;</td>\n",
              "      <td>&lt;NA&gt;</td>\n",
              "      <td>&lt;NA&gt;</td>\n",
              "      <td>&lt;NA&gt;</td>\n",
              "      <td>19:00:00</td>\n",
              "      <td>/en/matches/00b829fc/Alaves-Getafe-November-30...</td>\n",
              "    </tr>\n",
              "    <tr>\n",
              "      <th>2018-01-03 SD Formentera-Alavés</th>\n",
              "      <td>2018-01-03</td>\n",
              "      <td>Round of 16</td>\n",
              "      <td>Wed</td>\n",
              "      <td>Away</td>\n",
              "      <td>W</td>\n",
              "      <td>3</td>\n",
              "      <td>1</td>\n",
              "      <td>SD Formentera</td>\n",
              "      <td>&lt;NA&gt;</td>\n",
              "      <td>&lt;NA&gt;</td>\n",
              "      <td>...</td>\n",
              "      <td>&lt;NA&gt;</td>\n",
              "      <td>&lt;NA&gt;</td>\n",
              "      <td>&lt;NA&gt;</td>\n",
              "      <td>&lt;NA&gt;</td>\n",
              "      <td>&lt;NA&gt;</td>\n",
              "      <td>&lt;NA&gt;</td>\n",
              "      <td>&lt;NA&gt;</td>\n",
              "      <td>&lt;NA&gt;</td>\n",
              "      <td>19:00:00</td>\n",
              "      <td>/en/matches/b7c26577/SD-Formentera-Alaves-Janu...</td>\n",
              "    </tr>\n",
              "    <tr>\n",
              "      <th>...</th>\n",
              "      <th>...</th>\n",
              "      <th>...</th>\n",
              "      <td>...</td>\n",
              "      <td>...</td>\n",
              "      <td>...</td>\n",
              "      <td>...</td>\n",
              "      <td>...</td>\n",
              "      <td>...</td>\n",
              "      <td>...</td>\n",
              "      <td>...</td>\n",
              "      <td>...</td>\n",
              "      <td>...</td>\n",
              "      <td>...</td>\n",
              "      <td>...</td>\n",
              "      <td>...</td>\n",
              "      <td>...</td>\n",
              "      <td>...</td>\n",
              "      <td>...</td>\n",
              "      <td>...</td>\n",
              "      <td>...</td>\n",
              "      <td>...</td>\n",
              "      <td>...</td>\n",
              "      <td>...</td>\n",
              "    </tr>\n",
              "    <tr>\n",
              "      <th rowspan=\"3\" valign=\"top\">2324</th>\n",
              "      <th rowspan=\"3\" valign=\"top\">Wolves</th>\n",
              "      <th>2024-01-28 West Brom-Wolves</th>\n",
              "      <td>2024-01-28</td>\n",
              "      <td>Fourth round proper</td>\n",
              "      <td>Sun</td>\n",
              "      <td>Away</td>\n",
              "      <td>W</td>\n",
              "      <td>2</td>\n",
              "      <td>0</td>\n",
              "      <td>West Brom</td>\n",
              "      <td>49</td>\n",
              "      <td>&lt;NA&gt;</td>\n",
              "      <td>...</td>\n",
              "      <td>&lt;NA&gt;</td>\n",
              "      <td>&lt;NA&gt;</td>\n",
              "      <td>&lt;NA&gt;</td>\n",
              "      <td>&lt;NA&gt;</td>\n",
              "      <td>&lt;NA&gt;</td>\n",
              "      <td>&lt;NA&gt;</td>\n",
              "      <td>&lt;NA&gt;</td>\n",
              "      <td>&lt;NA&gt;</td>\n",
              "      <td>11:45:00</td>\n",
              "      <td>/en/matches/2a3327b0/West-Bromwich-Albion-Wolv...</td>\n",
              "    </tr>\n",
              "    <tr>\n",
              "      <th>2024-02-28 Wolves-Brighton</th>\n",
              "      <td>2024-02-28</td>\n",
              "      <td>Fifth round proper</td>\n",
              "      <td>Wed</td>\n",
              "      <td>Home</td>\n",
              "      <td>W</td>\n",
              "      <td>1</td>\n",
              "      <td>0</td>\n",
              "      <td>Brighton</td>\n",
              "      <td>28</td>\n",
              "      <td>&lt;NA&gt;</td>\n",
              "      <td>...</td>\n",
              "      <td>&lt;NA&gt;</td>\n",
              "      <td>&lt;NA&gt;</td>\n",
              "      <td>&lt;NA&gt;</td>\n",
              "      <td>&lt;NA&gt;</td>\n",
              "      <td>&lt;NA&gt;</td>\n",
              "      <td>&lt;NA&gt;</td>\n",
              "      <td>&lt;NA&gt;</td>\n",
              "      <td>&lt;NA&gt;</td>\n",
              "      <td>19:45:00</td>\n",
              "      <td>/en/matches/f890fce5/Wolverhampton-Wanderers-B...</td>\n",
              "    </tr>\n",
              "    <tr>\n",
              "      <th>2024-03-16 Wolves-Coventry City</th>\n",
              "      <td>2024-03-16</td>\n",
              "      <td>Quarter-finals</td>\n",
              "      <td>Sat</td>\n",
              "      <td>Home</td>\n",
              "      <td>L</td>\n",
              "      <td>2</td>\n",
              "      <td>3</td>\n",
              "      <td>Coventry City</td>\n",
              "      <td>58</td>\n",
              "      <td>&lt;NA&gt;</td>\n",
              "      <td>...</td>\n",
              "      <td>&lt;NA&gt;</td>\n",
              "      <td>&lt;NA&gt;</td>\n",
              "      <td>&lt;NA&gt;</td>\n",
              "      <td>&lt;NA&gt;</td>\n",
              "      <td>&lt;NA&gt;</td>\n",
              "      <td>&lt;NA&gt;</td>\n",
              "      <td>&lt;NA&gt;</td>\n",
              "      <td>&lt;NA&gt;</td>\n",
              "      <td>12:15:00</td>\n",
              "      <td>/en/matches/3650b3eb/Wolverhampton-Wanderers-C...</td>\n",
              "    </tr>\n",
              "    <tr>\n",
              "      <th rowspan=\"2\" valign=\"top\">2425</th>\n",
              "      <th rowspan=\"2\" valign=\"top\">Wolves</th>\n",
              "      <th>2024-08-28 Wolves-Burnley</th>\n",
              "      <td>2024-08-28</td>\n",
              "      <td>Second round</td>\n",
              "      <td>Wed</td>\n",
              "      <td>Home</td>\n",
              "      <td>W</td>\n",
              "      <td>2</td>\n",
              "      <td>0</td>\n",
              "      <td>Burnley</td>\n",
              "      <td>50</td>\n",
              "      <td>&lt;NA&gt;</td>\n",
              "      <td>...</td>\n",
              "      <td>&lt;NA&gt;</td>\n",
              "      <td>&lt;NA&gt;</td>\n",
              "      <td>&lt;NA&gt;</td>\n",
              "      <td>&lt;NA&gt;</td>\n",
              "      <td>&lt;NA&gt;</td>\n",
              "      <td>&lt;NA&gt;</td>\n",
              "      <td>&lt;NA&gt;</td>\n",
              "      <td>&lt;NA&gt;</td>\n",
              "      <td>19:30:00</td>\n",
              "      <td>/en/matches/c881bced/Wolverhampton-Wanderers-B...</td>\n",
              "    </tr>\n",
              "    <tr>\n",
              "      <th>2024-09-18 Brighton-Wolves</th>\n",
              "      <td>2024-09-18</td>\n",
              "      <td>Third round</td>\n",
              "      <td>Wed</td>\n",
              "      <td>Away</td>\n",
              "      <td>L</td>\n",
              "      <td>2</td>\n",
              "      <td>3</td>\n",
              "      <td>Brighton</td>\n",
              "      <td>46</td>\n",
              "      <td>&lt;NA&gt;</td>\n",
              "      <td>...</td>\n",
              "      <td>&lt;NA&gt;</td>\n",
              "      <td>&lt;NA&gt;</td>\n",
              "      <td>&lt;NA&gt;</td>\n",
              "      <td>&lt;NA&gt;</td>\n",
              "      <td>&lt;NA&gt;</td>\n",
              "      <td>&lt;NA&gt;</td>\n",
              "      <td>&lt;NA&gt;</td>\n",
              "      <td>&lt;NA&gt;</td>\n",
              "      <td>19:45:00</td>\n",
              "      <td>/en/matches/9ffb2eb2/Brighton-and-Hove-Albion-...</td>\n",
              "    </tr>\n",
              "  </tbody>\n",
              "</table>\n",
              "<p>9689 rows × 33 columns</p>\n",
              "</div>\n",
              "    <div class=\"colab-df-buttons\">\n",
              "\n",
              "  <div class=\"colab-df-container\">\n",
              "    <button class=\"colab-df-convert\" onclick=\"convertToInteractive('df-fbbc7557-603d-4cde-a0d0-7d2db0fc75c5')\"\n",
              "            title=\"Convert this dataframe to an interactive table.\"\n",
              "            style=\"display:none;\">\n",
              "\n",
              "  <svg xmlns=\"http://www.w3.org/2000/svg\" height=\"24px\" viewBox=\"0 -960 960 960\">\n",
              "    <path d=\"M120-120v-720h720v720H120Zm60-500h600v-160H180v160Zm220 220h160v-160H400v160Zm0 220h160v-160H400v160ZM180-400h160v-160H180v160Zm440 0h160v-160H620v160ZM180-180h160v-160H180v160Zm440 0h160v-160H620v160Z\"/>\n",
              "  </svg>\n",
              "    </button>\n",
              "\n",
              "  <style>\n",
              "    .colab-df-container {\n",
              "      display:flex;\n",
              "      gap: 12px;\n",
              "    }\n",
              "\n",
              "    .colab-df-convert {\n",
              "      background-color: #E8F0FE;\n",
              "      border: none;\n",
              "      border-radius: 50%;\n",
              "      cursor: pointer;\n",
              "      display: none;\n",
              "      fill: #1967D2;\n",
              "      height: 32px;\n",
              "      padding: 0 0 0 0;\n",
              "      width: 32px;\n",
              "    }\n",
              "\n",
              "    .colab-df-convert:hover {\n",
              "      background-color: #E2EBFA;\n",
              "      box-shadow: 0px 1px 2px rgba(60, 64, 67, 0.3), 0px 1px 3px 1px rgba(60, 64, 67, 0.15);\n",
              "      fill: #174EA6;\n",
              "    }\n",
              "\n",
              "    .colab-df-buttons div {\n",
              "      margin-bottom: 4px;\n",
              "    }\n",
              "\n",
              "    [theme=dark] .colab-df-convert {\n",
              "      background-color: #3B4455;\n",
              "      fill: #D2E3FC;\n",
              "    }\n",
              "\n",
              "    [theme=dark] .colab-df-convert:hover {\n",
              "      background-color: #434B5C;\n",
              "      box-shadow: 0px 1px 3px 1px rgba(0, 0, 0, 0.15);\n",
              "      filter: drop-shadow(0px 1px 2px rgba(0, 0, 0, 0.3));\n",
              "      fill: #FFFFFF;\n",
              "    }\n",
              "  </style>\n",
              "\n",
              "    <script>\n",
              "      const buttonEl =\n",
              "        document.querySelector('#df-fbbc7557-603d-4cde-a0d0-7d2db0fc75c5 button.colab-df-convert');\n",
              "      buttonEl.style.display =\n",
              "        google.colab.kernel.accessAllowed ? 'block' : 'none';\n",
              "\n",
              "      async function convertToInteractive(key) {\n",
              "        const element = document.querySelector('#df-fbbc7557-603d-4cde-a0d0-7d2db0fc75c5');\n",
              "        const dataTable =\n",
              "          await google.colab.kernel.invokeFunction('convertToInteractive',\n",
              "                                                    [key], {});\n",
              "        if (!dataTable) return;\n",
              "\n",
              "        const docLinkHtml = 'Like what you see? Visit the ' +\n",
              "          '<a target=\"_blank\" href=https://colab.research.google.com/notebooks/data_table.ipynb>data table notebook</a>'\n",
              "          + ' to learn more about interactive tables.';\n",
              "        element.innerHTML = '';\n",
              "        dataTable['output_type'] = 'display_data';\n",
              "        await google.colab.output.renderOutput(dataTable, element);\n",
              "        const docLink = document.createElement('div');\n",
              "        docLink.innerHTML = docLinkHtml;\n",
              "        element.appendChild(docLink);\n",
              "      }\n",
              "    </script>\n",
              "  </div>\n",
              "\n",
              "\n",
              "<div id=\"df-52ff9f2b-8cc9-46f9-b667-e1467742ceea\">\n",
              "  <button class=\"colab-df-quickchart\" onclick=\"quickchart('df-52ff9f2b-8cc9-46f9-b667-e1467742ceea')\"\n",
              "            title=\"Suggest charts\"\n",
              "            style=\"display:none;\">\n",
              "\n",
              "<svg xmlns=\"http://www.w3.org/2000/svg\" height=\"24px\"viewBox=\"0 0 24 24\"\n",
              "     width=\"24px\">\n",
              "    <g>\n",
              "        <path d=\"M19 3H5c-1.1 0-2 .9-2 2v14c0 1.1.9 2 2 2h14c1.1 0 2-.9 2-2V5c0-1.1-.9-2-2-2zM9 17H7v-7h2v7zm4 0h-2V7h2v10zm4 0h-2v-4h2v4z\"/>\n",
              "    </g>\n",
              "</svg>\n",
              "  </button>\n",
              "\n",
              "<style>\n",
              "  .colab-df-quickchart {\n",
              "      --bg-color: #E8F0FE;\n",
              "      --fill-color: #1967D2;\n",
              "      --hover-bg-color: #E2EBFA;\n",
              "      --hover-fill-color: #174EA6;\n",
              "      --disabled-fill-color: #AAA;\n",
              "      --disabled-bg-color: #DDD;\n",
              "  }\n",
              "\n",
              "  [theme=dark] .colab-df-quickchart {\n",
              "      --bg-color: #3B4455;\n",
              "      --fill-color: #D2E3FC;\n",
              "      --hover-bg-color: #434B5C;\n",
              "      --hover-fill-color: #FFFFFF;\n",
              "      --disabled-bg-color: #3B4455;\n",
              "      --disabled-fill-color: #666;\n",
              "  }\n",
              "\n",
              "  .colab-df-quickchart {\n",
              "    background-color: var(--bg-color);\n",
              "    border: none;\n",
              "    border-radius: 50%;\n",
              "    cursor: pointer;\n",
              "    display: none;\n",
              "    fill: var(--fill-color);\n",
              "    height: 32px;\n",
              "    padding: 0;\n",
              "    width: 32px;\n",
              "  }\n",
              "\n",
              "  .colab-df-quickchart:hover {\n",
              "    background-color: var(--hover-bg-color);\n",
              "    box-shadow: 0 1px 2px rgba(60, 64, 67, 0.3), 0 1px 3px 1px rgba(60, 64, 67, 0.15);\n",
              "    fill: var(--button-hover-fill-color);\n",
              "  }\n",
              "\n",
              "  .colab-df-quickchart-complete:disabled,\n",
              "  .colab-df-quickchart-complete:disabled:hover {\n",
              "    background-color: var(--disabled-bg-color);\n",
              "    fill: var(--disabled-fill-color);\n",
              "    box-shadow: none;\n",
              "  }\n",
              "\n",
              "  .colab-df-spinner {\n",
              "    border: 2px solid var(--fill-color);\n",
              "    border-color: transparent;\n",
              "    border-bottom-color: var(--fill-color);\n",
              "    animation:\n",
              "      spin 1s steps(1) infinite;\n",
              "  }\n",
              "\n",
              "  @keyframes spin {\n",
              "    0% {\n",
              "      border-color: transparent;\n",
              "      border-bottom-color: var(--fill-color);\n",
              "      border-left-color: var(--fill-color);\n",
              "    }\n",
              "    20% {\n",
              "      border-color: transparent;\n",
              "      border-left-color: var(--fill-color);\n",
              "      border-top-color: var(--fill-color);\n",
              "    }\n",
              "    30% {\n",
              "      border-color: transparent;\n",
              "      border-left-color: var(--fill-color);\n",
              "      border-top-color: var(--fill-color);\n",
              "      border-right-color: var(--fill-color);\n",
              "    }\n",
              "    40% {\n",
              "      border-color: transparent;\n",
              "      border-right-color: var(--fill-color);\n",
              "      border-top-color: var(--fill-color);\n",
              "    }\n",
              "    60% {\n",
              "      border-color: transparent;\n",
              "      border-right-color: var(--fill-color);\n",
              "    }\n",
              "    80% {\n",
              "      border-color: transparent;\n",
              "      border-right-color: var(--fill-color);\n",
              "      border-bottom-color: var(--fill-color);\n",
              "    }\n",
              "    90% {\n",
              "      border-color: transparent;\n",
              "      border-bottom-color: var(--fill-color);\n",
              "    }\n",
              "  }\n",
              "</style>\n",
              "\n",
              "  <script>\n",
              "    async function quickchart(key) {\n",
              "      const quickchartButtonEl =\n",
              "        document.querySelector('#' + key + ' button');\n",
              "      quickchartButtonEl.disabled = true;  // To prevent multiple clicks.\n",
              "      quickchartButtonEl.classList.add('colab-df-spinner');\n",
              "      try {\n",
              "        const charts = await google.colab.kernel.invokeFunction(\n",
              "            'suggestCharts', [key], {});\n",
              "      } catch (error) {\n",
              "        console.error('Error during call to suggestCharts:', error);\n",
              "      }\n",
              "      quickchartButtonEl.classList.remove('colab-df-spinner');\n",
              "      quickchartButtonEl.classList.add('colab-df-quickchart-complete');\n",
              "    }\n",
              "    (() => {\n",
              "      let quickchartButtonEl =\n",
              "        document.querySelector('#df-52ff9f2b-8cc9-46f9-b667-e1467742ceea button');\n",
              "      quickchartButtonEl.style.display =\n",
              "        google.colab.kernel.accessAllowed ? 'block' : 'none';\n",
              "    })();\n",
              "  </script>\n",
              "</div>\n",
              "    </div>\n",
              "  </div>\n"
            ],
            "application/vnd.google.colaboratory.intrinsic+json": {
              "type": "dataframe",
              "variable_name": "team_match_stats8"
            }
          },
          "metadata": {},
          "execution_count": 57
        }
      ]
    },
    {
      "cell_type": "code",
      "source": [],
      "metadata": {
        "id": "8OVzhHmPgE1t"
      },
      "execution_count": null,
      "outputs": []
    }
  ],
  "metadata": {
    "colab": {
      "provenance": []
    },
    "kernelspec": {
      "display_name": "Python 3",
      "name": "python3"
    },
    "language_info": {
      "name": "python"
    }
  },
  "nbformat": 4,
  "nbformat_minor": 0
}