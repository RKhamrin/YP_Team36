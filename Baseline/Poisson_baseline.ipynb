{
  "nbformat": 4,
  "nbformat_minor": 0,
  "metadata": {
    "colab": {
      "provenance": []
    },
    "kernelspec": {
      "name": "python3",
      "display_name": "Python 3"
    },
    "language_info": {
      "name": "python"
    }
  },
  "cells": [
    {
      "cell_type": "code",
      "execution_count": 1,
      "metadata": {
        "id": "S9wpnEfvCaNL"
      },
      "outputs": [],
      "source": [
        "import pandas as pd\n",
        "import numpy as np\n",
        "import collections\n",
        "\n",
        "from scipy.stats import poisson\n",
        "from sklearn.linear_model import PoissonRegressor\n",
        "from sklearn.model_selection import train_test_split\n",
        "from sklearn.preprocessing import StandardScaler\n",
        "from sklearn.linear_model import LogisticRegression\n",
        "from sklearn import metrics\n",
        "from sklearn.metrics import f1_score, mean_squared_error"
      ]
    },
    {
      "cell_type": "code",
      "source": [
        "matches = pd.read_csv('teams_matches_stats-2.csv')"
      ],
      "metadata": {
        "id": "a9fVnP9IDhDO"
      },
      "execution_count": 2,
      "outputs": []
    },
    {
      "cell_type": "markdown",
      "source": [
        "## Отбор нужных колонок"
      ],
      "metadata": {
        "id": "UTE_IObGDrmz"
      }
    },
    {
      "cell_type": "code",
      "source": [
        "match_cols = [\n",
        "    'Attendance', 'Performance.3', 'Standard.5', 'Poss',\n",
        "    'Standard.4', 'Standard.3', 'offside', 'crosses', 'fouls_drw',\n",
        "    'fouls_com', 'Int', 'Tackles.1', 'Standard.1', 'Standard.2',\n",
        "    'Performance.2', 'Performance', 'Opp Formation', 'Formation', 'Captain',\n",
        "    'Referee', 'Performance.4', 'OwnGoals', 'Ast', 'Penalty Kicks.1',\n",
        "    'Penalty Kicks.2', 'Penalty Kicks.3', 'Penalty Kicks', 'Standard.9',\n",
        "    'Tkl+Int', 'sec_yel', 'red', 'yellow', 'Standard.8'\n",
        "]\n",
        "y_cols = ['GA', 'GF', 'season', 'game', 'team', 'opponent', 'venue']"
      ],
      "metadata": {
        "id": "sMw45jxfEzzN"
      },
      "execution_count": 3,
      "outputs": []
    },
    {
      "cell_type": "code",
      "source": [
        "matches = matches[match_cols+y_cols]"
      ],
      "metadata": {
        "id": "lKPPbtypE4PV"
      },
      "execution_count": 4,
      "outputs": []
    },
    {
      "cell_type": "markdown",
      "source": [
        "## Бейзлайн, часть 1: реализация кода из статьи без учета домашних и выездных матчей\n",
        "\n",
        "Ссылка на статью: https://habr.com/ru/companies/ruvds/articles/704570/\n",
        "\n",
        "**Таргет: 1 в случае победы домашней команды и 0 в противном случае**"
      ],
      "metadata": {
        "id": "BknEIWmnoW8j"
      }
    },
    {
      "cell_type": "code",
      "source": [
        "## Разделим датасет на тренировочный и валидационный\n",
        "matches_train, matches_val = matches[\n",
        "    ~matches['season'].isin([2324, 2425])\n",
        "    ], matches[matches['season'] == 2324]"
      ],
      "metadata": {
        "id": "ZekYmKutjpaV"
      },
      "execution_count": 295,
      "outputs": []
    },
    {
      "cell_type": "code",
      "source": [
        "## Получаем аггрегированные статистики по командам\n",
        "## GA (goals against) -- количество пропущенных голов, GF (goals for) -- количество забитых голов\n",
        "agg_stats_matches = matches_train.groupby('team')[['GA', 'GF']].mean()"
      ],
      "metadata": {
        "id": "wN233Xc1kP3g"
      },
      "execution_count": 296,
      "outputs": []
    },
    {
      "cell_type": "code",
      "source": [
        "def predict_points(agg_stats, home, away):\n",
        "    if home in agg_stats.index and away in agg_stats.index:\n",
        "        ## Считаем \"лямбды\" для первой и второй команды\n",
        "        lamb_home = agg_stats.at[home,'GF'] * agg_stats.at[away,'GA']\n",
        "        lamb_away = agg_stats.at[away,'GF'] * agg_stats.at[home,'GA']\n",
        "        prob_home, prob_away, prob_draw = 0, 0, 0\n",
        "        ## Проходимся по всем возможным результатам матчей\n",
        "        for x in range(0,11): #количество голов команды хозяев\n",
        "            for y in range(0, 11): #количество голов команды гостей\n",
        "                p = poisson.pmf(x, lamb_home) * poisson.pmf(y, lamb_away)\n",
        "                if x == y:\n",
        "                    prob_draw += p\n",
        "                elif x > y:\n",
        "                    prob_home += p\n",
        "                else:\n",
        "                    prob_away += p\n",
        "        ## Считаем предполагаемые количества очков\n",
        "        points_home = 3 * prob_home + prob_draw\n",
        "        points_away = 3 * prob_away + prob_draw\n",
        "        return (points_home, points_away)\n",
        "    else:\n",
        "        return (0, 0)"
      ],
      "metadata": {
        "id": "4dYqTdGQjlWB"
      },
      "execution_count": 298,
      "outputs": []
    },
    {
      "cell_type": "code",
      "source": [
        "## Демонстрационный пример\n",
        "## Первое значение -- ожидаемое количество очков Ajaccio, второе -- Alavés\n",
        "predict_points(agg_stats_matches, 'Ajaccio', 'Alavés')"
      ],
      "metadata": {
        "colab": {
          "base_uri": "https://localhost:8080/"
        },
        "id": "81NwqoKNjlTc",
        "outputId": "fe34b42f-425a-4aff-d5ba-57cb880c5f25"
      },
      "execution_count": 299,
      "outputs": [
        {
          "output_type": "execute_result",
          "data": {
            "text/plain": [
              "(0.7378345559055135, 2.0794877202334123)"
            ]
          },
          "metadata": {},
          "execution_count": 299
        }
      ]
    },
    {
      "cell_type": "code",
      "source": [
        "## Функция определения победителя с помощью предсказания\n",
        "def get_winner_preds(agg_stats_matches, home, away):\n",
        "    points_home, points_away = predict_points(agg_stats_matches, home, away)\n",
        "    if points_home > points_away:\n",
        "        return home\n",
        "    return away\n",
        "\n",
        "## Фунция определения реального победителя\n",
        "def get_winner(x):\n",
        "    if x['GA'] < x['GF']:\n",
        "        return x['team']\n",
        "    return x['opponent']\n",
        "\n",
        "## Функция перекодирования переменных в бинарные\n",
        "## Таргет 1 -- победа или ничья домашней команды\n",
        "def recode(x, winner):\n",
        "    if x['team'] == x[winner] and x['venue'] == 'Home':\n",
        "        return 1\n",
        "    return 0"
      ],
      "metadata": {
        "id": "95oz2k2vmqPO"
      },
      "execution_count": 300,
      "outputs": []
    },
    {
      "cell_type": "code",
      "source": [
        "## Получаем реального победителя матча и предсказание модели для тренировочных данных\n",
        "matches_train['winners_train'] = matches_train.apply(lambda x: get_winner(x), axis=1)\n",
        "matches_train['winners_train_preds'] = matches_train.apply(\n",
        "    lambda x: get_winner_preds(agg_stats_matches, x['team'], x['opponent']), axis=1\n",
        "    )"
      ],
      "metadata": {
        "colab": {
          "base_uri": "https://localhost:8080/"
        },
        "id": "3NpKyA-Tqv4n",
        "outputId": "8ea37565-f953-46f3-bdc9-05e3f2f79523"
      },
      "execution_count": 301,
      "outputs": [
        {
          "output_type": "stream",
          "name": "stderr",
          "text": [
            "<ipython-input-301-b79077444cfa>:2: SettingWithCopyWarning: \n",
            "A value is trying to be set on a copy of a slice from a DataFrame.\n",
            "Try using .loc[row_indexer,col_indexer] = value instead\n",
            "\n",
            "See the caveats in the documentation: https://pandas.pydata.org/pandas-docs/stable/user_guide/indexing.html#returning-a-view-versus-a-copy\n",
            "  matches_train['winners_train'] = matches_train.apply(lambda x: get_winner(x), axis=1)\n",
            "<ipython-input-301-b79077444cfa>:3: SettingWithCopyWarning: \n",
            "A value is trying to be set on a copy of a slice from a DataFrame.\n",
            "Try using .loc[row_indexer,col_indexer] = value instead\n",
            "\n",
            "See the caveats in the documentation: https://pandas.pydata.org/pandas-docs/stable/user_guide/indexing.html#returning-a-view-versus-a-copy\n",
            "  matches_train['winners_train_preds'] = matches_train.apply(\n"
          ]
        }
      ]
    },
    {
      "cell_type": "code",
      "source": [
        "## Переводим таргет в бинарный флаг и считаем метрики для тренировочных данных\n",
        "winners_bin_train = matches_train.apply(lambda x: recode(x, 'winners_train'), axis=1)\n",
        "winners_bin_train_preds = matches_train.apply(lambda x: recode(x, 'winners_train_preds'), axis=1)\n",
        "print(f'f1-score на тренировочной выборке: {f1_score(winners_bin_train, winners_bin_train_preds)}')"
      ],
      "metadata": {
        "colab": {
          "base_uri": "https://localhost:8080/"
        },
        "id": "RTDxhf8EufzA",
        "outputId": "363f31c9-7b9f-474e-d8c4-d46551494651"
      },
      "execution_count": 302,
      "outputs": [
        {
          "output_type": "stream",
          "name": "stdout",
          "text": [
            "f1-score на тренировочной выборке: 0.5093240093240093\n"
          ]
        }
      ]
    },
    {
      "cell_type": "code",
      "source": [
        "## Получаем реального победителя матча и предсказание модели для тестовых данных\n",
        "matches_val['winners_test'] = matches_val.apply(lambda x: get_winner(x), axis=1)\n",
        "matches_val['winners_test_preds'] = matches_val.apply(\n",
        "    lambda x: get_winner_preds(agg_stats_matches, x['team'], x['opponent']), axis=1\n",
        "    )"
      ],
      "metadata": {
        "colab": {
          "base_uri": "https://localhost:8080/"
        },
        "id": "ycuDvReOFouJ",
        "outputId": "9e2586a2-4442-4783-c170-180c67d56c50"
      },
      "execution_count": 304,
      "outputs": [
        {
          "output_type": "stream",
          "name": "stderr",
          "text": [
            "<ipython-input-304-c4df2c5805fd>:2: SettingWithCopyWarning: \n",
            "A value is trying to be set on a copy of a slice from a DataFrame.\n",
            "Try using .loc[row_indexer,col_indexer] = value instead\n",
            "\n",
            "See the caveats in the documentation: https://pandas.pydata.org/pandas-docs/stable/user_guide/indexing.html#returning-a-view-versus-a-copy\n",
            "  matches_val['winners_test'] = matches_val.apply(lambda x: get_winner(x), axis=1)\n",
            "<ipython-input-304-c4df2c5805fd>:3: SettingWithCopyWarning: \n",
            "A value is trying to be set on a copy of a slice from a DataFrame.\n",
            "Try using .loc[row_indexer,col_indexer] = value instead\n",
            "\n",
            "See the caveats in the documentation: https://pandas.pydata.org/pandas-docs/stable/user_guide/indexing.html#returning-a-view-versus-a-copy\n",
            "  matches_val['winners_test_preds'] = matches_val.apply(\n"
          ]
        }
      ]
    },
    {
      "cell_type": "code",
      "source": [
        "## Переводим таргет в бинарный флаг и считаем метрики для тестовых данных\n",
        "winners_bin_test = matches_val.apply(lambda x: recode(x, 'winners_test'), axis=1)\n",
        "winners_bin_test_preds = matches_val.apply(lambda x: recode(x, 'winners_test_preds'), axis=1)\n",
        "print(f'f1-score на тестовой выборке: {f1_score(winners_bin_test, winners_bin_test_preds)}')"
      ],
      "metadata": {
        "colab": {
          "base_uri": "https://localhost:8080/"
        },
        "id": "02V0PbSfjkld",
        "outputId": "6e05995b-4e86-423a-f06c-d626b0b2b151"
      },
      "execution_count": 305,
      "outputs": [
        {
          "output_type": "stream",
          "name": "stdout",
          "text": [
            "f1-score на тестовой выборке: 0.4883303411131059\n"
          ]
        }
      ]
    },
    {
      "cell_type": "markdown",
      "source": [
        "## Бейзлайн, часть 2: реализация кода из статьи с учетом домашних и выездных матчей"
      ],
      "metadata": {
        "id": "53pTgRo-IXDs"
      }
    },
    {
      "cell_type": "code",
      "source": [
        "## Считаем аггрегированные показатели по забитым и пропущенным голам для выездных и домашних матчей\n",
        "agg_stats_matches_home = matches_train[\n",
        "  matches_train['venue'] == 'Home'\n",
        "].groupby('team')[['GA', 'GF']].mean()\n",
        "agg_stats_matches_away = matches_train[\n",
        "  matches_train['venue'] == 'Away'\n",
        "].groupby('team')[['GA', 'GF']].mean()"
      ],
      "metadata": {
        "id": "yCGyrU40wiaO"
      },
      "execution_count": 306,
      "outputs": []
    },
    {
      "cell_type": "code",
      "source": [
        "def predict_points(agg_stats_home, agg_stats_away, home, away):\n",
        "    ## В случае отсутствия информации о показателях для команды заполняем все нулями\n",
        "    if home not in agg_stats_home.index or home not in agg_stats_away.index:\n",
        "        lamb_home = 0\n",
        "    else:\n",
        "        lamb_home = agg_stats_home.at[home,'GF'] * agg_stats_away.at[home,'GA']\n",
        "    if away not in agg_stats_away.index or away not in agg_stats_home.index:\n",
        "        lamb_away = 0\n",
        "    else:\n",
        "        lamb_away = agg_stats_away.at[away,'GF'] * agg_stats_home.at[away,'GA']\n",
        "\n",
        "    ## Проходимся по всем возможным результатам матчей\n",
        "    prob_home, prob_away, prob_draw = 0, 0, 0\n",
        "    for x in range(0,11): #количество голов команды хозяев\n",
        "        for y in range(0, 11): #количество голов команды гостей\n",
        "            p = poisson.pmf(x, lamb_home) * poisson.pmf(y, lamb_away)\n",
        "            if x == y:\n",
        "                prob_draw += p\n",
        "            elif x > y:\n",
        "                prob_home += p\n",
        "            else:\n",
        "                prob_away += p\n",
        "    ## Считаем предполагаемые количества очков\n",
        "    points_home = 3 * prob_home + prob_draw\n",
        "    points_away = 3 * prob_away + prob_draw\n",
        "    return (points_home, points_away)"
      ],
      "metadata": {
        "id": "MJr40JnKwiaO"
      },
      "execution_count": 307,
      "outputs": []
    },
    {
      "cell_type": "code",
      "source": [
        "## Демонстрационный пример\n",
        "## Первое значение -- ожидаемое количество очков Ajaccio, второе -- Alavés\n",
        "predict_points(agg_stats_matches_home, agg_stats_matches_away, 'Ajaccio', 'Alavés')"
      ],
      "metadata": {
        "colab": {
          "base_uri": "https://localhost:8080/"
        },
        "id": "TO6mzc8z5El3",
        "outputId": "3f988f54-4316-46cf-be99-2a38a7b6db45"
      },
      "execution_count": 308,
      "outputs": [
        {
          "output_type": "execute_result",
          "data": {
            "text/plain": [
              "(0.34993774911115544, 2.3001244525162505)"
            ]
          },
          "metadata": {},
          "execution_count": 308
        }
      ]
    },
    {
      "cell_type": "code",
      "source": [
        "## Функция определения победителя с помощью предсказания\n",
        "def get_winner_preds(agg_stats_matches_home, agg_stats_matches_away, home, away):\n",
        "    points_home, points_away = predict_points(\n",
        "        agg_stats_matches_home,\n",
        "        agg_stats_matches_away,\n",
        "        home, away\n",
        "        )\n",
        "    if points_home > points_away:\n",
        "        return home\n",
        "    return away\n",
        "\n",
        "## Фунция определения реального победителя\n",
        "def get_winner(x):\n",
        "    if x['GA'] < x['GF']:\n",
        "        return x['team']\n",
        "    return x['opponent']\n",
        "\n",
        "## Функция перекодирования переменных в бинарные\n",
        "## Таргет 1 -- победа или ничья домашней команды\n",
        "def recode(x, winner):\n",
        "    if x['team'] == x[winner] and x['venue'] == 'Home':\n",
        "        return 1\n",
        "    return 0"
      ],
      "metadata": {
        "id": "acdZ-WgzwYbK"
      },
      "execution_count": 309,
      "outputs": []
    },
    {
      "cell_type": "code",
      "source": [
        "## Получаем реального победителя матча и предсказание модели для тренировочных данных\n",
        "matches_train['winners_train'] = matches_train.apply(lambda x: get_winner(x), axis=1)\n",
        "matches_train['winners_train_preds'] = matches_train.apply(\n",
        "    lambda x: get_winner_preds(agg_stats_matches_home, agg_stats_matches_away, x['team'], x['opponent']), axis=1\n",
        "    )"
      ],
      "metadata": {
        "colab": {
          "base_uri": "https://localhost:8080/"
        },
        "outputId": "05058fdd-d475-4cb7-b2ca-484aeacf9010",
        "id": "-KbGVm2h1Att"
      },
      "execution_count": 310,
      "outputs": [
        {
          "output_type": "stream",
          "name": "stderr",
          "text": [
            "<ipython-input-310-f42de2582836>:2: SettingWithCopyWarning: \n",
            "A value is trying to be set on a copy of a slice from a DataFrame.\n",
            "Try using .loc[row_indexer,col_indexer] = value instead\n",
            "\n",
            "See the caveats in the documentation: https://pandas.pydata.org/pandas-docs/stable/user_guide/indexing.html#returning-a-view-versus-a-copy\n",
            "  matches_train['winners_train'] = matches_train.apply(lambda x: get_winner(x), axis=1)\n",
            "<ipython-input-310-f42de2582836>:3: SettingWithCopyWarning: \n",
            "A value is trying to be set on a copy of a slice from a DataFrame.\n",
            "Try using .loc[row_indexer,col_indexer] = value instead\n",
            "\n",
            "See the caveats in the documentation: https://pandas.pydata.org/pandas-docs/stable/user_guide/indexing.html#returning-a-view-versus-a-copy\n",
            "  matches_train['winners_train_preds'] = matches_train.apply(\n"
          ]
        }
      ]
    },
    {
      "cell_type": "code",
      "source": [
        "## Переводим таргет в бинарный флаг и считаем метрики для тренировочных данных\n",
        "winners_bin_train = matches_train.apply(lambda x: recode(x, 'winners_train'), axis=1)\n",
        "winners_bin_train_preds = matches_train.apply(lambda x: recode(x, 'winners_train_preds'), axis=1)\n",
        "print(f'f1-score на тренировочной выборке: {f1_score(winners_bin_train, winners_bin_train_preds)}')"
      ],
      "metadata": {
        "colab": {
          "base_uri": "https://localhost:8080/"
        },
        "outputId": "5e2577ed-29fc-40a3-c249-c308b6279788",
        "id": "BEbzaqSu1Att"
      },
      "execution_count": 311,
      "outputs": [
        {
          "output_type": "stream",
          "name": "stdout",
          "text": [
            "f1-score на тренировочной выборке: 0.6785241248817407\n"
          ]
        }
      ]
    },
    {
      "cell_type": "code",
      "source": [
        "## Получаем реального победителя матча и предсказание модели для тестовых данных\n",
        "matches_val['winners_test'] = matches_val.apply(lambda x: get_winner(x), axis=1)\n",
        "matches_val['winners_test_preds'] = matches_val.apply(\n",
        "    lambda x: get_winner_preds(agg_stats_matches_home, agg_stats_matches_away, x['team'], x['opponent']), axis=1\n",
        "    )"
      ],
      "metadata": {
        "colab": {
          "base_uri": "https://localhost:8080/"
        },
        "id": "szkSH_rH1Att",
        "outputId": "3b7019d1-b175-40b6-cdfb-0d4af84cdd41"
      },
      "execution_count": 312,
      "outputs": [
        {
          "output_type": "stream",
          "name": "stderr",
          "text": [
            "<ipython-input-312-d27d04c0e2a4>:2: SettingWithCopyWarning: \n",
            "A value is trying to be set on a copy of a slice from a DataFrame.\n",
            "Try using .loc[row_indexer,col_indexer] = value instead\n",
            "\n",
            "See the caveats in the documentation: https://pandas.pydata.org/pandas-docs/stable/user_guide/indexing.html#returning-a-view-versus-a-copy\n",
            "  matches_val['winners_test'] = matches_val.apply(lambda x: get_winner(x), axis=1)\n",
            "<ipython-input-312-d27d04c0e2a4>:3: SettingWithCopyWarning: \n",
            "A value is trying to be set on a copy of a slice from a DataFrame.\n",
            "Try using .loc[row_indexer,col_indexer] = value instead\n",
            "\n",
            "See the caveats in the documentation: https://pandas.pydata.org/pandas-docs/stable/user_guide/indexing.html#returning-a-view-versus-a-copy\n",
            "  matches_val['winners_test_preds'] = matches_val.apply(\n"
          ]
        }
      ]
    },
    {
      "cell_type": "code",
      "source": [
        "## Переводим таргет в бинарный флаг и считаем метрики для тестовых данных\n",
        "winners_bin_test = matches_val.apply(lambda x: recode(x, 'winners_test'), axis=1)\n",
        "winners_bin_test_preds = matches_val.apply(lambda x: recode(x, 'winners_test_preds'), axis=1)\n",
        "print(f'f1-score на тестовой выборке: {f1_score(winners_bin_test, winners_bin_test_preds)}')"
      ],
      "metadata": {
        "colab": {
          "base_uri": "https://localhost:8080/"
        },
        "outputId": "9bd43803-514e-446c-f085-c5d5624a1a49",
        "id": "5oyb_q8P1Atu"
      },
      "execution_count": 313,
      "outputs": [
        {
          "output_type": "stream",
          "name": "stdout",
          "text": [
            "f1-score на тестовой выборке: 0.6998841251448435\n"
          ]
        }
      ]
    },
    {
      "cell_type": "markdown",
      "source": [
        "## Лучший результат -- 0.699"
      ],
      "metadata": {
        "id": "QtgTV3jcEeV2"
      }
    }
  ]
}